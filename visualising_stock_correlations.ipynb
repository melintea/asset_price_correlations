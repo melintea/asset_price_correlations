{
 "cells": [
  {
   "cell_type": "markdown",
   "metadata": {},
   "source": [
    "# Network Analytics\n",
    "\n",
    "## Visualising correlations between asset prices \n",
    "\n",
    "---------------------------"
   ]
  },
  {
   "cell_type": "markdown",
   "metadata": {},
   "source": [
    "\n",
    "Original code & explanations atL https://nbviewer.org/github/julian-west/asset_price_correlations/blob/master/visualising_stock_correlations.ipynb"
   ]
  },
  {
   "cell_type": "code",
   "execution_count": 45,
   "metadata": {},
   "outputs": [
    {
     "data": {
      "text/html": [
       "        <script type=\"text/javascript\">\n",
       "        window.PlotlyConfig = {MathJaxConfig: 'local'};\n",
       "        if (window.MathJax && window.MathJax.Hub && window.MathJax.Hub.Config) {window.MathJax.Hub.Config({SVG: {font: \"STIX-Web\"}});}\n",
       "        if (typeof require !== 'undefined') {\n",
       "        require.undef(\"plotly\");\n",
       "        requirejs.config({\n",
       "            paths: {\n",
       "                'plotly': ['https://cdn.plot.ly/plotly-2.27.0.min']\n",
       "            }\n",
       "        });\n",
       "        require(['plotly'], function(Plotly) {\n",
       "            window._Plotly = Plotly;\n",
       "        });\n",
       "        }\n",
       "        </script>\n",
       "        "
      ]
     },
     "metadata": {},
     "output_type": "display_data"
    },
    {
     "data": {
      "application/javascript": "\n            setTimeout(function() {\n                var nbb_cell_id = 45;\n                var nbb_unformatted_code = \"import csv\\nimport datetime\\nimport kaleido\\nimport matplotlib.pyplot as plt\\nimport networkx as nx\\nimport numpy as np\\nimport pandas as pd\\nimport plotly.express as px\\nimport plotly.graph_objs as go\\nimport seaborn as sns\\nimport scipy \\nimport yfinance as yf\\nfrom pandas_datareader import data as pdr\\nfrom plotly.offline import init_notebook_mode\\n\\n\\n# plotly offline mode\\ninit_notebook_mode(connected=True)\";\n                var nbb_formatted_code = \"import csv\\nimport datetime\\nimport kaleido\\nimport matplotlib.pyplot as plt\\nimport networkx as nx\\nimport numpy as np\\nimport pandas as pd\\nimport plotly.express as px\\nimport plotly.graph_objs as go\\nimport seaborn as sns\\nimport scipy\\nimport yfinance as yf\\nfrom pandas_datareader import data as pdr\\nfrom plotly.offline import init_notebook_mode\\n\\n\\n# plotly offline mode\\ninit_notebook_mode(connected=True)\";\n                var nbb_cells = Jupyter.notebook.get_cells();\n                for (var i = 0; i < nbb_cells.length; ++i) {\n                    if (nbb_cells[i].input_prompt_number == nbb_cell_id) {\n                        if (nbb_cells[i].get_text() == nbb_unformatted_code) {\n                             nbb_cells[i].set_text(nbb_formatted_code);\n                        }\n                        break;\n                    }\n                }\n            }, 500);\n            ",
      "text/plain": [
       "<IPython.core.display.Javascript object>"
      ]
     },
     "metadata": {},
     "output_type": "display_data"
    }
   ],
   "source": [
    "import csv\n",
    "import datetime\n",
    "import kaleido\n",
    "import matplotlib.pyplot as plt\n",
    "import networkx as nx\n",
    "import numpy as np\n",
    "import pandas as pd\n",
    "import plotly.express as px\n",
    "import plotly.graph_objs as go\n",
    "import seaborn as sns\n",
    "import scipy \n",
    "import yfinance as yf\n",
    "from pandas_datareader import data as pdr\n",
    "from plotly.offline import init_notebook_mode\n",
    "\n",
    "\n",
    "# plotly offline mode\n",
    "init_notebook_mode(connected=True)"
   ]
  },
  {
   "cell_type": "code",
   "execution_count": 46,
   "metadata": {},
   "outputs": [
    {
     "data": {
      "application/javascript": "\n            setTimeout(function() {\n                var nbb_cell_id = 46;\n                var nbb_unformatted_code = \"# import warnings\\n# # filte\\n# warnings.filterwarnings(\\\"ignore\\\")\\n\\n# notebook formatting\\nfrom IPython.display import HTML, display\";\n                var nbb_formatted_code = \"# import warnings\\n# # filte\\n# warnings.filterwarnings(\\\"ignore\\\")\\n\\n# notebook formatting\\nfrom IPython.display import HTML, display\";\n                var nbb_cells = Jupyter.notebook.get_cells();\n                for (var i = 0; i < nbb_cells.length; ++i) {\n                    if (nbb_cells[i].input_prompt_number == nbb_cell_id) {\n                        if (nbb_cells[i].get_text() == nbb_unformatted_code) {\n                             nbb_cells[i].set_text(nbb_formatted_code);\n                        }\n                        break;\n                    }\n                }\n            }, 500);\n            ",
      "text/plain": [
       "<IPython.core.display.Javascript object>"
      ]
     },
     "metadata": {},
     "output_type": "display_data"
    }
   ],
   "source": [
    "# import warnings\n",
    "# # filte\n",
    "# warnings.filterwarnings(\"ignore\")\n",
    "\n",
    "# notebook formatting\n",
    "from IPython.display import HTML, display"
   ]
  },
  {
   "cell_type": "code",
   "execution_count": 47,
   "metadata": {},
   "outputs": [
    {
     "name": "stdout",
     "output_type": "stream",
     "text": [
      "The nb_black extension is already loaded. To reload it, use:\n",
      "  %reload_ext nb_black\n"
     ]
    },
    {
     "data": {
      "application/javascript": "\n            setTimeout(function() {\n                var nbb_cell_id = 47;\n                var nbb_unformatted_code = \"%load_ext nb_black\";\n                var nbb_formatted_code = \"%load_ext nb_black\";\n                var nbb_cells = Jupyter.notebook.get_cells();\n                for (var i = 0; i < nbb_cells.length; ++i) {\n                    if (nbb_cells[i].input_prompt_number == nbb_cell_id) {\n                        if (nbb_cells[i].get_text() == nbb_unformatted_code) {\n                             nbb_cells[i].set_text(nbb_formatted_code);\n                        }\n                        break;\n                    }\n                }\n            }, 500);\n            ",
      "text/plain": [
       "<IPython.core.display.Javascript object>"
      ]
     },
     "metadata": {},
     "output_type": "display_data"
    }
   ],
   "source": [
    "%load_ext nb_black"
   ]
  },
  {
   "cell_type": "code",
   "execution_count": 48,
   "metadata": {},
   "outputs": [
    {
     "data": {
      "application/javascript": "\n            setTimeout(function() {\n                var nbb_cell_id = 48;\n                var nbb_unformatted_code = \"# Config\\n\\nstart   = datetime.datetime(2021, 1, 1)\\nend     = datetime.date.today()\\nsymbols = [\\n    'VTI',  'VT',   'VPU',  'VNQ',  'QLTY',  'EWL', \\n    'TFPN',\\n    'VIXY', 'VIXM', \\n    'CCRV', 'CTA',  'GSG',  'KMLM', \\n    'LTPZ', 'TLT',  'VTIP', 'VWOB',\\n    'CHFUSD=X', 'CADUSD=X', 'EURUSD=X', 'UUP'\\n    ]\\netfDataFile   = 'data/daily_etf_prices.csv'\\nassetDataFile = 'data/daily_asset_prices.csv'\\n\\netfGraphJsonFile = \\\"assets/plotly_etf_prices_network.json\\\"\\netfGraphImgFile  = \\\"assets/stock_correlations_etf.html\\\"\\n\\nassetGraphJsonFile = \\\"assets/plotly_etf_prices_network.json\\\"\\nassetGraphImgFile  = \\\"assets/stock_correlations_etf.html\\\"\";\n                var nbb_formatted_code = \"# Config\\n\\nstart = datetime.datetime(2021, 1, 1)\\nend = datetime.date.today()\\nsymbols = [\\n    \\\"VTI\\\",\\n    \\\"VT\\\",\\n    \\\"VPU\\\",\\n    \\\"VNQ\\\",\\n    \\\"QLTY\\\",\\n    \\\"EWL\\\",\\n    \\\"TFPN\\\",\\n    \\\"VIXY\\\",\\n    \\\"VIXM\\\",\\n    \\\"CCRV\\\",\\n    \\\"CTA\\\",\\n    \\\"GSG\\\",\\n    \\\"KMLM\\\",\\n    \\\"LTPZ\\\",\\n    \\\"TLT\\\",\\n    \\\"VTIP\\\",\\n    \\\"VWOB\\\",\\n    \\\"CHFUSD=X\\\",\\n    \\\"CADUSD=X\\\",\\n    \\\"EURUSD=X\\\",\\n    \\\"UUP\\\",\\n]\\netfDataFile = \\\"data/daily_etf_prices.csv\\\"\\nassetDataFile = \\\"data/daily_asset_prices.csv\\\"\\n\\netfGraphJsonFile = \\\"assets/plotly_etf_prices_network.json\\\"\\netfGraphImgFile = \\\"assets/stock_correlations_etf.html\\\"\\n\\nassetGraphJsonFile = \\\"assets/plotly_etf_prices_network.json\\\"\\nassetGraphImgFile = \\\"assets/stock_correlations_etf.html\\\"\";\n                var nbb_cells = Jupyter.notebook.get_cells();\n                for (var i = 0; i < nbb_cells.length; ++i) {\n                    if (nbb_cells[i].input_prompt_number == nbb_cell_id) {\n                        if (nbb_cells[i].get_text() == nbb_unformatted_code) {\n                             nbb_cells[i].set_text(nbb_formatted_code);\n                        }\n                        break;\n                    }\n                }\n            }, 500);\n            ",
      "text/plain": [
       "<IPython.core.display.Javascript object>"
      ]
     },
     "metadata": {},
     "output_type": "display_data"
    }
   ],
   "source": [
    "# Config\n",
    "\n",
    "start   = datetime.datetime(2021, 1, 1)\n",
    "end     = datetime.date.today()\n",
    "symbols = [\n",
    "    'VTI',  'VT',   'VPU',  'VNQ',  'QLTY',  'EWL', \n",
    "    'TFPN',\n",
    "    'VIXY', 'VIXM', \n",
    "    'CCRV', 'CTA',  'GSG',  'KMLM', \n",
    "    'LTPZ', 'TLT',  'VTIP', 'VWOB',\n",
    "    'CHFUSD=X', 'CADUSD=X', 'EURUSD=X', 'UUP'\n",
    "    ]\n",
    "etfDataFile   = 'data/daily_etf_prices.csv'\n",
    "assetDataFile = 'data/daily_asset_prices.csv'\n",
    "\n",
    "etfGraphJsonFile = \"assets/plotly_etf_prices_network.json\"\n",
    "etfGraphImgFile  = \"assets/stock_correlations_etf.html\"\n",
    "\n",
    "assetGraphJsonFile = \"assets/plotly_etf_prices_network.json\"\n",
    "assetGraphImgFile  = \"assets/stock_correlations_etf.html\""
   ]
  },
  {
   "cell_type": "code",
   "execution_count": 49,
   "metadata": {},
   "outputs": [
    {
     "name": "stdout",
     "output_type": "stream",
     "text": [
      "[******************    38%%                      ]  8 of 21 completed"
     ]
    },
    {
     "name": "stdout",
     "output_type": "stream",
     "text": [
      "[*********************100%%**********************]  21 of 21 completed\n"
     ]
    },
    {
     "data": {
      "text/html": [
       "<div>\n",
       "<style scoped>\n",
       "    .dataframe tbody tr th:only-of-type {\n",
       "        vertical-align: middle;\n",
       "    }\n",
       "\n",
       "    .dataframe tbody tr th {\n",
       "        vertical-align: top;\n",
       "    }\n",
       "\n",
       "    .dataframe thead th {\n",
       "        text-align: right;\n",
       "    }\n",
       "</style>\n",
       "<table border=\"1\" class=\"dataframe\">\n",
       "  <thead>\n",
       "    <tr style=\"text-align: right;\">\n",
       "      <th></th>\n",
       "      <th>CADUSD=X</th>\n",
       "      <th>CCRV</th>\n",
       "      <th>CHFUSD=X</th>\n",
       "      <th>CTA</th>\n",
       "      <th>EURUSD=X</th>\n",
       "      <th>EWL</th>\n",
       "      <th>GSG</th>\n",
       "      <th>KMLM</th>\n",
       "      <th>LTPZ</th>\n",
       "      <th>QLTY</th>\n",
       "      <th>...</th>\n",
       "      <th>TLT</th>\n",
       "      <th>UUP</th>\n",
       "      <th>VIXM</th>\n",
       "      <th>VIXY</th>\n",
       "      <th>VNQ</th>\n",
       "      <th>VPU</th>\n",
       "      <th>VT</th>\n",
       "      <th>VTI</th>\n",
       "      <th>VTIP</th>\n",
       "      <th>VWOB</th>\n",
       "    </tr>\n",
       "    <tr>\n",
       "      <th>Date</th>\n",
       "      <th></th>\n",
       "      <th></th>\n",
       "      <th></th>\n",
       "      <th></th>\n",
       "      <th></th>\n",
       "      <th></th>\n",
       "      <th></th>\n",
       "      <th></th>\n",
       "      <th></th>\n",
       "      <th></th>\n",
       "      <th></th>\n",
       "      <th></th>\n",
       "      <th></th>\n",
       "      <th></th>\n",
       "      <th></th>\n",
       "      <th></th>\n",
       "      <th></th>\n",
       "      <th></th>\n",
       "      <th></th>\n",
       "      <th></th>\n",
       "      <th></th>\n",
       "    </tr>\n",
       "  </thead>\n",
       "  <tbody>\n",
       "    <tr>\n",
       "      <th>2021-01-01</th>\n",
       "      <td>0.809723</td>\n",
       "      <td>NaN</td>\n",
       "      <td>1.113462</td>\n",
       "      <td>NaN</td>\n",
       "      <td>1.218027</td>\n",
       "      <td>NaN</td>\n",
       "      <td>NaN</td>\n",
       "      <td>NaN</td>\n",
       "      <td>NaN</td>\n",
       "      <td>NaN</td>\n",
       "      <td>...</td>\n",
       "      <td>NaN</td>\n",
       "      <td>NaN</td>\n",
       "      <td>NaN</td>\n",
       "      <td>NaN</td>\n",
       "      <td>NaN</td>\n",
       "      <td>NaN</td>\n",
       "      <td>NaN</td>\n",
       "      <td>NaN</td>\n",
       "      <td>NaN</td>\n",
       "      <td>NaN</td>\n",
       "    </tr>\n",
       "    <tr>\n",
       "      <th>2021-01-04</th>\n",
       "      <td>0.786034</td>\n",
       "      <td>11.670424</td>\n",
       "      <td>1.132375</td>\n",
       "      <td>NaN</td>\n",
       "      <td>1.225070</td>\n",
       "      <td>42.539616</td>\n",
       "      <td>12.24</td>\n",
       "      <td>22.903774</td>\n",
       "      <td>77.639557</td>\n",
       "      <td>NaN</td>\n",
       "      <td>...</td>\n",
       "      <td>146.488846</td>\n",
       "      <td>22.604940</td>\n",
       "      <td>37.470001</td>\n",
       "      <td>301.000000</td>\n",
       "      <td>73.742645</td>\n",
       "      <td>121.847183</td>\n",
       "      <td>86.445671</td>\n",
       "      <td>183.422195</td>\n",
       "      <td>44.396412</td>\n",
       "      <td>70.646683</td>\n",
       "    </tr>\n",
       "    <tr>\n",
       "      <th>2021-01-05</th>\n",
       "      <td>0.782411</td>\n",
       "      <td>11.936722</td>\n",
       "      <td>1.134765</td>\n",
       "      <td>NaN</td>\n",
       "      <td>1.225160</td>\n",
       "      <td>42.850399</td>\n",
       "      <td>12.67</td>\n",
       "      <td>23.361538</td>\n",
       "      <td>77.203590</td>\n",
       "      <td>NaN</td>\n",
       "      <td>...</td>\n",
       "      <td>145.400909</td>\n",
       "      <td>22.474493</td>\n",
       "      <td>37.090000</td>\n",
       "      <td>289.600006</td>\n",
       "      <td>73.850349</td>\n",
       "      <td>121.929054</td>\n",
       "      <td>87.394188</td>\n",
       "      <td>184.903931</td>\n",
       "      <td>44.422466</td>\n",
       "      <td>70.672569</td>\n",
       "    </tr>\n",
       "    <tr>\n",
       "      <th>2021-01-06</th>\n",
       "      <td>0.788973</td>\n",
       "      <td>11.958135</td>\n",
       "      <td>1.138719</td>\n",
       "      <td>NaN</td>\n",
       "      <td>1.230027</td>\n",
       "      <td>42.662045</td>\n",
       "      <td>12.69</td>\n",
       "      <td>23.220821</td>\n",
       "      <td>76.192085</td>\n",
       "      <td>NaN</td>\n",
       "      <td>...</td>\n",
       "      <td>142.416153</td>\n",
       "      <td>22.446539</td>\n",
       "      <td>36.790001</td>\n",
       "      <td>287.799988</td>\n",
       "      <td>73.975990</td>\n",
       "      <td>125.067337</td>\n",
       "      <td>88.013992</td>\n",
       "      <td>186.567368</td>\n",
       "      <td>44.431156</td>\n",
       "      <td>70.241203</td>\n",
       "    </tr>\n",
       "    <tr>\n",
       "      <th>2021-01-07</th>\n",
       "      <td>0.789553</td>\n",
       "      <td>11.972412</td>\n",
       "      <td>1.138861</td>\n",
       "      <td>NaN</td>\n",
       "      <td>1.234111</td>\n",
       "      <td>42.680882</td>\n",
       "      <td>12.71</td>\n",
       "      <td>22.992374</td>\n",
       "      <td>75.721214</td>\n",
       "      <td>NaN</td>\n",
       "      <td>...</td>\n",
       "      <td>141.160812</td>\n",
       "      <td>22.576986</td>\n",
       "      <td>36.250000</td>\n",
       "      <td>270.200012</td>\n",
       "      <td>73.832405</td>\n",
       "      <td>123.493637</td>\n",
       "      <td>88.906151</td>\n",
       "      <td>189.559555</td>\n",
       "      <td>44.509338</td>\n",
       "      <td>70.232590</td>\n",
       "    </tr>\n",
       "  </tbody>\n",
       "</table>\n",
       "<p>5 rows × 21 columns</p>\n",
       "</div>"
      ],
      "text/plain": [
       "            CADUSD=X       CCRV  CHFUSD=X  CTA  EURUSD=X        EWL    GSG  \\\n",
       "Date                                                                         \n",
       "2021-01-01  0.809723        NaN  1.113462  NaN  1.218027        NaN    NaN   \n",
       "2021-01-04  0.786034  11.670424  1.132375  NaN  1.225070  42.539616  12.24   \n",
       "2021-01-05  0.782411  11.936722  1.134765  NaN  1.225160  42.850399  12.67   \n",
       "2021-01-06  0.788973  11.958135  1.138719  NaN  1.230027  42.662045  12.69   \n",
       "2021-01-07  0.789553  11.972412  1.138861  NaN  1.234111  42.680882  12.71   \n",
       "\n",
       "                 KMLM       LTPZ  QLTY  ...         TLT        UUP       VIXM  \\\n",
       "Date                                    ...                                     \n",
       "2021-01-01        NaN        NaN   NaN  ...         NaN        NaN        NaN   \n",
       "2021-01-04  22.903774  77.639557   NaN  ...  146.488846  22.604940  37.470001   \n",
       "2021-01-05  23.361538  77.203590   NaN  ...  145.400909  22.474493  37.090000   \n",
       "2021-01-06  23.220821  76.192085   NaN  ...  142.416153  22.446539  36.790001   \n",
       "2021-01-07  22.992374  75.721214   NaN  ...  141.160812  22.576986  36.250000   \n",
       "\n",
       "                  VIXY        VNQ         VPU         VT         VTI  \\\n",
       "Date                                                                   \n",
       "2021-01-01         NaN        NaN         NaN        NaN         NaN   \n",
       "2021-01-04  301.000000  73.742645  121.847183  86.445671  183.422195   \n",
       "2021-01-05  289.600006  73.850349  121.929054  87.394188  184.903931   \n",
       "2021-01-06  287.799988  73.975990  125.067337  88.013992  186.567368   \n",
       "2021-01-07  270.200012  73.832405  123.493637  88.906151  189.559555   \n",
       "\n",
       "                 VTIP       VWOB  \n",
       "Date                              \n",
       "2021-01-01        NaN        NaN  \n",
       "2021-01-04  44.396412  70.646683  \n",
       "2021-01-05  44.422466  70.672569  \n",
       "2021-01-06  44.431156  70.241203  \n",
       "2021-01-07  44.509338  70.232590  \n",
       "\n",
       "[5 rows x 21 columns]"
      ]
     },
     "execution_count": 49,
     "metadata": {},
     "output_type": "execute_result"
    },
    {
     "data": {
      "application/javascript": "\n            setTimeout(function() {\n                var nbb_cell_id = 49;\n                var nbb_unformatted_code = \"# Fetch fresh data & save it\\n\\nyf.pdr_override()\\netfData = pdr.get_data_yahoo(symbols, start, end)['Adj Close']\\netfData.to_csv(etfDataFile)\\n\\netfData.head()\";\n                var nbb_formatted_code = \"# Fetch fresh data & save it\\n\\nyf.pdr_override()\\netfData = pdr.get_data_yahoo(symbols, start, end)[\\\"Adj Close\\\"]\\netfData.to_csv(etfDataFile)\\n\\netfData.head()\";\n                var nbb_cells = Jupyter.notebook.get_cells();\n                for (var i = 0; i < nbb_cells.length; ++i) {\n                    if (nbb_cells[i].input_prompt_number == nbb_cell_id) {\n                        if (nbb_cells[i].get_text() == nbb_unformatted_code) {\n                             nbb_cells[i].set_text(nbb_formatted_code);\n                        }\n                        break;\n                    }\n                }\n            }, 500);\n            ",
      "text/plain": [
       "<IPython.core.display.Javascript object>"
      ]
     },
     "metadata": {},
     "output_type": "display_data"
    }
   ],
   "source": [
    "# Fetch fresh data & save it\n",
    "\n",
    "yf.pdr_override()\n",
    "etfData = pdr.get_data_yahoo(symbols, start, end)['Adj Close']\n",
    "etfData.to_csv(etfDataFile)\n",
    "\n",
    "etfData.head()\n"
   ]
  },
  {
   "cell_type": "code",
   "execution_count": 50,
   "metadata": {},
   "outputs": [
    {
     "data": {
      "text/html": [
       "<div>\n",
       "<style scoped>\n",
       "    .dataframe tbody tr th:only-of-type {\n",
       "        vertical-align: middle;\n",
       "    }\n",
       "\n",
       "    .dataframe tbody tr th {\n",
       "        vertical-align: top;\n",
       "    }\n",
       "\n",
       "    .dataframe thead th {\n",
       "        text-align: right;\n",
       "    }\n",
       "</style>\n",
       "<table border=\"1\" class=\"dataframe\">\n",
       "  <thead>\n",
       "    <tr style=\"text-align: right;\">\n",
       "      <th></th>\n",
       "      <th>Bonds Global</th>\n",
       "      <th>Commodities</th>\n",
       "      <th>DOW</th>\n",
       "      <th>Emerg Markets</th>\n",
       "      <th>EAFE</th>\n",
       "      <th>Emerg Markets Bonds</th>\n",
       "      <th>Pacifix ex Japan</th>\n",
       "      <th>Germany</th>\n",
       "      <th>Italy</th>\n",
       "      <th>Japan</th>\n",
       "      <th>...</th>\n",
       "      <th>Europe</th>\n",
       "      <th>Pacific</th>\n",
       "      <th>VXX</th>\n",
       "      <th>Materials</th>\n",
       "      <th>Energy</th>\n",
       "      <th>Finance</th>\n",
       "      <th>Tech</th>\n",
       "      <th>Utilities</th>\n",
       "      <th>ST Corp Bond</th>\n",
       "      <th>CHF</th>\n",
       "    </tr>\n",
       "    <tr>\n",
       "      <th>Date</th>\n",
       "      <th></th>\n",
       "      <th></th>\n",
       "      <th></th>\n",
       "      <th></th>\n",
       "      <th></th>\n",
       "      <th></th>\n",
       "      <th></th>\n",
       "      <th></th>\n",
       "      <th></th>\n",
       "      <th></th>\n",
       "      <th></th>\n",
       "      <th></th>\n",
       "      <th></th>\n",
       "      <th></th>\n",
       "      <th></th>\n",
       "      <th></th>\n",
       "      <th></th>\n",
       "      <th></th>\n",
       "      <th></th>\n",
       "      <th></th>\n",
       "      <th></th>\n",
       "    </tr>\n",
       "  </thead>\n",
       "  <tbody>\n",
       "    <tr>\n",
       "      <th>2017-11-08</th>\n",
       "      <td>81.83</td>\n",
       "      <td>16.40</td>\n",
       "      <td>235.46</td>\n",
       "      <td>46.78</td>\n",
       "      <td>69.87</td>\n",
       "      <td>114.60</td>\n",
       "      <td>47.69</td>\n",
       "      <td>33.18</td>\n",
       "      <td>30.95</td>\n",
       "      <td>60.02</td>\n",
       "      <td>...</td>\n",
       "      <td>58.20</td>\n",
       "      <td>72.77</td>\n",
       "      <td>33.53</td>\n",
       "      <td>58.70</td>\n",
       "      <td>69.82</td>\n",
       "      <td>26.25</td>\n",
       "      <td>64.01</td>\n",
       "      <td>55.70</td>\n",
       "      <td>104.96</td>\n",
       "      <td>94.5100</td>\n",
       "    </tr>\n",
       "    <tr>\n",
       "      <th>2017-11-07</th>\n",
       "      <td>81.89</td>\n",
       "      <td>16.43</td>\n",
       "      <td>235.42</td>\n",
       "      <td>46.56</td>\n",
       "      <td>69.64</td>\n",
       "      <td>114.65</td>\n",
       "      <td>47.22</td>\n",
       "      <td>33.07</td>\n",
       "      <td>31.09</td>\n",
       "      <td>59.65</td>\n",
       "      <td>...</td>\n",
       "      <td>58.17</td>\n",
       "      <td>72.20</td>\n",
       "      <td>33.52</td>\n",
       "      <td>58.64</td>\n",
       "      <td>70.16</td>\n",
       "      <td>26.38</td>\n",
       "      <td>63.66</td>\n",
       "      <td>55.66</td>\n",
       "      <td>105.01</td>\n",
       "      <td>94.5400</td>\n",
       "    </tr>\n",
       "    <tr>\n",
       "      <th>2017-11-06</th>\n",
       "      <td>81.86</td>\n",
       "      <td>16.53</td>\n",
       "      <td>235.41</td>\n",
       "      <td>46.86</td>\n",
       "      <td>69.90</td>\n",
       "      <td>115.26</td>\n",
       "      <td>47.20</td>\n",
       "      <td>33.34</td>\n",
       "      <td>31.22</td>\n",
       "      <td>59.18</td>\n",
       "      <td>...</td>\n",
       "      <td>58.67</td>\n",
       "      <td>71.98</td>\n",
       "      <td>33.34</td>\n",
       "      <td>58.58</td>\n",
       "      <td>70.25</td>\n",
       "      <td>26.75</td>\n",
       "      <td>63.63</td>\n",
       "      <td>55.00</td>\n",
       "      <td>105.00</td>\n",
       "      <td>94.7500</td>\n",
       "    </tr>\n",
       "    <tr>\n",
       "      <th>2017-11-03</th>\n",
       "      <td>81.80</td>\n",
       "      <td>16.22</td>\n",
       "      <td>235.18</td>\n",
       "      <td>46.34</td>\n",
       "      <td>69.80</td>\n",
       "      <td>115.42</td>\n",
       "      <td>47.09</td>\n",
       "      <td>33.39</td>\n",
       "      <td>31.22</td>\n",
       "      <td>59.19</td>\n",
       "      <td>...</td>\n",
       "      <td>58.58</td>\n",
       "      <td>71.88</td>\n",
       "      <td>33.66</td>\n",
       "      <td>58.83</td>\n",
       "      <td>68.68</td>\n",
       "      <td>26.78</td>\n",
       "      <td>63.49</td>\n",
       "      <td>55.21</td>\n",
       "      <td>105.00</td>\n",
       "      <td>94.4400</td>\n",
       "    </tr>\n",
       "    <tr>\n",
       "      <th>2017-11-02</th>\n",
       "      <td>81.73</td>\n",
       "      <td>16.12</td>\n",
       "      <td>234.96</td>\n",
       "      <td>46.58</td>\n",
       "      <td>69.91</td>\n",
       "      <td>116.15</td>\n",
       "      <td>47.31</td>\n",
       "      <td>33.50</td>\n",
       "      <td>31.43</td>\n",
       "      <td>59.05</td>\n",
       "      <td>...</td>\n",
       "      <td>58.69</td>\n",
       "      <td>71.89</td>\n",
       "      <td>33.71</td>\n",
       "      <td>58.86</td>\n",
       "      <td>68.48</td>\n",
       "      <td>26.89</td>\n",
       "      <td>62.99</td>\n",
       "      <td>55.01</td>\n",
       "      <td>105.04</td>\n",
       "      <td>94.6299</td>\n",
       "    </tr>\n",
       "  </tbody>\n",
       "</table>\n",
       "<p>5 rows × 39 columns</p>\n",
       "</div>"
      ],
      "text/plain": [
       "            Bonds Global  Commodities     DOW  Emerg Markets   EAFE  \\\n",
       "Date                                                                  \n",
       "2017-11-08         81.83        16.40  235.46          46.78  69.87   \n",
       "2017-11-07         81.89        16.43  235.42          46.56  69.64   \n",
       "2017-11-06         81.86        16.53  235.41          46.86  69.90   \n",
       "2017-11-03         81.80        16.22  235.18          46.34  69.80   \n",
       "2017-11-02         81.73        16.12  234.96          46.58  69.91   \n",
       "\n",
       "            Emerg Markets Bonds  Pacifix ex Japan  Germany  Italy  Japan  ...  \\\n",
       "Date                                                                      ...   \n",
       "2017-11-08               114.60             47.69    33.18  30.95  60.02  ...   \n",
       "2017-11-07               114.65             47.22    33.07  31.09  59.65  ...   \n",
       "2017-11-06               115.26             47.20    33.34  31.22  59.18  ...   \n",
       "2017-11-03               115.42             47.09    33.39  31.22  59.19  ...   \n",
       "2017-11-02               116.15             47.31    33.50  31.43  59.05  ...   \n",
       "\n",
       "            Europe  Pacific     VXX  Materials  Energy  Finance   Tech  \\\n",
       "Date                                                                     \n",
       "2017-11-08   58.20     72.77  33.53      58.70   69.82    26.25  64.01   \n",
       "2017-11-07   58.17     72.20  33.52      58.64   70.16    26.38  63.66   \n",
       "2017-11-06   58.67     71.98  33.34      58.58   70.25    26.75  63.63   \n",
       "2017-11-03   58.58     71.88  33.66      58.83   68.68    26.78  63.49   \n",
       "2017-11-02   58.69     71.89  33.71      58.86   68.48    26.89  62.99   \n",
       "\n",
       "            Utilities  ST Corp Bond      CHF  \n",
       "Date                                          \n",
       "2017-11-08      55.70        104.96  94.5100  \n",
       "2017-11-07      55.66        105.01  94.5400  \n",
       "2017-11-06      55.00        105.00  94.7500  \n",
       "2017-11-03      55.21        105.00  94.4400  \n",
       "2017-11-02      55.01        105.04  94.6299  \n",
       "\n",
       "[5 rows x 39 columns]"
      ]
     },
     "execution_count": 50,
     "metadata": {},
     "output_type": "execute_result"
    },
    {
     "data": {
      "application/javascript": "\n            setTimeout(function() {\n                var nbb_cell_id = 50;\n                var nbb_unformatted_code = \"# read csv file\\nassetData = pd.read_csv(\\\"data/daily_asset_prices.csv\\\", index_col=\\\"Date\\\")\\n\\n# show first five rows\\nassetData.head()\";\n                var nbb_formatted_code = \"# read csv file\\nassetData = pd.read_csv(\\\"data/daily_asset_prices.csv\\\", index_col=\\\"Date\\\")\\n\\n# show first five rows\\nassetData.head()\";\n                var nbb_cells = Jupyter.notebook.get_cells();\n                for (var i = 0; i < nbb_cells.length; ++i) {\n                    if (nbb_cells[i].input_prompt_number == nbb_cell_id) {\n                        if (nbb_cells[i].get_text() == nbb_unformatted_code) {\n                             nbb_cells[i].set_text(nbb_formatted_code);\n                        }\n                        break;\n                    }\n                }\n            }, 500);\n            ",
      "text/plain": [
       "<IPython.core.display.Javascript object>"
      ]
     },
     "metadata": {},
     "output_type": "display_data"
    }
   ],
   "source": [
    "# read csv file\n",
    "assetData = pd.read_csv(\"data/daily_asset_prices.csv\", index_col=\"Date\")\n",
    "\n",
    "# show first five rows\n",
    "assetData.head()"
   ]
  },
  {
   "cell_type": "code",
   "execution_count": 51,
   "metadata": {},
   "outputs": [
    {
     "data": {
      "application/javascript": "\n            setTimeout(function() {\n                var nbb_cell_id = 51;\n                var nbb_unformatted_code = \"def log_returns(dataFrame):\\n    # create empty dataframe for log returns information\\n    logReturnsDf = pd.DataFrame()\\n\\n    # calculate log returns of each asset\\n    # loop through each column in dataframe and and calculate the daily log returns\\n    # add log returns column to new a dataframe\\n    for col in dataFrame.columns:\\n        # dates are given in reverse order so need to set diff to -1.\\n        logReturnsDf[col] = np.log(dataFrame[col]).diff(-1)\\n\\n    return logReturnsDf\";\n                var nbb_formatted_code = \"def log_returns(dataFrame):\\n    # create empty dataframe for log returns information\\n    logReturnsDf = pd.DataFrame()\\n\\n    # calculate log returns of each asset\\n    # loop through each column in dataframe and and calculate the daily log returns\\n    # add log returns column to new a dataframe\\n    for col in dataFrame.columns:\\n        # dates are given in reverse order so need to set diff to -1.\\n        logReturnsDf[col] = np.log(dataFrame[col]).diff(-1)\\n\\n    return logReturnsDf\";\n                var nbb_cells = Jupyter.notebook.get_cells();\n                for (var i = 0; i < nbb_cells.length; ++i) {\n                    if (nbb_cells[i].input_prompt_number == nbb_cell_id) {\n                        if (nbb_cells[i].get_text() == nbb_unformatted_code) {\n                             nbb_cells[i].set_text(nbb_formatted_code);\n                        }\n                        break;\n                    }\n                }\n            }, 500);\n            ",
      "text/plain": [
       "<IPython.core.display.Javascript object>"
      ]
     },
     "metadata": {},
     "output_type": "display_data"
    }
   ],
   "source": [
    "def log_returns(dataFrame):\n",
    "    # create empty dataframe for log returns information\n",
    "    logReturnsDf = pd.DataFrame()\n",
    "\n",
    "    # calculate log returns of each asset\n",
    "    # loop through each column in dataframe and and calculate the daily log returns\n",
    "    # add log returns column to new a dataframe\n",
    "    for col in dataFrame.columns:\n",
    "        # dates are given in reverse order so need to set diff to -1.\n",
    "        logReturnsDf[col] = np.log(dataFrame[col]).diff(-1)\n",
    "\n",
    "    return logReturnsDf"
   ]
  },
  {
   "cell_type": "code",
   "execution_count": 52,
   "metadata": {},
   "outputs": [
    {
     "data": {
      "text/html": [
       "<div>\n",
       "<style scoped>\n",
       "    .dataframe tbody tr th:only-of-type {\n",
       "        vertical-align: middle;\n",
       "    }\n",
       "\n",
       "    .dataframe tbody tr th {\n",
       "        vertical-align: top;\n",
       "    }\n",
       "\n",
       "    .dataframe thead th {\n",
       "        text-align: right;\n",
       "    }\n",
       "</style>\n",
       "<table border=\"1\" class=\"dataframe\">\n",
       "  <thead>\n",
       "    <tr style=\"text-align: right;\">\n",
       "      <th></th>\n",
       "      <th>Bonds Global</th>\n",
       "      <th>Commodities</th>\n",
       "      <th>DOW</th>\n",
       "      <th>Emerg Markets</th>\n",
       "      <th>EAFE</th>\n",
       "      <th>Emerg Markets Bonds</th>\n",
       "      <th>Pacifix ex Japan</th>\n",
       "      <th>Germany</th>\n",
       "      <th>Italy</th>\n",
       "      <th>Japan</th>\n",
       "      <th>...</th>\n",
       "      <th>Europe</th>\n",
       "      <th>Pacific</th>\n",
       "      <th>VXX</th>\n",
       "      <th>Materials</th>\n",
       "      <th>Energy</th>\n",
       "      <th>Finance</th>\n",
       "      <th>Tech</th>\n",
       "      <th>Utilities</th>\n",
       "      <th>ST Corp Bond</th>\n",
       "      <th>CHF</th>\n",
       "    </tr>\n",
       "    <tr>\n",
       "      <th>Date</th>\n",
       "      <th></th>\n",
       "      <th></th>\n",
       "      <th></th>\n",
       "      <th></th>\n",
       "      <th></th>\n",
       "      <th></th>\n",
       "      <th></th>\n",
       "      <th></th>\n",
       "      <th></th>\n",
       "      <th></th>\n",
       "      <th></th>\n",
       "      <th></th>\n",
       "      <th></th>\n",
       "      <th></th>\n",
       "      <th></th>\n",
       "      <th></th>\n",
       "      <th></th>\n",
       "      <th></th>\n",
       "      <th></th>\n",
       "      <th></th>\n",
       "      <th></th>\n",
       "    </tr>\n",
       "  </thead>\n",
       "  <tbody>\n",
       "    <tr>\n",
       "      <th>2017-11-08</th>\n",
       "      <td>-0.000733</td>\n",
       "      <td>-0.001828</td>\n",
       "      <td>0.000170</td>\n",
       "      <td>0.004714</td>\n",
       "      <td>0.003297</td>\n",
       "      <td>-0.000436</td>\n",
       "      <td>0.009904</td>\n",
       "      <td>0.003321</td>\n",
       "      <td>-0.004513</td>\n",
       "      <td>0.006184</td>\n",
       "      <td>...</td>\n",
       "      <td>0.000516</td>\n",
       "      <td>0.007864</td>\n",
       "      <td>0.000298</td>\n",
       "      <td>0.001023</td>\n",
       "      <td>-0.004858</td>\n",
       "      <td>-0.004940</td>\n",
       "      <td>0.005483</td>\n",
       "      <td>0.000718</td>\n",
       "      <td>-0.000476</td>\n",
       "      <td>-0.000317</td>\n",
       "    </tr>\n",
       "    <tr>\n",
       "      <th>2017-11-07</th>\n",
       "      <td>0.000366</td>\n",
       "      <td>-0.006068</td>\n",
       "      <td>0.000042</td>\n",
       "      <td>-0.006423</td>\n",
       "      <td>-0.003727</td>\n",
       "      <td>-0.005306</td>\n",
       "      <td>0.000424</td>\n",
       "      <td>-0.008131</td>\n",
       "      <td>-0.004173</td>\n",
       "      <td>0.007911</td>\n",
       "      <td>...</td>\n",
       "      <td>-0.008559</td>\n",
       "      <td>0.003052</td>\n",
       "      <td>0.005384</td>\n",
       "      <td>0.001024</td>\n",
       "      <td>-0.001282</td>\n",
       "      <td>-0.013928</td>\n",
       "      <td>0.000471</td>\n",
       "      <td>0.011929</td>\n",
       "      <td>0.000095</td>\n",
       "      <td>-0.002219</td>\n",
       "    </tr>\n",
       "    <tr>\n",
       "      <th>2017-11-06</th>\n",
       "      <td>0.000733</td>\n",
       "      <td>0.018932</td>\n",
       "      <td>0.000977</td>\n",
       "      <td>0.011159</td>\n",
       "      <td>0.001432</td>\n",
       "      <td>-0.001387</td>\n",
       "      <td>0.002333</td>\n",
       "      <td>-0.001499</td>\n",
       "      <td>0.000000</td>\n",
       "      <td>-0.000169</td>\n",
       "      <td>...</td>\n",
       "      <td>0.001535</td>\n",
       "      <td>0.001390</td>\n",
       "      <td>-0.009552</td>\n",
       "      <td>-0.004259</td>\n",
       "      <td>0.022602</td>\n",
       "      <td>-0.001121</td>\n",
       "      <td>0.002203</td>\n",
       "      <td>-0.003811</td>\n",
       "      <td>0.000000</td>\n",
       "      <td>0.003277</td>\n",
       "    </tr>\n",
       "    <tr>\n",
       "      <th>2017-11-03</th>\n",
       "      <td>0.000856</td>\n",
       "      <td>0.006184</td>\n",
       "      <td>0.000936</td>\n",
       "      <td>-0.005166</td>\n",
       "      <td>-0.001575</td>\n",
       "      <td>-0.006305</td>\n",
       "      <td>-0.004661</td>\n",
       "      <td>-0.003289</td>\n",
       "      <td>-0.006704</td>\n",
       "      <td>0.002368</td>\n",
       "      <td>...</td>\n",
       "      <td>-0.001876</td>\n",
       "      <td>-0.000139</td>\n",
       "      <td>-0.001484</td>\n",
       "      <td>-0.000510</td>\n",
       "      <td>0.002916</td>\n",
       "      <td>-0.004099</td>\n",
       "      <td>0.007906</td>\n",
       "      <td>0.003629</td>\n",
       "      <td>-0.000381</td>\n",
       "      <td>-0.002009</td>\n",
       "    </tr>\n",
       "    <tr>\n",
       "      <th>2017-11-02</th>\n",
       "      <td>0.000979</td>\n",
       "      <td>0.006223</td>\n",
       "      <td>0.003283</td>\n",
       "      <td>0.001289</td>\n",
       "      <td>0.003008</td>\n",
       "      <td>0.002759</td>\n",
       "      <td>0.005723</td>\n",
       "      <td>0.004488</td>\n",
       "      <td>0.009591</td>\n",
       "      <td>0.001186</td>\n",
       "      <td>...</td>\n",
       "      <td>0.002559</td>\n",
       "      <td>0.002089</td>\n",
       "      <td>-0.011210</td>\n",
       "      <td>-0.007279</td>\n",
       "      <td>-0.002916</td>\n",
       "      <td>0.009341</td>\n",
       "      <td>0.000476</td>\n",
       "      <td>0.003642</td>\n",
       "      <td>0.000000</td>\n",
       "      <td>0.004553</td>\n",
       "    </tr>\n",
       "  </tbody>\n",
       "</table>\n",
       "<p>5 rows × 39 columns</p>\n",
       "</div>"
      ],
      "text/plain": [
       "            Bonds Global  Commodities       DOW  Emerg Markets      EAFE  \\\n",
       "Date                                                                       \n",
       "2017-11-08     -0.000733    -0.001828  0.000170       0.004714  0.003297   \n",
       "2017-11-07      0.000366    -0.006068  0.000042      -0.006423 -0.003727   \n",
       "2017-11-06      0.000733     0.018932  0.000977       0.011159  0.001432   \n",
       "2017-11-03      0.000856     0.006184  0.000936      -0.005166 -0.001575   \n",
       "2017-11-02      0.000979     0.006223  0.003283       0.001289  0.003008   \n",
       "\n",
       "            Emerg Markets Bonds  Pacifix ex Japan   Germany     Italy  \\\n",
       "Date                                                                    \n",
       "2017-11-08            -0.000436          0.009904  0.003321 -0.004513   \n",
       "2017-11-07            -0.005306          0.000424 -0.008131 -0.004173   \n",
       "2017-11-06            -0.001387          0.002333 -0.001499  0.000000   \n",
       "2017-11-03            -0.006305         -0.004661 -0.003289 -0.006704   \n",
       "2017-11-02             0.002759          0.005723  0.004488  0.009591   \n",
       "\n",
       "               Japan  ...    Europe  Pacific        VXX  Materials    Energy  \\\n",
       "Date                  ...                                                      \n",
       "2017-11-08  0.006184  ...  0.000516  0.007864  0.000298   0.001023 -0.004858   \n",
       "2017-11-07  0.007911  ... -0.008559  0.003052  0.005384   0.001024 -0.001282   \n",
       "2017-11-06 -0.000169  ...  0.001535  0.001390 -0.009552  -0.004259  0.022602   \n",
       "2017-11-03  0.002368  ... -0.001876 -0.000139 -0.001484  -0.000510  0.002916   \n",
       "2017-11-02  0.001186  ...  0.002559  0.002089 -0.011210  -0.007279 -0.002916   \n",
       "\n",
       "             Finance      Tech  Utilities  ST Corp Bond       CHF  \n",
       "Date                                                               \n",
       "2017-11-08 -0.004940  0.005483   0.000718     -0.000476 -0.000317  \n",
       "2017-11-07 -0.013928  0.000471   0.011929      0.000095 -0.002219  \n",
       "2017-11-06 -0.001121  0.002203  -0.003811      0.000000  0.003277  \n",
       "2017-11-03 -0.004099  0.007906   0.003629     -0.000381 -0.002009  \n",
       "2017-11-02  0.009341  0.000476   0.003642      0.000000  0.004553  \n",
       "\n",
       "[5 rows x 39 columns]"
      ]
     },
     "execution_count": 52,
     "metadata": {},
     "output_type": "execute_result"
    },
    {
     "data": {
      "application/javascript": "\n            setTimeout(function() {\n                var nbb_cell_id = 52;\n                var nbb_unformatted_code = \"assetReturns = log_returns(assetData)\\nassetReturns.head()\";\n                var nbb_formatted_code = \"assetReturns = log_returns(assetData)\\nassetReturns.head()\";\n                var nbb_cells = Jupyter.notebook.get_cells();\n                for (var i = 0; i < nbb_cells.length; ++i) {\n                    if (nbb_cells[i].input_prompt_number == nbb_cell_id) {\n                        if (nbb_cells[i].get_text() == nbb_unformatted_code) {\n                             nbb_cells[i].set_text(nbb_formatted_code);\n                        }\n                        break;\n                    }\n                }\n            }, 500);\n            ",
      "text/plain": [
       "<IPython.core.display.Javascript object>"
      ]
     },
     "metadata": {},
     "output_type": "display_data"
    }
   ],
   "source": [
    "assetReturns = log_returns(assetData)\n",
    "assetReturns.head()"
   ]
  },
  {
   "cell_type": "code",
   "execution_count": 53,
   "metadata": {},
   "outputs": [
    {
     "data": {
      "text/html": [
       "<div>\n",
       "<style scoped>\n",
       "    .dataframe tbody tr th:only-of-type {\n",
       "        vertical-align: middle;\n",
       "    }\n",
       "\n",
       "    .dataframe tbody tr th {\n",
       "        vertical-align: top;\n",
       "    }\n",
       "\n",
       "    .dataframe thead th {\n",
       "        text-align: right;\n",
       "    }\n",
       "</style>\n",
       "<table border=\"1\" class=\"dataframe\">\n",
       "  <thead>\n",
       "    <tr style=\"text-align: right;\">\n",
       "      <th></th>\n",
       "      <th>CADUSD=X</th>\n",
       "      <th>CCRV</th>\n",
       "      <th>CHFUSD=X</th>\n",
       "      <th>CTA</th>\n",
       "      <th>EURUSD=X</th>\n",
       "      <th>EWL</th>\n",
       "      <th>GSG</th>\n",
       "      <th>KMLM</th>\n",
       "      <th>LTPZ</th>\n",
       "      <th>QLTY</th>\n",
       "      <th>...</th>\n",
       "      <th>TLT</th>\n",
       "      <th>UUP</th>\n",
       "      <th>VIXM</th>\n",
       "      <th>VIXY</th>\n",
       "      <th>VNQ</th>\n",
       "      <th>VPU</th>\n",
       "      <th>VT</th>\n",
       "      <th>VTI</th>\n",
       "      <th>VTIP</th>\n",
       "      <th>VWOB</th>\n",
       "    </tr>\n",
       "    <tr>\n",
       "      <th>Date</th>\n",
       "      <th></th>\n",
       "      <th></th>\n",
       "      <th></th>\n",
       "      <th></th>\n",
       "      <th></th>\n",
       "      <th></th>\n",
       "      <th></th>\n",
       "      <th></th>\n",
       "      <th></th>\n",
       "      <th></th>\n",
       "      <th></th>\n",
       "      <th></th>\n",
       "      <th></th>\n",
       "      <th></th>\n",
       "      <th></th>\n",
       "      <th></th>\n",
       "      <th></th>\n",
       "      <th></th>\n",
       "      <th></th>\n",
       "      <th></th>\n",
       "      <th></th>\n",
       "    </tr>\n",
       "  </thead>\n",
       "  <tbody>\n",
       "    <tr>\n",
       "      <th>2021-01-01</th>\n",
       "      <td>0.029693</td>\n",
       "      <td>NaN</td>\n",
       "      <td>-0.016843</td>\n",
       "      <td>NaN</td>\n",
       "      <td>-0.005766</td>\n",
       "      <td>NaN</td>\n",
       "      <td>NaN</td>\n",
       "      <td>NaN</td>\n",
       "      <td>NaN</td>\n",
       "      <td>NaN</td>\n",
       "      <td>...</td>\n",
       "      <td>NaN</td>\n",
       "      <td>NaN</td>\n",
       "      <td>NaN</td>\n",
       "      <td>NaN</td>\n",
       "      <td>NaN</td>\n",
       "      <td>NaN</td>\n",
       "      <td>NaN</td>\n",
       "      <td>NaN</td>\n",
       "      <td>NaN</td>\n",
       "      <td>NaN</td>\n",
       "    </tr>\n",
       "    <tr>\n",
       "      <th>2021-01-04</th>\n",
       "      <td>0.004619</td>\n",
       "      <td>-0.022562</td>\n",
       "      <td>-0.002108</td>\n",
       "      <td>NaN</td>\n",
       "      <td>-0.000074</td>\n",
       "      <td>-0.007279</td>\n",
       "      <td>-0.034528</td>\n",
       "      <td>-0.019789</td>\n",
       "      <td>0.005631</td>\n",
       "      <td>NaN</td>\n",
       "      <td>...</td>\n",
       "      <td>0.007454</td>\n",
       "      <td>0.005787</td>\n",
       "      <td>0.010193</td>\n",
       "      <td>0.038610</td>\n",
       "      <td>-0.001459</td>\n",
       "      <td>-0.000672</td>\n",
       "      <td>-0.010913</td>\n",
       "      <td>-0.008046</td>\n",
       "      <td>-0.000587</td>\n",
       "      <td>-0.000366</td>\n",
       "    </tr>\n",
       "    <tr>\n",
       "      <th>2021-01-05</th>\n",
       "      <td>-0.008352</td>\n",
       "      <td>-0.001792</td>\n",
       "      <td>-0.003478</td>\n",
       "      <td>NaN</td>\n",
       "      <td>-0.003965</td>\n",
       "      <td>0.004405</td>\n",
       "      <td>-0.001577</td>\n",
       "      <td>0.006042</td>\n",
       "      <td>0.013188</td>\n",
       "      <td>NaN</td>\n",
       "      <td>...</td>\n",
       "      <td>0.020741</td>\n",
       "      <td>0.001245</td>\n",
       "      <td>0.008121</td>\n",
       "      <td>0.006235</td>\n",
       "      <td>-0.001700</td>\n",
       "      <td>-0.025413</td>\n",
       "      <td>-0.007067</td>\n",
       "      <td>-0.008956</td>\n",
       "      <td>-0.000196</td>\n",
       "      <td>0.006122</td>\n",
       "    </tr>\n",
       "    <tr>\n",
       "      <th>2021-01-06</th>\n",
       "      <td>-0.000734</td>\n",
       "      <td>-0.001193</td>\n",
       "      <td>-0.000125</td>\n",
       "      <td>NaN</td>\n",
       "      <td>-0.003314</td>\n",
       "      <td>-0.000441</td>\n",
       "      <td>-0.001575</td>\n",
       "      <td>0.009887</td>\n",
       "      <td>0.006199</td>\n",
       "      <td>NaN</td>\n",
       "      <td>...</td>\n",
       "      <td>0.008854</td>\n",
       "      <td>-0.005795</td>\n",
       "      <td>0.014787</td>\n",
       "      <td>0.063103</td>\n",
       "      <td>0.001943</td>\n",
       "      <td>0.012663</td>\n",
       "      <td>-0.010086</td>\n",
       "      <td>-0.015911</td>\n",
       "      <td>-0.001758</td>\n",
       "      <td>0.000123</td>\n",
       "    </tr>\n",
       "    <tr>\n",
       "      <th>2021-01-07</th>\n",
       "      <td>0.001452</td>\n",
       "      <td>-0.005260</td>\n",
       "      <td>0.008031</td>\n",
       "      <td>NaN</td>\n",
       "      <td>0.005661</td>\n",
       "      <td>-0.003084</td>\n",
       "      <td>-0.014063</td>\n",
       "      <td>0.002459</td>\n",
       "      <td>0.010650</td>\n",
       "      <td>NaN</td>\n",
       "      <td>...</td>\n",
       "      <td>0.003233</td>\n",
       "      <td>-0.001650</td>\n",
       "      <td>0.000552</td>\n",
       "      <td>0.009669</td>\n",
       "      <td>-0.009677</td>\n",
       "      <td>-0.007193</td>\n",
       "      <td>-0.009043</td>\n",
       "      <td>-0.004830</td>\n",
       "      <td>0.000976</td>\n",
       "      <td>-0.000123</td>\n",
       "    </tr>\n",
       "  </tbody>\n",
       "</table>\n",
       "<p>5 rows × 21 columns</p>\n",
       "</div>"
      ],
      "text/plain": [
       "            CADUSD=X      CCRV  CHFUSD=X  CTA  EURUSD=X       EWL       GSG  \\\n",
       "Date                                                                          \n",
       "2021-01-01  0.029693       NaN -0.016843  NaN -0.005766       NaN       NaN   \n",
       "2021-01-04  0.004619 -0.022562 -0.002108  NaN -0.000074 -0.007279 -0.034528   \n",
       "2021-01-05 -0.008352 -0.001792 -0.003478  NaN -0.003965  0.004405 -0.001577   \n",
       "2021-01-06 -0.000734 -0.001193 -0.000125  NaN -0.003314 -0.000441 -0.001575   \n",
       "2021-01-07  0.001452 -0.005260  0.008031  NaN  0.005661 -0.003084 -0.014063   \n",
       "\n",
       "                KMLM      LTPZ  QLTY  ...       TLT       UUP      VIXM  \\\n",
       "Date                                  ...                                 \n",
       "2021-01-01       NaN       NaN   NaN  ...       NaN       NaN       NaN   \n",
       "2021-01-04 -0.019789  0.005631   NaN  ...  0.007454  0.005787  0.010193   \n",
       "2021-01-05  0.006042  0.013188   NaN  ...  0.020741  0.001245  0.008121   \n",
       "2021-01-06  0.009887  0.006199   NaN  ...  0.008854 -0.005795  0.014787   \n",
       "2021-01-07  0.002459  0.010650   NaN  ...  0.003233 -0.001650  0.000552   \n",
       "\n",
       "                VIXY       VNQ       VPU        VT       VTI      VTIP  \\\n",
       "Date                                                                     \n",
       "2021-01-01       NaN       NaN       NaN       NaN       NaN       NaN   \n",
       "2021-01-04  0.038610 -0.001459 -0.000672 -0.010913 -0.008046 -0.000587   \n",
       "2021-01-05  0.006235 -0.001700 -0.025413 -0.007067 -0.008956 -0.000196   \n",
       "2021-01-06  0.063103  0.001943  0.012663 -0.010086 -0.015911 -0.001758   \n",
       "2021-01-07  0.009669 -0.009677 -0.007193 -0.009043 -0.004830  0.000976   \n",
       "\n",
       "                VWOB  \n",
       "Date                  \n",
       "2021-01-01       NaN  \n",
       "2021-01-04 -0.000366  \n",
       "2021-01-05  0.006122  \n",
       "2021-01-06  0.000123  \n",
       "2021-01-07 -0.000123  \n",
       "\n",
       "[5 rows x 21 columns]"
      ]
     },
     "execution_count": 53,
     "metadata": {},
     "output_type": "execute_result"
    },
    {
     "data": {
      "application/javascript": "\n            setTimeout(function() {\n                var nbb_cell_id = 53;\n                var nbb_unformatted_code = \"\\netfReturns = log_returns(etfData)\\netfReturns.head()\";\n                var nbb_formatted_code = \"etfReturns = log_returns(etfData)\\netfReturns.head()\";\n                var nbb_cells = Jupyter.notebook.get_cells();\n                for (var i = 0; i < nbb_cells.length; ++i) {\n                    if (nbb_cells[i].input_prompt_number == nbb_cell_id) {\n                        if (nbb_cells[i].get_text() == nbb_unformatted_code) {\n                             nbb_cells[i].set_text(nbb_formatted_code);\n                        }\n                        break;\n                    }\n                }\n            }, 500);\n            ",
      "text/plain": [
       "<IPython.core.display.Javascript object>"
      ]
     },
     "metadata": {},
     "output_type": "display_data"
    }
   ],
   "source": [
    "\n",
    "etfReturns = log_returns(etfData)\n",
    "etfReturns.head()"
   ]
  },
  {
   "cell_type": "code",
   "execution_count": 54,
   "metadata": {},
   "outputs": [
    {
     "data": {
      "text/html": [
       "<div>\n",
       "<style scoped>\n",
       "    .dataframe tbody tr th:only-of-type {\n",
       "        vertical-align: middle;\n",
       "    }\n",
       "\n",
       "    .dataframe tbody tr th {\n",
       "        vertical-align: top;\n",
       "    }\n",
       "\n",
       "    .dataframe thead th {\n",
       "        text-align: right;\n",
       "    }\n",
       "</style>\n",
       "<table border=\"1\" class=\"dataframe\">\n",
       "  <thead>\n",
       "    <tr style=\"text-align: right;\">\n",
       "      <th></th>\n",
       "      <th>Bonds Global</th>\n",
       "      <th>Commodities</th>\n",
       "      <th>DOW</th>\n",
       "      <th>Emerg Markets</th>\n",
       "      <th>EAFE</th>\n",
       "      <th>Emerg Markets Bonds</th>\n",
       "      <th>Pacifix ex Japan</th>\n",
       "      <th>Germany</th>\n",
       "      <th>Italy</th>\n",
       "      <th>Japan</th>\n",
       "      <th>...</th>\n",
       "      <th>Europe</th>\n",
       "      <th>Pacific</th>\n",
       "      <th>VXX</th>\n",
       "      <th>Materials</th>\n",
       "      <th>Energy</th>\n",
       "      <th>Finance</th>\n",
       "      <th>Tech</th>\n",
       "      <th>Utilities</th>\n",
       "      <th>ST Corp Bond</th>\n",
       "      <th>CHF</th>\n",
       "    </tr>\n",
       "  </thead>\n",
       "  <tbody>\n",
       "    <tr>\n",
       "      <th>Bonds Global</th>\n",
       "      <td>1.000000</td>\n",
       "      <td>-0.086234</td>\n",
       "      <td>-0.279161</td>\n",
       "      <td>-0.069623</td>\n",
       "      <td>-0.177521</td>\n",
       "      <td>0.296679</td>\n",
       "      <td>-0.104739</td>\n",
       "      <td>-0.188547</td>\n",
       "      <td>-0.201014</td>\n",
       "      <td>-0.159231</td>\n",
       "      <td>...</td>\n",
       "      <td>-0.181249</td>\n",
       "      <td>-0.141707</td>\n",
       "      <td>0.222886</td>\n",
       "      <td>-0.220603</td>\n",
       "      <td>-0.198536</td>\n",
       "      <td>-0.420264</td>\n",
       "      <td>-0.197672</td>\n",
       "      <td>0.301774</td>\n",
       "      <td>0.598105</td>\n",
       "      <td>0.250142</td>\n",
       "    </tr>\n",
       "    <tr>\n",
       "      <th>Commodities</th>\n",
       "      <td>-0.086234</td>\n",
       "      <td>1.000000</td>\n",
       "      <td>0.305137</td>\n",
       "      <td>0.428909</td>\n",
       "      <td>0.369637</td>\n",
       "      <td>0.313791</td>\n",
       "      <td>0.400316</td>\n",
       "      <td>0.283711</td>\n",
       "      <td>0.331083</td>\n",
       "      <td>0.250509</td>\n",
       "      <td>...</td>\n",
       "      <td>0.367019</td>\n",
       "      <td>0.341089</td>\n",
       "      <td>-0.224835</td>\n",
       "      <td>0.429541</td>\n",
       "      <td>0.677430</td>\n",
       "      <td>0.257454</td>\n",
       "      <td>0.225463</td>\n",
       "      <td>0.089290</td>\n",
       "      <td>0.028872</td>\n",
       "      <td>0.042324</td>\n",
       "    </tr>\n",
       "    <tr>\n",
       "      <th>DOW</th>\n",
       "      <td>-0.279161</td>\n",
       "      <td>0.305137</td>\n",
       "      <td>1.000000</td>\n",
       "      <td>0.719260</td>\n",
       "      <td>0.793387</td>\n",
       "      <td>0.343817</td>\n",
       "      <td>0.688344</td>\n",
       "      <td>0.722882</td>\n",
       "      <td>0.666315</td>\n",
       "      <td>0.691672</td>\n",
       "      <td>...</td>\n",
       "      <td>0.765251</td>\n",
       "      <td>0.769604</td>\n",
       "      <td>-0.797538</td>\n",
       "      <td>0.817422</td>\n",
       "      <td>0.655544</td>\n",
       "      <td>0.874902</td>\n",
       "      <td>0.849271</td>\n",
       "      <td>0.395247</td>\n",
       "      <td>-0.042967</td>\n",
       "      <td>-0.172730</td>\n",
       "    </tr>\n",
       "    <tr>\n",
       "      <th>Emerg Markets</th>\n",
       "      <td>-0.069623</td>\n",
       "      <td>0.428909</td>\n",
       "      <td>0.719260</td>\n",
       "      <td>1.000000</td>\n",
       "      <td>0.796425</td>\n",
       "      <td>0.580454</td>\n",
       "      <td>0.815049</td>\n",
       "      <td>0.697222</td>\n",
       "      <td>0.660268</td>\n",
       "      <td>0.638955</td>\n",
       "      <td>...</td>\n",
       "      <td>0.763111</td>\n",
       "      <td>0.811155</td>\n",
       "      <td>-0.668680</td>\n",
       "      <td>0.674630</td>\n",
       "      <td>0.607172</td>\n",
       "      <td>0.606749</td>\n",
       "      <td>0.686458</td>\n",
       "      <td>0.365031</td>\n",
       "      <td>0.123624</td>\n",
       "      <td>-0.018461</td>\n",
       "    </tr>\n",
       "    <tr>\n",
       "      <th>EAFE</th>\n",
       "      <td>-0.177521</td>\n",
       "      <td>0.369637</td>\n",
       "      <td>0.793387</td>\n",
       "      <td>0.796425</td>\n",
       "      <td>1.000000</td>\n",
       "      <td>0.466883</td>\n",
       "      <td>0.790699</td>\n",
       "      <td>0.884385</td>\n",
       "      <td>0.830052</td>\n",
       "      <td>0.785198</td>\n",
       "      <td>...</td>\n",
       "      <td>0.949368</td>\n",
       "      <td>0.872972</td>\n",
       "      <td>-0.721559</td>\n",
       "      <td>0.720030</td>\n",
       "      <td>0.610561</td>\n",
       "      <td>0.711714</td>\n",
       "      <td>0.725415</td>\n",
       "      <td>0.352270</td>\n",
       "      <td>0.050121</td>\n",
       "      <td>0.021760</td>\n",
       "    </tr>\n",
       "  </tbody>\n",
       "</table>\n",
       "<p>5 rows × 39 columns</p>\n",
       "</div>"
      ],
      "text/plain": [
       "               Bonds Global  Commodities       DOW  Emerg Markets      EAFE  \\\n",
       "Bonds Global       1.000000    -0.086234 -0.279161      -0.069623 -0.177521   \n",
       "Commodities       -0.086234     1.000000  0.305137       0.428909  0.369637   \n",
       "DOW               -0.279161     0.305137  1.000000       0.719260  0.793387   \n",
       "Emerg Markets     -0.069623     0.428909  0.719260       1.000000  0.796425   \n",
       "EAFE              -0.177521     0.369637  0.793387       0.796425  1.000000   \n",
       "\n",
       "               Emerg Markets Bonds  Pacifix ex Japan   Germany     Italy  \\\n",
       "Bonds Global              0.296679         -0.104739 -0.188547 -0.201014   \n",
       "Commodities               0.313791          0.400316  0.283711  0.331083   \n",
       "DOW                       0.343817          0.688344  0.722882  0.666315   \n",
       "Emerg Markets             0.580454          0.815049  0.697222  0.660268   \n",
       "EAFE                      0.466883          0.790699  0.884385  0.830052   \n",
       "\n",
       "                  Japan  ...    Europe  Pacific        VXX  Materials  \\\n",
       "Bonds Global  -0.159231  ... -0.181249 -0.141707  0.222886  -0.220603   \n",
       "Commodities    0.250509  ...  0.367019  0.341089 -0.224835   0.429541   \n",
       "DOW            0.691672  ...  0.765251  0.769604 -0.797538   0.817422   \n",
       "Emerg Markets  0.638955  ...  0.763111  0.811155 -0.668680   0.674630   \n",
       "EAFE           0.785198  ...  0.949368  0.872972 -0.721559   0.720030   \n",
       "\n",
       "                 Energy   Finance      Tech  Utilities  ST Corp Bond       CHF  \n",
       "Bonds Global  -0.198536 -0.420264 -0.197672   0.301774      0.598105  0.250142  \n",
       "Commodities    0.677430  0.257454  0.225463   0.089290      0.028872  0.042324  \n",
       "DOW            0.655544  0.874902  0.849271   0.395247     -0.042967 -0.172730  \n",
       "Emerg Markets  0.607172  0.606749  0.686458   0.365031      0.123624 -0.018461  \n",
       "EAFE           0.610561  0.711714  0.725415   0.352270      0.050121  0.021760  \n",
       "\n",
       "[5 rows x 39 columns]"
      ]
     },
     "execution_count": 54,
     "metadata": {},
     "output_type": "execute_result"
    },
    {
     "data": {
      "application/javascript": "\n            setTimeout(function() {\n                var nbb_cell_id = 54;\n                var nbb_unformatted_code = \"# calculate correlation matrix using inbuilt pandas function\\nassetCorrMatrix = assetReturns.corr()\\n\\n# show first five rows of the correlation matrix\\nassetCorrMatrix.head()\";\n                var nbb_formatted_code = \"# calculate correlation matrix using inbuilt pandas function\\nassetCorrMatrix = assetReturns.corr()\\n\\n# show first five rows of the correlation matrix\\nassetCorrMatrix.head()\";\n                var nbb_cells = Jupyter.notebook.get_cells();\n                for (var i = 0; i < nbb_cells.length; ++i) {\n                    if (nbb_cells[i].input_prompt_number == nbb_cell_id) {\n                        if (nbb_cells[i].get_text() == nbb_unformatted_code) {\n                             nbb_cells[i].set_text(nbb_formatted_code);\n                        }\n                        break;\n                    }\n                }\n            }, 500);\n            ",
      "text/plain": [
       "<IPython.core.display.Javascript object>"
      ]
     },
     "metadata": {},
     "output_type": "display_data"
    }
   ],
   "source": [
    "# calculate correlation matrix using inbuilt pandas function\n",
    "assetCorrMatrix = assetReturns.corr()\n",
    "\n",
    "# show first five rows of the correlation matrix\n",
    "assetCorrMatrix.head()"
   ]
  },
  {
   "cell_type": "code",
   "execution_count": 55,
   "metadata": {},
   "outputs": [
    {
     "data": {
      "text/html": [
       "<div>\n",
       "<style scoped>\n",
       "    .dataframe tbody tr th:only-of-type {\n",
       "        vertical-align: middle;\n",
       "    }\n",
       "\n",
       "    .dataframe tbody tr th {\n",
       "        vertical-align: top;\n",
       "    }\n",
       "\n",
       "    .dataframe thead th {\n",
       "        text-align: right;\n",
       "    }\n",
       "</style>\n",
       "<table border=\"1\" class=\"dataframe\">\n",
       "  <thead>\n",
       "    <tr style=\"text-align: right;\">\n",
       "      <th></th>\n",
       "      <th>CADUSD=X</th>\n",
       "      <th>CCRV</th>\n",
       "      <th>CHFUSD=X</th>\n",
       "      <th>CTA</th>\n",
       "      <th>EURUSD=X</th>\n",
       "      <th>EWL</th>\n",
       "      <th>GSG</th>\n",
       "      <th>KMLM</th>\n",
       "      <th>LTPZ</th>\n",
       "      <th>QLTY</th>\n",
       "      <th>...</th>\n",
       "      <th>TLT</th>\n",
       "      <th>UUP</th>\n",
       "      <th>VIXM</th>\n",
       "      <th>VIXY</th>\n",
       "      <th>VNQ</th>\n",
       "      <th>VPU</th>\n",
       "      <th>VT</th>\n",
       "      <th>VTI</th>\n",
       "      <th>VTIP</th>\n",
       "      <th>VWOB</th>\n",
       "    </tr>\n",
       "  </thead>\n",
       "  <tbody>\n",
       "    <tr>\n",
       "      <th>CADUSD=X</th>\n",
       "      <td>1.000000</td>\n",
       "      <td>0.114483</td>\n",
       "      <td>0.438334</td>\n",
       "      <td>-0.082785</td>\n",
       "      <td>0.532474</td>\n",
       "      <td>0.019426</td>\n",
       "      <td>0.090779</td>\n",
       "      <td>0.101489</td>\n",
       "      <td>-0.011732</td>\n",
       "      <td>-0.267322</td>\n",
       "      <td>...</td>\n",
       "      <td>-0.043293</td>\n",
       "      <td>-0.040966</td>\n",
       "      <td>0.035429</td>\n",
       "      <td>0.014816</td>\n",
       "      <td>0.023726</td>\n",
       "      <td>-0.015380</td>\n",
       "      <td>-0.011620</td>\n",
       "      <td>-0.003721</td>\n",
       "      <td>0.065728</td>\n",
       "      <td>-0.052651</td>\n",
       "    </tr>\n",
       "    <tr>\n",
       "      <th>CCRV</th>\n",
       "      <td>0.114483</td>\n",
       "      <td>1.000000</td>\n",
       "      <td>-0.008679</td>\n",
       "      <td>-0.042133</td>\n",
       "      <td>-0.029271</td>\n",
       "      <td>0.130030</td>\n",
       "      <td>0.922438</td>\n",
       "      <td>0.353770</td>\n",
       "      <td>0.088566</td>\n",
       "      <td>0.232833</td>\n",
       "      <td>...</td>\n",
       "      <td>-0.089042</td>\n",
       "      <td>-0.227297</td>\n",
       "      <td>-0.143920</td>\n",
       "      <td>-0.176108</td>\n",
       "      <td>0.146102</td>\n",
       "      <td>0.108791</td>\n",
       "      <td>0.232497</td>\n",
       "      <td>0.204912</td>\n",
       "      <td>0.346494</td>\n",
       "      <td>0.082447</td>\n",
       "    </tr>\n",
       "    <tr>\n",
       "      <th>CHFUSD=X</th>\n",
       "      <td>0.438334</td>\n",
       "      <td>-0.008679</td>\n",
       "      <td>1.000000</td>\n",
       "      <td>-0.120678</td>\n",
       "      <td>0.748820</td>\n",
       "      <td>-0.072077</td>\n",
       "      <td>-0.021022</td>\n",
       "      <td>0.004279</td>\n",
       "      <td>0.021096</td>\n",
       "      <td>-0.315778</td>\n",
       "      <td>...</td>\n",
       "      <td>0.056666</td>\n",
       "      <td>-0.010835</td>\n",
       "      <td>0.090160</td>\n",
       "      <td>0.073383</td>\n",
       "      <td>-0.019692</td>\n",
       "      <td>-0.040168</td>\n",
       "      <td>-0.069466</td>\n",
       "      <td>-0.061240</td>\n",
       "      <td>0.063713</td>\n",
       "      <td>-0.002334</td>\n",
       "    </tr>\n",
       "    <tr>\n",
       "      <th>CTA</th>\n",
       "      <td>-0.082785</td>\n",
       "      <td>-0.042133</td>\n",
       "      <td>-0.120678</td>\n",
       "      <td>1.000000</td>\n",
       "      <td>-0.068355</td>\n",
       "      <td>-0.257937</td>\n",
       "      <td>-0.028670</td>\n",
       "      <td>0.398635</td>\n",
       "      <td>-0.301469</td>\n",
       "      <td>-0.004084</td>\n",
       "      <td>...</td>\n",
       "      <td>-0.306352</td>\n",
       "      <td>0.407907</td>\n",
       "      <td>0.033726</td>\n",
       "      <td>0.052480</td>\n",
       "      <td>-0.267648</td>\n",
       "      <td>-0.220843</td>\n",
       "      <td>-0.220918</td>\n",
       "      <td>-0.190001</td>\n",
       "      <td>-0.405035</td>\n",
       "      <td>-0.344632</td>\n",
       "    </tr>\n",
       "    <tr>\n",
       "      <th>EURUSD=X</th>\n",
       "      <td>0.532474</td>\n",
       "      <td>-0.029271</td>\n",
       "      <td>0.748820</td>\n",
       "      <td>-0.068355</td>\n",
       "      <td>1.000000</td>\n",
       "      <td>-0.023464</td>\n",
       "      <td>-0.040753</td>\n",
       "      <td>0.011525</td>\n",
       "      <td>0.016985</td>\n",
       "      <td>-0.308750</td>\n",
       "      <td>...</td>\n",
       "      <td>0.045576</td>\n",
       "      <td>-0.017214</td>\n",
       "      <td>0.031541</td>\n",
       "      <td>0.018663</td>\n",
       "      <td>0.020377</td>\n",
       "      <td>-0.055373</td>\n",
       "      <td>-0.027181</td>\n",
       "      <td>-0.016381</td>\n",
       "      <td>0.063427</td>\n",
       "      <td>0.021702</td>\n",
       "    </tr>\n",
       "  </tbody>\n",
       "</table>\n",
       "<p>5 rows × 21 columns</p>\n",
       "</div>"
      ],
      "text/plain": [
       "          CADUSD=X      CCRV  CHFUSD=X       CTA  EURUSD=X       EWL  \\\n",
       "CADUSD=X  1.000000  0.114483  0.438334 -0.082785  0.532474  0.019426   \n",
       "CCRV      0.114483  1.000000 -0.008679 -0.042133 -0.029271  0.130030   \n",
       "CHFUSD=X  0.438334 -0.008679  1.000000 -0.120678  0.748820 -0.072077   \n",
       "CTA      -0.082785 -0.042133 -0.120678  1.000000 -0.068355 -0.257937   \n",
       "EURUSD=X  0.532474 -0.029271  0.748820 -0.068355  1.000000 -0.023464   \n",
       "\n",
       "               GSG      KMLM      LTPZ      QLTY  ...       TLT       UUP  \\\n",
       "CADUSD=X  0.090779  0.101489 -0.011732 -0.267322  ... -0.043293 -0.040966   \n",
       "CCRV      0.922438  0.353770  0.088566  0.232833  ... -0.089042 -0.227297   \n",
       "CHFUSD=X -0.021022  0.004279  0.021096 -0.315778  ...  0.056666 -0.010835   \n",
       "CTA      -0.028670  0.398635 -0.301469 -0.004084  ... -0.306352  0.407907   \n",
       "EURUSD=X -0.040753  0.011525  0.016985 -0.308750  ...  0.045576 -0.017214   \n",
       "\n",
       "              VIXM      VIXY       VNQ       VPU        VT       VTI  \\\n",
       "CADUSD=X  0.035429  0.014816  0.023726 -0.015380 -0.011620 -0.003721   \n",
       "CCRV     -0.143920 -0.176108  0.146102  0.108791  0.232497  0.204912   \n",
       "CHFUSD=X  0.090160  0.073383 -0.019692 -0.040168 -0.069466 -0.061240   \n",
       "CTA       0.033726  0.052480 -0.267648 -0.220843 -0.220918 -0.190001   \n",
       "EURUSD=X  0.031541  0.018663  0.020377 -0.055373 -0.027181 -0.016381   \n",
       "\n",
       "              VTIP      VWOB  \n",
       "CADUSD=X  0.065728 -0.052651  \n",
       "CCRV      0.346494  0.082447  \n",
       "CHFUSD=X  0.063713 -0.002334  \n",
       "CTA      -0.405035 -0.344632  \n",
       "EURUSD=X  0.063427  0.021702  \n",
       "\n",
       "[5 rows x 21 columns]"
      ]
     },
     "execution_count": 55,
     "metadata": {},
     "output_type": "execute_result"
    },
    {
     "data": {
      "application/javascript": "\n            setTimeout(function() {\n                var nbb_cell_id = 55;\n                var nbb_unformatted_code = \"etfCorrMatrix = etfReturns.corr()\\netfCorrMatrix.head()\";\n                var nbb_formatted_code = \"etfCorrMatrix = etfReturns.corr()\\netfCorrMatrix.head()\";\n                var nbb_cells = Jupyter.notebook.get_cells();\n                for (var i = 0; i < nbb_cells.length; ++i) {\n                    if (nbb_cells[i].input_prompt_number == nbb_cell_id) {\n                        if (nbb_cells[i].get_text() == nbb_unformatted_code) {\n                             nbb_cells[i].set_text(nbb_formatted_code);\n                        }\n                        break;\n                    }\n                }\n            }, 500);\n            ",
      "text/plain": [
       "<IPython.core.display.Javascript object>"
      ]
     },
     "metadata": {},
     "output_type": "display_data"
    }
   ],
   "source": [
    "etfCorrMatrix = etfReturns.corr()\n",
    "etfCorrMatrix.head()"
   ]
  },
  {
   "cell_type": "code",
   "execution_count": 56,
   "metadata": {},
   "outputs": [
    {
     "data": {
      "application/javascript": "\n            setTimeout(function() {\n                var nbb_cell_id = 56;\n                var nbb_unformatted_code = \"# convert matrix to list of edges and rename the columns\\ndef edges(corrMatrix):\\n    retEdges = corrMatrix.stack().reset_index()\\n    retEdges.columns = [\\\"asset_1\\\", \\\"asset_2\\\", \\\"correlation\\\"]\\n\\n    # remove self correlations\\n    retEdges = retEdges.loc[retEdges[\\\"asset_1\\\"] != retEdges[\\\"asset_2\\\"]].copy()\\n\\n    return retEdges\";\n                var nbb_formatted_code = \"# convert matrix to list of edges and rename the columns\\ndef edges(corrMatrix):\\n    retEdges = corrMatrix.stack().reset_index()\\n    retEdges.columns = [\\\"asset_1\\\", \\\"asset_2\\\", \\\"correlation\\\"]\\n\\n    # remove self correlations\\n    retEdges = retEdges.loc[retEdges[\\\"asset_1\\\"] != retEdges[\\\"asset_2\\\"]].copy()\\n\\n    return retEdges\";\n                var nbb_cells = Jupyter.notebook.get_cells();\n                for (var i = 0; i < nbb_cells.length; ++i) {\n                    if (nbb_cells[i].input_prompt_number == nbb_cell_id) {\n                        if (nbb_cells[i].get_text() == nbb_unformatted_code) {\n                             nbb_cells[i].set_text(nbb_formatted_code);\n                        }\n                        break;\n                    }\n                }\n            }, 500);\n            ",
      "text/plain": [
       "<IPython.core.display.Javascript object>"
      ]
     },
     "metadata": {},
     "output_type": "display_data"
    }
   ],
   "source": [
    "# convert matrix to list of edges and rename the columns\n",
    "def edges(corrMatrix):\n",
    "    retEdges = corrMatrix.stack().reset_index()\n",
    "    retEdges.columns = [\"asset_1\", \"asset_2\", \"correlation\"]\n",
    "\n",
    "    # remove self correlations\n",
    "    retEdges = retEdges.loc[retEdges[\"asset_1\"] != retEdges[\"asset_2\"]].copy()\n",
    "\n",
    "    return retEdges\n"
   ]
  },
  {
   "cell_type": "code",
   "execution_count": 57,
   "metadata": {},
   "outputs": [
    {
     "data": {
      "text/html": [
       "<div>\n",
       "<style scoped>\n",
       "    .dataframe tbody tr th:only-of-type {\n",
       "        vertical-align: middle;\n",
       "    }\n",
       "\n",
       "    .dataframe tbody tr th {\n",
       "        vertical-align: top;\n",
       "    }\n",
       "\n",
       "    .dataframe thead th {\n",
       "        text-align: right;\n",
       "    }\n",
       "</style>\n",
       "<table border=\"1\" class=\"dataframe\">\n",
       "  <thead>\n",
       "    <tr style=\"text-align: right;\">\n",
       "      <th></th>\n",
       "      <th>asset_1</th>\n",
       "      <th>asset_2</th>\n",
       "      <th>correlation</th>\n",
       "    </tr>\n",
       "  </thead>\n",
       "  <tbody>\n",
       "    <tr>\n",
       "      <th>1</th>\n",
       "      <td>Bonds Global</td>\n",
       "      <td>Commodities</td>\n",
       "      <td>-0.086234</td>\n",
       "    </tr>\n",
       "    <tr>\n",
       "      <th>2</th>\n",
       "      <td>Bonds Global</td>\n",
       "      <td>DOW</td>\n",
       "      <td>-0.279161</td>\n",
       "    </tr>\n",
       "    <tr>\n",
       "      <th>3</th>\n",
       "      <td>Bonds Global</td>\n",
       "      <td>Emerg Markets</td>\n",
       "      <td>-0.069623</td>\n",
       "    </tr>\n",
       "    <tr>\n",
       "      <th>4</th>\n",
       "      <td>Bonds Global</td>\n",
       "      <td>EAFE</td>\n",
       "      <td>-0.177521</td>\n",
       "    </tr>\n",
       "    <tr>\n",
       "      <th>5</th>\n",
       "      <td>Bonds Global</td>\n",
       "      <td>Emerg Markets Bonds</td>\n",
       "      <td>0.296679</td>\n",
       "    </tr>\n",
       "  </tbody>\n",
       "</table>\n",
       "</div>"
      ],
      "text/plain": [
       "        asset_1              asset_2  correlation\n",
       "1  Bonds Global          Commodities    -0.086234\n",
       "2  Bonds Global                  DOW    -0.279161\n",
       "3  Bonds Global        Emerg Markets    -0.069623\n",
       "4  Bonds Global                 EAFE    -0.177521\n",
       "5  Bonds Global  Emerg Markets Bonds     0.296679"
      ]
     },
     "execution_count": 57,
     "metadata": {},
     "output_type": "execute_result"
    },
    {
     "data": {
      "application/javascript": "\n            setTimeout(function() {\n                var nbb_cell_id = 57;\n                var nbb_unformatted_code = \"assetEdges = edges(assetCorrMatrix)\\nassetEdges.head()\";\n                var nbb_formatted_code = \"assetEdges = edges(assetCorrMatrix)\\nassetEdges.head()\";\n                var nbb_cells = Jupyter.notebook.get_cells();\n                for (var i = 0; i < nbb_cells.length; ++i) {\n                    if (nbb_cells[i].input_prompt_number == nbb_cell_id) {\n                        if (nbb_cells[i].get_text() == nbb_unformatted_code) {\n                             nbb_cells[i].set_text(nbb_formatted_code);\n                        }\n                        break;\n                    }\n                }\n            }, 500);\n            ",
      "text/plain": [
       "<IPython.core.display.Javascript object>"
      ]
     },
     "metadata": {},
     "output_type": "display_data"
    }
   ],
   "source": [
    "assetEdges = edges(assetCorrMatrix)\n",
    "assetEdges.head()"
   ]
  },
  {
   "cell_type": "code",
   "execution_count": 58,
   "metadata": {},
   "outputs": [
    {
     "data": {
      "text/html": [
       "<div>\n",
       "<style scoped>\n",
       "    .dataframe tbody tr th:only-of-type {\n",
       "        vertical-align: middle;\n",
       "    }\n",
       "\n",
       "    .dataframe tbody tr th {\n",
       "        vertical-align: top;\n",
       "    }\n",
       "\n",
       "    .dataframe thead th {\n",
       "        text-align: right;\n",
       "    }\n",
       "</style>\n",
       "<table border=\"1\" class=\"dataframe\">\n",
       "  <thead>\n",
       "    <tr style=\"text-align: right;\">\n",
       "      <th></th>\n",
       "      <th>asset_1</th>\n",
       "      <th>asset_2</th>\n",
       "      <th>correlation</th>\n",
       "    </tr>\n",
       "  </thead>\n",
       "  <tbody>\n",
       "    <tr>\n",
       "      <th>1</th>\n",
       "      <td>CADUSD=X</td>\n",
       "      <td>CCRV</td>\n",
       "      <td>0.114483</td>\n",
       "    </tr>\n",
       "    <tr>\n",
       "      <th>2</th>\n",
       "      <td>CADUSD=X</td>\n",
       "      <td>CHFUSD=X</td>\n",
       "      <td>0.438334</td>\n",
       "    </tr>\n",
       "    <tr>\n",
       "      <th>3</th>\n",
       "      <td>CADUSD=X</td>\n",
       "      <td>CTA</td>\n",
       "      <td>-0.082785</td>\n",
       "    </tr>\n",
       "    <tr>\n",
       "      <th>4</th>\n",
       "      <td>CADUSD=X</td>\n",
       "      <td>EURUSD=X</td>\n",
       "      <td>0.532474</td>\n",
       "    </tr>\n",
       "    <tr>\n",
       "      <th>5</th>\n",
       "      <td>CADUSD=X</td>\n",
       "      <td>EWL</td>\n",
       "      <td>0.019426</td>\n",
       "    </tr>\n",
       "  </tbody>\n",
       "</table>\n",
       "</div>"
      ],
      "text/plain": [
       "    asset_1   asset_2  correlation\n",
       "1  CADUSD=X      CCRV     0.114483\n",
       "2  CADUSD=X  CHFUSD=X     0.438334\n",
       "3  CADUSD=X       CTA    -0.082785\n",
       "4  CADUSD=X  EURUSD=X     0.532474\n",
       "5  CADUSD=X       EWL     0.019426"
      ]
     },
     "execution_count": 58,
     "metadata": {},
     "output_type": "execute_result"
    },
    {
     "data": {
      "application/javascript": "\n            setTimeout(function() {\n                var nbb_cell_id = 58;\n                var nbb_unformatted_code = \"etfEdges = edges(etfCorrMatrix)\\netfEdges.head()\";\n                var nbb_formatted_code = \"etfEdges = edges(etfCorrMatrix)\\netfEdges.head()\";\n                var nbb_cells = Jupyter.notebook.get_cells();\n                for (var i = 0; i < nbb_cells.length; ++i) {\n                    if (nbb_cells[i].input_prompt_number == nbb_cell_id) {\n                        if (nbb_cells[i].get_text() == nbb_unformatted_code) {\n                             nbb_cells[i].set_text(nbb_formatted_code);\n                        }\n                        break;\n                    }\n                }\n            }, 500);\n            ",
      "text/plain": [
       "<IPython.core.display.Javascript object>"
      ]
     },
     "metadata": {},
     "output_type": "display_data"
    }
   ],
   "source": [
    "etfEdges = edges(etfCorrMatrix)\n",
    "etfEdges.head()"
   ]
  },
  {
   "cell_type": "code",
   "execution_count": 59,
   "metadata": {},
   "outputs": [
    {
     "data": {
      "application/javascript": "\n            setTimeout(function() {\n                var nbb_cell_id = 59;\n                var nbb_unformatted_code = \"# create undirected graph with weights corresponding to the correlation magnitude\\ndef undirected_graph(edges, threshold): \\n    ##G0 = nx.from_pandas_edgelist(edges, \\\"asset_1\\\", \\\"asset_2\\\", edge_attr=[\\\"correlation\\\"])\\n    ##return G0\\n\\n    # 'winner takes all' method - set minium correlation threshold to remove some\\n    # edges from the diagram\\n    #threshold = 0.3 # 0.5\\n\\n    # create a new graph from edge list\\n    Gx = nx.from_pandas_edgelist(edges, \\\"asset_1\\\", \\\"asset_2\\\", edge_attr=[\\\"correlation\\\"])\\n\\n    # list to store edges to remove\\n    remove = []\\n    # loop through edges in Gx and find correlations which are below the threshold\\n    for asset_1, asset_2 in Gx.edges():\\n        corr = Gx[asset_1][asset_2][\\\"correlation\\\"]\\n        # add to remove node list if abs(corr) < threshold\\n        if abs(corr) < threshold:\\n            remove.append((asset_1, asset_2))\\n\\n    # remove edges contained in the remove list\\n    Gx.remove_edges_from(remove)\\n    print(str(len(remove)) + \\\" edges removed\\\")\\n\\n    return Gx\";\n                var nbb_formatted_code = \"# create undirected graph with weights corresponding to the correlation magnitude\\ndef undirected_graph(edges, threshold):\\n    ##G0 = nx.from_pandas_edgelist(edges, \\\"asset_1\\\", \\\"asset_2\\\", edge_attr=[\\\"correlation\\\"])\\n    ##return G0\\n\\n    # 'winner takes all' method - set minium correlation threshold to remove some\\n    # edges from the diagram\\n    # threshold = 0.3 # 0.5\\n\\n    # create a new graph from edge list\\n    Gx = nx.from_pandas_edgelist(edges, \\\"asset_1\\\", \\\"asset_2\\\", edge_attr=[\\\"correlation\\\"])\\n\\n    # list to store edges to remove\\n    remove = []\\n    # loop through edges in Gx and find correlations which are below the threshold\\n    for asset_1, asset_2 in Gx.edges():\\n        corr = Gx[asset_1][asset_2][\\\"correlation\\\"]\\n        # add to remove node list if abs(corr) < threshold\\n        if abs(corr) < threshold:\\n            remove.append((asset_1, asset_2))\\n\\n    # remove edges contained in the remove list\\n    Gx.remove_edges_from(remove)\\n    print(str(len(remove)) + \\\" edges removed\\\")\\n\\n    return Gx\";\n                var nbb_cells = Jupyter.notebook.get_cells();\n                for (var i = 0; i < nbb_cells.length; ++i) {\n                    if (nbb_cells[i].input_prompt_number == nbb_cell_id) {\n                        if (nbb_cells[i].get_text() == nbb_unformatted_code) {\n                             nbb_cells[i].set_text(nbb_formatted_code);\n                        }\n                        break;\n                    }\n                }\n            }, 500);\n            ",
      "text/plain": [
       "<IPython.core.display.Javascript object>"
      ]
     },
     "metadata": {},
     "output_type": "display_data"
    }
   ],
   "source": [
    "# create undirected graph with weights corresponding to the correlation magnitude\n",
    "def undirected_graph(edges, threshold): \n",
    "    ##G0 = nx.from_pandas_edgelist(edges, \"asset_1\", \"asset_2\", edge_attr=[\"correlation\"])\n",
    "    ##return G0\n",
    "\n",
    "    # 'winner takes all' method - set minium correlation threshold to remove some\n",
    "    # edges from the diagram\n",
    "    #threshold = 0.3 # 0.5\n",
    "\n",
    "    # create a new graph from edge list\n",
    "    Gx = nx.from_pandas_edgelist(edges, \"asset_1\", \"asset_2\", edge_attr=[\"correlation\"])\n",
    "\n",
    "    # list to store edges to remove\n",
    "    remove = []\n",
    "    # loop through edges in Gx and find correlations which are below the threshold\n",
    "    for asset_1, asset_2 in Gx.edges():\n",
    "        corr = Gx[asset_1][asset_2][\"correlation\"]\n",
    "        # add to remove node list if abs(corr) < threshold\n",
    "        if abs(corr) < threshold:\n",
    "            remove.append((asset_1, asset_2))\n",
    "\n",
    "    # remove edges contained in the remove list\n",
    "    Gx.remove_edges_from(remove)\n",
    "    print(str(len(remove)) + \" edges removed\")\n",
    "\n",
    "    return Gx\n"
   ]
  },
  {
   "cell_type": "code",
   "execution_count": 60,
   "metadata": {},
   "outputs": [
    {
     "name": "stdout",
     "output_type": "stream",
     "text": [
      "138 edges removed\n",
      "Graph with 21 nodes and 72 edges\n"
     ]
    },
    {
     "data": {
      "application/javascript": "\n            setTimeout(function() {\n                var nbb_cell_id = 60;\n                var nbb_unformatted_code = \"etfG0 = undirected_graph(etfEdges, 0.3)\\nprint(etfG0)\";\n                var nbb_formatted_code = \"etfG0 = undirected_graph(etfEdges, 0.3)\\nprint(etfG0)\";\n                var nbb_cells = Jupyter.notebook.get_cells();\n                for (var i = 0; i < nbb_cells.length; ++i) {\n                    if (nbb_cells[i].input_prompt_number == nbb_cell_id) {\n                        if (nbb_cells[i].get_text() == nbb_unformatted_code) {\n                             nbb_cells[i].set_text(nbb_formatted_code);\n                        }\n                        break;\n                    }\n                }\n            }, 500);\n            ",
      "text/plain": [
       "<IPython.core.display.Javascript object>"
      ]
     },
     "metadata": {},
     "output_type": "display_data"
    }
   ],
   "source": [
    "etfG0 = undirected_graph(etfEdges, 0.3)\n",
    "print(etfG0)"
   ]
  },
  {
   "cell_type": "code",
   "execution_count": 61,
   "metadata": {},
   "outputs": [
    {
     "name": "stdout",
     "output_type": "stream",
     "text": [
      "530 edges removed\n",
      "Graph with 39 nodes and 211 edges\n"
     ]
    },
    {
     "data": {
      "application/javascript": "\n            setTimeout(function() {\n                var nbb_cell_id = 61;\n                var nbb_unformatted_code = \"assetG0 = undirected_graph(assetEdges, 0.5)\\nprint(assetG0)\";\n                var nbb_formatted_code = \"assetG0 = undirected_graph(assetEdges, 0.5)\\nprint(assetG0)\";\n                var nbb_cells = Jupyter.notebook.get_cells();\n                for (var i = 0; i < nbb_cells.length; ++i) {\n                    if (nbb_cells[i].input_prompt_number == nbb_cell_id) {\n                        if (nbb_cells[i].get_text() == nbb_unformatted_code) {\n                             nbb_cells[i].set_text(nbb_formatted_code);\n                        }\n                        break;\n                    }\n                }\n            }, 500);\n            ",
      "text/plain": [
       "<IPython.core.display.Javascript object>"
      ]
     },
     "metadata": {},
     "output_type": "display_data"
    }
   ],
   "source": [
    "assetG0 = undirected_graph(assetEdges, 0.5)\n",
    "print(assetG0)"
   ]
  },
  {
   "cell_type": "code",
   "execution_count": 62,
   "metadata": {},
   "outputs": [
    {
     "data": {
      "application/javascript": "\n            setTimeout(function() {\n                var nbb_cell_id = 62;\n                var nbb_unformatted_code = \"def assign_colour(correlation):\\n    if correlation <= 0:\\n        return \\\"#ffa09b\\\"  # red\\n    else:\\n        return \\\"#9eccb7\\\"  # green\\n\\n\\ndef assign_thickness(correlation, benchmark_thickness=2, scaling_factor=3):\\n    return benchmark_thickness * abs(correlation) ** scaling_factor\\n\\n\\ndef assign_node_size(degree, scaling_factor=50):\\n    return degree * scaling_factor\\n\\n\\n# assign colours to edges depending on positive or negative correlation\\n# assign edge thickness depending on magnitude of correlation\\ndef edge_colours(Gx):\\n    colours = []\\n    for key, value in nx.get_edge_attributes(Gx, \\\"correlation\\\").items():\\n        colours.append(assign_colour(value))\\n    return colours\\n\\ndef edge_width(Gx):\\n    width = []\\n    for key, value in nx.get_edge_attributes(Gx, \\\"correlation\\\").items():\\n        width.append(assign_thickness(value))\\n    return width\\n\\n# assign node size depending on number of connections (degree)\\ndef node_size(Gx):\\n    sizes = []\\n    for key, value in dict(Gx.degree).items():\\n        sizes.append(assign_node_size(value))\\n    return sizes\";\n                var nbb_formatted_code = \"def assign_colour(correlation):\\n    if correlation <= 0:\\n        return \\\"#ffa09b\\\"  # red\\n    else:\\n        return \\\"#9eccb7\\\"  # green\\n\\n\\ndef assign_thickness(correlation, benchmark_thickness=2, scaling_factor=3):\\n    return benchmark_thickness * abs(correlation) ** scaling_factor\\n\\n\\ndef assign_node_size(degree, scaling_factor=50):\\n    return degree * scaling_factor\\n\\n\\n# assign colours to edges depending on positive or negative correlation\\n# assign edge thickness depending on magnitude of correlation\\ndef edge_colours(Gx):\\n    colours = []\\n    for key, value in nx.get_edge_attributes(Gx, \\\"correlation\\\").items():\\n        colours.append(assign_colour(value))\\n    return colours\\n\\n\\ndef edge_width(Gx):\\n    width = []\\n    for key, value in nx.get_edge_attributes(Gx, \\\"correlation\\\").items():\\n        width.append(assign_thickness(value))\\n    return width\\n\\n\\n# assign node size depending on number of connections (degree)\\ndef node_size(Gx):\\n    sizes = []\\n    for key, value in dict(Gx.degree).items():\\n        sizes.append(assign_node_size(value))\\n    return sizes\";\n                var nbb_cells = Jupyter.notebook.get_cells();\n                for (var i = 0; i < nbb_cells.length; ++i) {\n                    if (nbb_cells[i].input_prompt_number == nbb_cell_id) {\n                        if (nbb_cells[i].get_text() == nbb_unformatted_code) {\n                             nbb_cells[i].set_text(nbb_formatted_code);\n                        }\n                        break;\n                    }\n                }\n            }, 500);\n            ",
      "text/plain": [
       "<IPython.core.display.Javascript object>"
      ]
     },
     "metadata": {},
     "output_type": "display_data"
    }
   ],
   "source": [
    "def assign_colour(correlation):\n",
    "    if correlation <= 0:\n",
    "        return \"#ffa09b\"  # red\n",
    "    else:\n",
    "        return \"#9eccb7\"  # green\n",
    "\n",
    "\n",
    "def assign_thickness(correlation, benchmark_thickness=2, scaling_factor=3):\n",
    "    return benchmark_thickness * abs(correlation) ** scaling_factor\n",
    "\n",
    "\n",
    "def assign_node_size(degree, scaling_factor=50):\n",
    "    return degree * scaling_factor\n",
    "\n",
    "\n",
    "# assign colours to edges depending on positive or negative correlation\n",
    "# assign edge thickness depending on magnitude of correlation\n",
    "def edge_colours(Gx):\n",
    "    colours = []\n",
    "    for key, value in nx.get_edge_attributes(Gx, \"correlation\").items():\n",
    "        colours.append(assign_colour(value))\n",
    "    return colours\n",
    "\n",
    "def edge_width(Gx):\n",
    "    width = []\n",
    "    for key, value in nx.get_edge_attributes(Gx, \"correlation\").items():\n",
    "        width.append(assign_thickness(value))\n",
    "    return width\n",
    "\n",
    "# assign node size depending on number of connections (degree)\n",
    "def node_size(Gx):\n",
    "    sizes = []\n",
    "    for key, value in dict(Gx.degree).items():\n",
    "        sizes.append(assign_node_size(value))\n",
    "    return sizes"
   ]
  },
  {
   "cell_type": "code",
   "execution_count": 63,
   "metadata": {},
   "outputs": [
    {
     "data": {
      "application/javascript": "\n            setTimeout(function() {\n                var nbb_cell_id = 63;\n                var nbb_unformatted_code = \"def plot_spanning_tree(G0):\\n    sns.set(rc={\\\"figure.figsize\\\": (9, 9)})\\n    font_dict = {\\\"fontsize\\\": 18}\\n\\n    # create minimum spanning tree layout from Gx\\n    # (after small correlations have been removed)\\n    mst = nx.minimum_spanning_tree(G0)\\n\\n    edge_colours = []\\n\\n    # assign edge colours\\n    for key, value in nx.get_edge_attributes(mst, \\\"correlation\\\").items():\\n        edge_colours.append(assign_colour(value))\\n\\n\\n    # draw minimum spanning tree. Set node size and width to constant\\n    nx.draw(\\n        mst,\\n        with_labels=True,\\n        pos=nx.fruchterman_reingold_layout(mst),\\n        node_size=200,\\n        node_color=\\\"#e1575c\\\",\\n        edge_color=edge_colours,\\n        width=1.2,\\n    )\\n\\n    # set title\\n    plt.title(\\\"Asset price correlations - Minimum Spanning Tree\\\", fontdict=font_dict)\\n    plt.show()\";\n                var nbb_formatted_code = \"def plot_spanning_tree(G0):\\n    sns.set(rc={\\\"figure.figsize\\\": (9, 9)})\\n    font_dict = {\\\"fontsize\\\": 18}\\n\\n    # create minimum spanning tree layout from Gx\\n    # (after small correlations have been removed)\\n    mst = nx.minimum_spanning_tree(G0)\\n\\n    edge_colours = []\\n\\n    # assign edge colours\\n    for key, value in nx.get_edge_attributes(mst, \\\"correlation\\\").items():\\n        edge_colours.append(assign_colour(value))\\n\\n    # draw minimum spanning tree. Set node size and width to constant\\n    nx.draw(\\n        mst,\\n        with_labels=True,\\n        pos=nx.fruchterman_reingold_layout(mst),\\n        node_size=200,\\n        node_color=\\\"#e1575c\\\",\\n        edge_color=edge_colours,\\n        width=1.2,\\n    )\\n\\n    # set title\\n    plt.title(\\\"Asset price correlations - Minimum Spanning Tree\\\", fontdict=font_dict)\\n    plt.show()\";\n                var nbb_cells = Jupyter.notebook.get_cells();\n                for (var i = 0; i < nbb_cells.length; ++i) {\n                    if (nbb_cells[i].input_prompt_number == nbb_cell_id) {\n                        if (nbb_cells[i].get_text() == nbb_unformatted_code) {\n                             nbb_cells[i].set_text(nbb_formatted_code);\n                        }\n                        break;\n                    }\n                }\n            }, 500);\n            ",
      "text/plain": [
       "<IPython.core.display.Javascript object>"
      ]
     },
     "metadata": {},
     "output_type": "display_data"
    }
   ],
   "source": [
    "# Kruskal\n",
    "def plot_spanning_tree(G0):\n",
    "    sns.set(rc={\"figure.figsize\": (9, 9)})\n",
    "    font_dict = {\"fontsize\": 18}\n",
    "\n",
    "    # create minimum spanning tree layout from Gx\n",
    "    # (after small correlations have been removed)\n",
    "    mst = nx.minimum_spanning_tree(G0)\n",
    "\n",
    "    edge_colours = []\n",
    "\n",
    "    # assign edge colours\n",
    "    for key, value in nx.get_edge_attributes(mst, \"correlation\").items():\n",
    "        edge_colours.append(assign_colour(value))\n",
    "\n",
    "\n",
    "    # draw minimum spanning tree. Set node size and width to constant\n",
    "    nx.draw(\n",
    "        mst,\n",
    "        with_labels=True,\n",
    "        pos=nx.fruchterman_reingold_layout(mst),\n",
    "        node_size=200,\n",
    "        node_color=\"#e1575c\",\n",
    "        edge_color=edge_colours,\n",
    "        width=1.2,\n",
    "    )\n",
    "\n",
    "    # set title\n",
    "    plt.title(\"Asset price correlations - Minimum Spanning Tree\", fontdict=font_dict)\n",
    "    plt.show()"
   ]
  },
  {
   "cell_type": "code",
   "execution_count": 75,
   "metadata": {},
   "outputs": [
    {
     "data": {
      "application/javascript": "\n            setTimeout(function() {\n                var nbb_cell_id = 75;\n                var nbb_unformatted_code = \"#plot_spanning_tree(assetG0)\";\n                var nbb_formatted_code = \"# plot_spanning_tree(assetG0)\";\n                var nbb_cells = Jupyter.notebook.get_cells();\n                for (var i = 0; i < nbb_cells.length; ++i) {\n                    if (nbb_cells[i].input_prompt_number == nbb_cell_id) {\n                        if (nbb_cells[i].get_text() == nbb_unformatted_code) {\n                             nbb_cells[i].set_text(nbb_formatted_code);\n                        }\n                        break;\n                    }\n                }\n            }, 500);\n            ",
      "text/plain": [
       "<IPython.core.display.Javascript object>"
      ]
     },
     "metadata": {},
     "output_type": "display_data"
    }
   ],
   "source": [
    "#plot_spanning_tree(assetG0)"
   ]
  },
  {
   "cell_type": "code",
   "execution_count": 65,
   "metadata": {},
   "outputs": [
    {
     "data": {
      "application/javascript": "\n            setTimeout(function() {\n                var nbb_cell_id = 65;\n                var nbb_unformatted_code = \"def convert_rankings_to_string(ranking):\\n    \\\"\\\"\\\"\\n    Concatenate list of nodes and correlations into a single html\\n    string (required format for the plotly tooltip)\\n\\n    Inserts html \\\"<br>\\\" inbetween each item in order to add a new\\n    line in the tooltip\\n    \\\"\\\"\\\"\\n    s = \\\"\\\"\\n    for r in ranking:\\n        s += r + \\\"<br>\\\"\\n    return s\\n\\n\\ndef calculate_stats(returns):\\n    \\\"\\\"\\\"calculate annualised returns and volatility for all ETFs\\n\\n    Returns:\\n        tuple: Outputs the annualised volatility and returns as a list of\\n            floats (for use in assigning node colours and sizes) and also\\n            as a lists of formatted strings to be used in the tool tips.\\n    \\\"\\\"\\\"\\n    #print(returns.head())\\n\\n    # log returns are additive, 252 trading days\\n    annualized_returns = [ \\n        np.mean(returns[col]) * 252 * 100 for col in list(returns.columns)\\n    ]\\n\\n    annualized_volatility = [\\n        np.std(returns[col] * 100) * (252 ** 0.5) for col in list(returns.columns)\\n    ]\\n\\n    # create string for tooltip\\n    annualized_volatility_2dp = [\\n        \\\"Annualized Volatility: \\\" \\\"%.1f\\\" % r + \\\"%\\\" for r in annualized_volatility\\n    ]\\n    annualized_returns_2dp = [\\n        \\\"Annualized Returns: \\\" \\\"%.1f\\\" % r + \\\"%\\\" for r in annualized_returns\\n    ]\\n\\n    return (\\n        annualized_volatility,\\n        annualized_returns,\\n        annualized_volatility_2dp,\\n        annualized_returns_2dp,\\n    )\\n\\n\\ndef get_top_and_bottom_three(corrMatrix):\\n    \\\"\\\"\\\"\\n    get a list of the top 3 and bottom 3 most/least correlated assests\\n    for each node.\\n\\n    Args:\\n        df (pd.DataFrame): pandas correlation matrix\\n\\n    Returns:\\n        top_3_list (list): list of lists containing the top 3 correlations\\n            (name and value)\\n        bottom_3_list (list): list of lists containing the bottom three\\n            correlations (name and value)\\n    \\\"\\\"\\\"\\n\\n    top_3_list = []\\n    bottom_3_list = []\\n\\n    for col in corrMatrix.columns:\\n\\n        # exclude self correlation #reverse order of the list returned\\n        top_3 = list(np.argsort(abs(corrMatrix[col]))[-4:-1][::-1])\\n        # bottom 3 list is returned in correct order\\n        bottom_3 = list(np.argsort(abs(corrMatrix[col]))[:3])\\n\\n        # get column index\\n        col_index = corrMatrix.columns.get_loc(col)\\n\\n        # find values based on index locations\\n        top_3_values = [corrMatrix.index[x] + \\\": %.2f\\\" % corrMatrix.iloc[x, col_index] for x in top_3]\\n        bottom_3_values = [\\n            corrMatrix.index[x] + \\\": %.2f\\\" % corrMatrix.iloc[x, col_index] for x in bottom_3\\n        ]\\n\\n        top_3_list.append(convert_rankings_to_string(top_3_values))\\n        bottom_3_list.append(convert_rankings_to_string(bottom_3_values))\\n\\n    return top_3_list, bottom_3_list\";\n                var nbb_formatted_code = \"def convert_rankings_to_string(ranking):\\n    \\\"\\\"\\\"\\n    Concatenate list of nodes and correlations into a single html\\n    string (required format for the plotly tooltip)\\n\\n    Inserts html \\\"<br>\\\" inbetween each item in order to add a new\\n    line in the tooltip\\n    \\\"\\\"\\\"\\n    s = \\\"\\\"\\n    for r in ranking:\\n        s += r + \\\"<br>\\\"\\n    return s\\n\\n\\ndef calculate_stats(returns):\\n    \\\"\\\"\\\"calculate annualised returns and volatility for all ETFs\\n\\n    Returns:\\n        tuple: Outputs the annualised volatility and returns as a list of\\n            floats (for use in assigning node colours and sizes) and also\\n            as a lists of formatted strings to be used in the tool tips.\\n    \\\"\\\"\\\"\\n    # print(returns.head())\\n\\n    # log returns are additive, 252 trading days\\n    annualized_returns = [\\n        np.mean(returns[col]) * 252 * 100 for col in list(returns.columns)\\n    ]\\n\\n    annualized_volatility = [\\n        np.std(returns[col] * 100) * (252**0.5) for col in list(returns.columns)\\n    ]\\n\\n    # create string for tooltip\\n    annualized_volatility_2dp = [\\n        \\\"Annualized Volatility: \\\" \\\"%.1f\\\" % r + \\\"%\\\" for r in annualized_volatility\\n    ]\\n    annualized_returns_2dp = [\\n        \\\"Annualized Returns: \\\" \\\"%.1f\\\" % r + \\\"%\\\" for r in annualized_returns\\n    ]\\n\\n    return (\\n        annualized_volatility,\\n        annualized_returns,\\n        annualized_volatility_2dp,\\n        annualized_returns_2dp,\\n    )\\n\\n\\ndef get_top_and_bottom_three(corrMatrix):\\n    \\\"\\\"\\\"\\n    get a list of the top 3 and bottom 3 most/least correlated assests\\n    for each node.\\n\\n    Args:\\n        df (pd.DataFrame): pandas correlation matrix\\n\\n    Returns:\\n        top_3_list (list): list of lists containing the top 3 correlations\\n            (name and value)\\n        bottom_3_list (list): list of lists containing the bottom three\\n            correlations (name and value)\\n    \\\"\\\"\\\"\\n\\n    top_3_list = []\\n    bottom_3_list = []\\n\\n    for col in corrMatrix.columns:\\n        # exclude self correlation #reverse order of the list returned\\n        top_3 = list(np.argsort(abs(corrMatrix[col]))[-4:-1][::-1])\\n        # bottom 3 list is returned in correct order\\n        bottom_3 = list(np.argsort(abs(corrMatrix[col]))[:3])\\n\\n        # get column index\\n        col_index = corrMatrix.columns.get_loc(col)\\n\\n        # find values based on index locations\\n        top_3_values = [\\n            corrMatrix.index[x] + \\\": %.2f\\\" % corrMatrix.iloc[x, col_index]\\n            for x in top_3\\n        ]\\n        bottom_3_values = [\\n            corrMatrix.index[x] + \\\": %.2f\\\" % corrMatrix.iloc[x, col_index]\\n            for x in bottom_3\\n        ]\\n\\n        top_3_list.append(convert_rankings_to_string(top_3_values))\\n        bottom_3_list.append(convert_rankings_to_string(bottom_3_values))\\n\\n    return top_3_list, bottom_3_list\";\n                var nbb_cells = Jupyter.notebook.get_cells();\n                for (var i = 0; i < nbb_cells.length; ++i) {\n                    if (nbb_cells[i].input_prompt_number == nbb_cell_id) {\n                        if (nbb_cells[i].get_text() == nbb_unformatted_code) {\n                             nbb_cells[i].set_text(nbb_formatted_code);\n                        }\n                        break;\n                    }\n                }\n            }, 500);\n            ",
      "text/plain": [
       "<IPython.core.display.Javascript object>"
      ]
     },
     "metadata": {},
     "output_type": "display_data"
    }
   ],
   "source": [
    "def convert_rankings_to_string(ranking):\n",
    "    \"\"\"\n",
    "    Concatenate list of nodes and correlations into a single html\n",
    "    string (required format for the plotly tooltip)\n",
    "\n",
    "    Inserts html \"<br>\" inbetween each item in order to add a new\n",
    "    line in the tooltip\n",
    "    \"\"\"\n",
    "    s = \"\"\n",
    "    for r in ranking:\n",
    "        s += r + \"<br>\"\n",
    "    return s\n",
    "\n",
    "\n",
    "def calculate_stats(returns):\n",
    "    \"\"\"calculate annualised returns and volatility for all ETFs\n",
    "\n",
    "    Returns:\n",
    "        tuple: Outputs the annualised volatility and returns as a list of\n",
    "            floats (for use in assigning node colours and sizes) and also\n",
    "            as a lists of formatted strings to be used in the tool tips.\n",
    "    \"\"\"\n",
    "    #print(returns.head())\n",
    "\n",
    "    # log returns are additive, 252 trading days\n",
    "    annualized_returns = [ \n",
    "        np.mean(returns[col]) * 252 * 100 for col in list(returns.columns)\n",
    "    ]\n",
    "\n",
    "    annualized_volatility = [\n",
    "        np.std(returns[col] * 100) * (252 ** 0.5) for col in list(returns.columns)\n",
    "    ]\n",
    "\n",
    "    # create string for tooltip\n",
    "    annualized_volatility_2dp = [\n",
    "        \"Annualized Volatility: \" \"%.1f\" % r + \"%\" for r in annualized_volatility\n",
    "    ]\n",
    "    annualized_returns_2dp = [\n",
    "        \"Annualized Returns: \" \"%.1f\" % r + \"%\" for r in annualized_returns\n",
    "    ]\n",
    "\n",
    "    return (\n",
    "        annualized_volatility,\n",
    "        annualized_returns,\n",
    "        annualized_volatility_2dp,\n",
    "        annualized_returns_2dp,\n",
    "    )\n",
    "\n",
    "\n",
    "def get_top_and_bottom_three(corrMatrix):\n",
    "    \"\"\"\n",
    "    get a list of the top 3 and bottom 3 most/least correlated assests\n",
    "    for each node.\n",
    "\n",
    "    Args:\n",
    "        df (pd.DataFrame): pandas correlation matrix\n",
    "\n",
    "    Returns:\n",
    "        top_3_list (list): list of lists containing the top 3 correlations\n",
    "            (name and value)\n",
    "        bottom_3_list (list): list of lists containing the bottom three\n",
    "            correlations (name and value)\n",
    "    \"\"\"\n",
    "\n",
    "    top_3_list = []\n",
    "    bottom_3_list = []\n",
    "\n",
    "    for col in corrMatrix.columns:\n",
    "\n",
    "        # exclude self correlation #reverse order of the list returned\n",
    "        top_3 = list(np.argsort(abs(corrMatrix[col]))[-4:-1][::-1])\n",
    "        # bottom 3 list is returned in correct order\n",
    "        bottom_3 = list(np.argsort(abs(corrMatrix[col]))[:3])\n",
    "\n",
    "        # get column index\n",
    "        col_index = corrMatrix.columns.get_loc(col)\n",
    "\n",
    "        # find values based on index locations\n",
    "        top_3_values = [corrMatrix.index[x] + \": %.2f\" % corrMatrix.iloc[x, col_index] for x in top_3]\n",
    "        bottom_3_values = [\n",
    "            corrMatrix.index[x] + \": %.2f\" % corrMatrix.iloc[x, col_index] for x in bottom_3\n",
    "        ]\n",
    "\n",
    "        top_3_list.append(convert_rankings_to_string(top_3_values))\n",
    "        bottom_3_list.append(convert_rankings_to_string(bottom_3_values))\n",
    "\n",
    "    return top_3_list, bottom_3_list"
   ]
  },
  {
   "cell_type": "code",
   "execution_count": 66,
   "metadata": {},
   "outputs": [
    {
     "data": {
      "application/javascript": "\n            setTimeout(function() {\n                var nbb_cell_id = 66;\n                var nbb_unformatted_code = \"def get_coordinates(mst):\\n    \\\"\\\"\\\"Returns the positions of nodes and edges in a format\\n    for Plotly to draw the network\\n    \\\"\\\"\\\"\\n    # get list of node positions\\n    pos = nx.fruchterman_reingold_layout(mst)\\n\\n    Xnodes = [pos[n][0] for n in mst.nodes()]\\n    Ynodes = [pos[n][1] for n in mst.nodes()]\\n\\n    Xedges = []\\n    Yedges = []\\n    for e in mst.edges():\\n        # x coordinates of the nodes defining the edge e\\n        Xedges.extend([pos[e[0]][0], pos[e[1]][0], None])\\n        Yedges.extend([pos[e[0]][1], pos[e[1]][1], None])\\n\\n    return Xnodes, Ynodes, Xedges, Yedges\";\n                var nbb_formatted_code = \"def get_coordinates(mst):\\n    \\\"\\\"\\\"Returns the positions of nodes and edges in a format\\n    for Plotly to draw the network\\n    \\\"\\\"\\\"\\n    # get list of node positions\\n    pos = nx.fruchterman_reingold_layout(mst)\\n\\n    Xnodes = [pos[n][0] for n in mst.nodes()]\\n    Ynodes = [pos[n][1] for n in mst.nodes()]\\n\\n    Xedges = []\\n    Yedges = []\\n    for e in mst.edges():\\n        # x coordinates of the nodes defining the edge e\\n        Xedges.extend([pos[e[0]][0], pos[e[1]][0], None])\\n        Yedges.extend([pos[e[0]][1], pos[e[1]][1], None])\\n\\n    return Xnodes, Ynodes, Xedges, Yedges\";\n                var nbb_cells = Jupyter.notebook.get_cells();\n                for (var i = 0; i < nbb_cells.length; ++i) {\n                    if (nbb_cells[i].input_prompt_number == nbb_cell_id) {\n                        if (nbb_cells[i].get_text() == nbb_unformatted_code) {\n                             nbb_cells[i].set_text(nbb_formatted_code);\n                        }\n                        break;\n                    }\n                }\n            }, 500);\n            ",
      "text/plain": [
       "<IPython.core.display.Javascript object>"
      ]
     },
     "metadata": {},
     "output_type": "display_data"
    }
   ],
   "source": [
    "def get_coordinates(mst):\n",
    "    \"\"\"Returns the positions of nodes and edges in a format\n",
    "    for Plotly to draw the network\n",
    "    \"\"\"\n",
    "    # get list of node positions\n",
    "    pos = nx.fruchterman_reingold_layout(mst)\n",
    "\n",
    "    Xnodes = [pos[n][0] for n in mst.nodes()]\n",
    "    Ynodes = [pos[n][1] for n in mst.nodes()]\n",
    "\n",
    "    Xedges = []\n",
    "    Yedges = []\n",
    "    for e in mst.edges():\n",
    "        # x coordinates of the nodes defining the edge e\n",
    "        Xedges.extend([pos[e[0]][0], pos[e[1]][0], None])\n",
    "        Yedges.extend([pos[e[0]][1], pos[e[1]][1], None])\n",
    "\n",
    "    return Xnodes, Ynodes, Xedges, Yedges"
   ]
  },
  {
   "cell_type": "code",
   "execution_count": 67,
   "metadata": {},
   "outputs": [
    {
     "data": {
      "application/javascript": "\n            setTimeout(function() {\n                var nbb_cell_id = 67;\n                var nbb_unformatted_code = \"# Plot graph\\ndef plot_graph(dataFrame, threshold):\\n    returns = log_returns(dataFrame)\\n    corrMatrix = returns.corr()\\n    edgs = edges(corrMatrix)\\n    Gx = undirected_graph(edgs, threshold)\\n\\n    # create minimum spanning tree layout from Gx\\n    # (after small correlations have been removed)\\n    mst = nx.minimum_spanning_tree(Gx)\\n\\n    # get statistics for tooltip\\n\\n    # make list of node labels.\\n    node_label = list(mst.nodes())\\n    # calculate annualised returns, annualised volatility and round to 2dp\\n    annual_vol, annual_ret, annual_vol_2dp, annual_ret_2dp = calculate_stats(returns)\\n    # get top and bottom 3 correlations for each node\\n    top_3_corrs, bottom_3_corrs = get_top_and_bottom_three(corrMatrix)\\n\\n\\n    # create tooltip string by concatenating statistics\\n    description = [\\n        f\\\"<b>{node}</b>\\\"\\n        + \\\"<br>\\\"\\n        + annual_ret_2dp[index]\\n        + \\\"<br>\\\"\\n        + annual_vol_2dp[index]\\n        + \\\"<br><br>Strongest correlations with: \\\"\\n        + \\\"<br>\\\"\\n        + top_3_corrs[index]\\n        + \\\"<br>Weakest correlations with: \\\"\\n        \\\"<br>\\\" + bottom_3_corrs[index]\\n        for index, node in enumerate(node_label)\\n    ]\\n\\n    # get coordinates for nodes and edges\\n    Xnodes, Ynodes, Xedges, Yedges = get_coordinates(mst)\\n\\n    # assign node colour depending on positive or negative annualised returns\\n    node_colour = [assign_colour(i) for i in annual_ret]\\n\\n    # assign node size based on annualised returns size (scaled by a factor)\\n    node_size = [abs(x) ** 0.5 * 5 for x in annual_ret]\\n\\n    # edges\\n    tracer = go.Scatter(\\n        x=Xedges,\\n        y=Yedges,\\n        mode=\\\"lines\\\",\\n        line=dict(color=\\\"#DCDCDC\\\", width=1),\\n        hoverinfo=\\\"none\\\",\\n        showlegend=False,\\n    )\\n\\n\\n    # nodes\\n    tracer_marker = go.Scatter(\\n        x=Xnodes,\\n        y=Ynodes,\\n        mode=\\\"markers+text\\\",\\n        textposition=\\\"top center\\\",\\n        marker=dict(size=node_size, line=dict(width=1), color=node_colour),\\n        hoverinfo=\\\"text\\\",\\n        hovertext=description,\\n        text=node_label,\\n        textfont=dict(size=7),\\n        showlegend=False,\\n    )\\n\\n\\n    axis_style = dict(\\n        title=\\\"\\\",\\n        titlefont=dict(size=20),\\n        showgrid=False,\\n        zeroline=False,\\n        showline=False,\\n        ticks=\\\"\\\",\\n        showticklabels=False,\\n    )\\n\\n\\n    layout = dict(\\n        title=\\\"Plotly - interactive minimum spanning tree\\\",\\n        width=800,\\n        height=800,\\n        autosize=False,\\n        showlegend=False,\\n        xaxis=axis_style,\\n        yaxis=axis_style,\\n        hovermode=\\\"closest\\\",\\n        plot_bgcolor=\\\"#fff\\\",\\n    )\\n\\n\\n    fig = go.Figure()\\n    fig.add_trace(tracer)\\n    fig.add_trace(tracer_marker)\\n    fig.update_layout(layout)\\n\\n    fig.show()\\n\\n    display(\\n        HTML(\\n            \\\"\\\"\\\"\\n            <p>Node sizes are proportional to the size of\\n            annualised returns.<br>Node colours signify positive\\n            or negative returns since beginning of the timeframe.</p>\\n            \\\"\\\"\\\"\\n        )\\n    )\\n\\n    return fig\";\n                var nbb_formatted_code = \"# Plot graph\\ndef plot_graph(dataFrame, threshold):\\n    returns = log_returns(dataFrame)\\n    corrMatrix = returns.corr()\\n    edgs = edges(corrMatrix)\\n    Gx = undirected_graph(edgs, threshold)\\n\\n    # create minimum spanning tree layout from Gx\\n    # (after small correlations have been removed)\\n    mst = nx.minimum_spanning_tree(Gx)\\n\\n    # get statistics for tooltip\\n\\n    # make list of node labels.\\n    node_label = list(mst.nodes())\\n    # calculate annualised returns, annualised volatility and round to 2dp\\n    annual_vol, annual_ret, annual_vol_2dp, annual_ret_2dp = calculate_stats(returns)\\n    # get top and bottom 3 correlations for each node\\n    top_3_corrs, bottom_3_corrs = get_top_and_bottom_three(corrMatrix)\\n\\n    # create tooltip string by concatenating statistics\\n    description = [\\n        f\\\"<b>{node}</b>\\\"\\n        + \\\"<br>\\\"\\n        + annual_ret_2dp[index]\\n        + \\\"<br>\\\"\\n        + annual_vol_2dp[index]\\n        + \\\"<br><br>Strongest correlations with: \\\"\\n        + \\\"<br>\\\"\\n        + top_3_corrs[index]\\n        + \\\"<br>Weakest correlations with: \\\"\\n        \\\"<br>\\\" + bottom_3_corrs[index]\\n        for index, node in enumerate(node_label)\\n    ]\\n\\n    # get coordinates for nodes and edges\\n    Xnodes, Ynodes, Xedges, Yedges = get_coordinates(mst)\\n\\n    # assign node colour depending on positive or negative annualised returns\\n    node_colour = [assign_colour(i) for i in annual_ret]\\n\\n    # assign node size based on annualised returns size (scaled by a factor)\\n    node_size = [abs(x) ** 0.5 * 5 for x in annual_ret]\\n\\n    # edges\\n    tracer = go.Scatter(\\n        x=Xedges,\\n        y=Yedges,\\n        mode=\\\"lines\\\",\\n        line=dict(color=\\\"#DCDCDC\\\", width=1),\\n        hoverinfo=\\\"none\\\",\\n        showlegend=False,\\n    )\\n\\n    # nodes\\n    tracer_marker = go.Scatter(\\n        x=Xnodes,\\n        y=Ynodes,\\n        mode=\\\"markers+text\\\",\\n        textposition=\\\"top center\\\",\\n        marker=dict(size=node_size, line=dict(width=1), color=node_colour),\\n        hoverinfo=\\\"text\\\",\\n        hovertext=description,\\n        text=node_label,\\n        textfont=dict(size=7),\\n        showlegend=False,\\n    )\\n\\n    axis_style = dict(\\n        title=\\\"\\\",\\n        titlefont=dict(size=20),\\n        showgrid=False,\\n        zeroline=False,\\n        showline=False,\\n        ticks=\\\"\\\",\\n        showticklabels=False,\\n    )\\n\\n    layout = dict(\\n        title=\\\"Plotly - interactive minimum spanning tree\\\",\\n        width=800,\\n        height=800,\\n        autosize=False,\\n        showlegend=False,\\n        xaxis=axis_style,\\n        yaxis=axis_style,\\n        hovermode=\\\"closest\\\",\\n        plot_bgcolor=\\\"#fff\\\",\\n    )\\n\\n    fig = go.Figure()\\n    fig.add_trace(tracer)\\n    fig.add_trace(tracer_marker)\\n    fig.update_layout(layout)\\n\\n    fig.show()\\n\\n    display(\\n        HTML(\\n            \\\"\\\"\\\"\\n            <p>Node sizes are proportional to the size of\\n            annualised returns.<br>Node colours signify positive\\n            or negative returns since beginning of the timeframe.</p>\\n            \\\"\\\"\\\"\\n        )\\n    )\\n\\n    return fig\";\n                var nbb_cells = Jupyter.notebook.get_cells();\n                for (var i = 0; i < nbb_cells.length; ++i) {\n                    if (nbb_cells[i].input_prompt_number == nbb_cell_id) {\n                        if (nbb_cells[i].get_text() == nbb_unformatted_code) {\n                             nbb_cells[i].set_text(nbb_formatted_code);\n                        }\n                        break;\n                    }\n                }\n            }, 500);\n            ",
      "text/plain": [
       "<IPython.core.display.Javascript object>"
      ]
     },
     "metadata": {},
     "output_type": "display_data"
    }
   ],
   "source": [
    "# Plot graph\n",
    "def plot_graph(dataFrame, threshold):\n",
    "    returns = log_returns(dataFrame)\n",
    "    corrMatrix = returns.corr()\n",
    "    edgs = edges(corrMatrix)\n",
    "    Gx = undirected_graph(edgs, threshold)\n",
    "\n",
    "    # create minimum spanning tree layout from Gx\n",
    "    # (after small correlations have been removed)\n",
    "    mst = nx.minimum_spanning_tree(Gx)\n",
    "\n",
    "    # get statistics for tooltip\n",
    "\n",
    "    # make list of node labels.\n",
    "    node_label = list(mst.nodes())\n",
    "    # calculate annualised returns, annualised volatility and round to 2dp\n",
    "    annual_vol, annual_ret, annual_vol_2dp, annual_ret_2dp = calculate_stats(returns)\n",
    "    # get top and bottom 3 correlations for each node\n",
    "    top_3_corrs, bottom_3_corrs = get_top_and_bottom_three(corrMatrix)\n",
    "\n",
    "\n",
    "    # create tooltip string by concatenating statistics\n",
    "    description = [\n",
    "        f\"<b>{node}</b>\"\n",
    "        + \"<br>\"\n",
    "        + annual_ret_2dp[index]\n",
    "        + \"<br>\"\n",
    "        + annual_vol_2dp[index]\n",
    "        + \"<br><br>Strongest correlations with: \"\n",
    "        + \"<br>\"\n",
    "        + top_3_corrs[index]\n",
    "        + \"<br>Weakest correlations with: \"\n",
    "        \"<br>\" + bottom_3_corrs[index]\n",
    "        for index, node in enumerate(node_label)\n",
    "    ]\n",
    "\n",
    "    # get coordinates for nodes and edges\n",
    "    Xnodes, Ynodes, Xedges, Yedges = get_coordinates(mst)\n",
    "\n",
    "    # assign node colour depending on positive or negative annualised returns\n",
    "    node_colour = [assign_colour(i) for i in annual_ret]\n",
    "\n",
    "    # assign node size based on annualised returns size (scaled by a factor)\n",
    "    node_size = [abs(x) ** 0.5 * 5 for x in annual_ret]\n",
    "\n",
    "    # edges\n",
    "    tracer = go.Scatter(\n",
    "        x=Xedges,\n",
    "        y=Yedges,\n",
    "        mode=\"lines\",\n",
    "        line=dict(color=\"#DCDCDC\", width=1),\n",
    "        hoverinfo=\"none\",\n",
    "        showlegend=False,\n",
    "    )\n",
    "\n",
    "\n",
    "    # nodes\n",
    "    tracer_marker = go.Scatter(\n",
    "        x=Xnodes,\n",
    "        y=Ynodes,\n",
    "        mode=\"markers+text\",\n",
    "        textposition=\"top center\",\n",
    "        marker=dict(size=node_size, line=dict(width=1), color=node_colour),\n",
    "        hoverinfo=\"text\",\n",
    "        hovertext=description,\n",
    "        text=node_label,\n",
    "        textfont=dict(size=7),\n",
    "        showlegend=False,\n",
    "    )\n",
    "\n",
    "\n",
    "    axis_style = dict(\n",
    "        title=\"\",\n",
    "        titlefont=dict(size=20),\n",
    "        showgrid=False,\n",
    "        zeroline=False,\n",
    "        showline=False,\n",
    "        ticks=\"\",\n",
    "        showticklabels=False,\n",
    "    )\n",
    "\n",
    "\n",
    "    layout = dict(\n",
    "        title=\"Plotly - interactive minimum spanning tree\",\n",
    "        width=800,\n",
    "        height=800,\n",
    "        autosize=False,\n",
    "        showlegend=False,\n",
    "        xaxis=axis_style,\n",
    "        yaxis=axis_style,\n",
    "        hovermode=\"closest\",\n",
    "        plot_bgcolor=\"#fff\",\n",
    "    )\n",
    "\n",
    "\n",
    "    fig = go.Figure()\n",
    "    fig.add_trace(tracer)\n",
    "    fig.add_trace(tracer_marker)\n",
    "    fig.update_layout(layout)\n",
    "\n",
    "    fig.show()\n",
    "\n",
    "    display(\n",
    "        HTML(\n",
    "            \"\"\"\n",
    "            <p>Node sizes are proportional to the size of\n",
    "            annualised returns.<br>Node colours signify positive\n",
    "            or negative returns since beginning of the timeframe.</p>\n",
    "            \"\"\"\n",
    "        )\n",
    "    )\n",
    "\n",
    "    return fig\n"
   ]
  },
  {
   "cell_type": "code",
   "execution_count": 68,
   "metadata": {},
   "outputs": [
    {
     "name": "stdout",
     "output_type": "stream",
     "text": [
      "138 edges removed\n"
     ]
    },
    {
     "data": {
      "application/vnd.plotly.v1+json": {
       "config": {
        "plotlyServerURL": "https://plot.ly"
       },
       "data": [
        {
         "hoverinfo": "none",
         "line": {
          "color": "#DCDCDC",
          "width": 1
         },
         "mode": "lines",
         "showlegend": false,
         "type": "scatter",
         "x": [
          0.8575672442020125,
          0.6726239346819501,
          null,
          0.8575672442020125,
          1,
          null,
          -0.37287062138963767,
          -0.5395599621493582,
          null,
          -0.37287062138963767,
          -0.16615516768261118,
          null,
          -0.37287062138963767,
          -0.4365015437614634,
          null,
          0.6726239346819501,
          0.4473418815373936,
          null,
          -0.32832483458761197,
          -0.16615516768261118,
          null,
          -0.32832483458761197,
          -0.47029286712783896,
          null,
          -0.32832483458761197,
          -0.36230812639019594,
          null,
          -0.32832483458761197,
          -0.5065958937212798,
          null,
          -0.32832483458761197,
          -0.24489299333162193,
          null,
          0.17235208198766158,
          -0.16615516768261118,
          null,
          0.17235208198766158,
          0.4473418815373936,
          null,
          0.17235208198766158,
          0.13532040256637004,
          null,
          0.17235208198766158,
          0.27514405116748275,
          null,
          0.17235208198766158,
          0.34908634071151434,
          null,
          0.17235208198766158,
          0.05119427879491173,
          null,
          0.17235208198766158,
          0.2825629034165164,
          null,
          0.17235208198766158,
          0.16316877595512966,
          null
         ],
         "y": [
          -0.4012733422390259,
          -0.2940909126874079,
          null,
          -0.4012733422390259,
          -0.486263142438846,
          null,
          -0.08312389724221583,
          -0.18164824716560496,
          null,
          -0.08312389724221583,
          0.10731832084962407,
          null,
          -0.08312389724221583,
          -0.25082806395027685,
          null,
          -0.2940909126874079,
          -0.16960158046989646,
          null,
          0.39940808313373166,
          0.10731832084962407,
          null,
          0.39940808313373166,
          0.5337595451662566,
          null,
          0.39940808313373166,
          0.5941042111413928,
          null,
          0.39940808313373166,
          0.407944802666734,
          null,
          0.39940808313373166,
          0.5536178081257801,
          null,
          -0.024092248930613805,
          0.10731832084962407,
          null,
          -0.024092248930613805,
          -0.16960158046989646,
          null,
          -0.024092248930613805,
          0.13067773241622502,
          null,
          -0.024092248930613805,
          0.13764267859929427,
          null,
          -0.024092248930613805,
          0.030428960799933073,
          null,
          -0.024092248930613805,
          -0.12676892343540197,
          null,
          -0.024092248930613805,
          -0.13721794429055836,
          null,
          -0.024092248930613805,
          -0.2133838907689643,
          null
         ]
        },
        {
         "hoverinfo": "text",
         "hovertext": [
          "<b>CADUSD=X</b><br>Annualized Returns: 2.3%<br>Annualized Volatility: 7.1%<br><br>Strongest correlations with: <br>EURUSD=X: 0.53<br>CHFUSD=X: 0.44<br>QLTY: -0.27<br><br>Weakest correlations with: <br>VTI: -0.00<br>VT: -0.01<br>LTPZ: -0.01<br>",
          "<b>CCRV</b><br>Annualized Returns: -23.6%<br>Annualized Volatility: 21.2%<br><br>Strongest correlations with: <br>GSG: 0.92<br>KMLM: 0.35<br>VTIP: 0.35<br><br>Weakest correlations with: <br>CHFUSD=X: -0.01<br>EURUSD=X: -0.03<br>CTA: -0.04<br>",
          "<b>CHFUSD=X</b><br>Annualized Returns: -1.6%<br>Annualized Volatility: 7.9%<br><br>Strongest correlations with: <br>EURUSD=X: 0.75<br>CADUSD=X: 0.44<br>QLTY: -0.32<br><br>Weakest correlations with: <br>VWOB: -0.00<br>KMLM: 0.00<br>CCRV: -0.01<br>",
          "<b>CTA</b><br>Annualized Returns: -0.3%<br>Annualized Volatility: 17.2%<br><br>Strongest correlations with: <br>UUP: 0.41<br>VTIP: -0.41<br>KMLM: 0.40<br><br>Weakest correlations with: <br>QLTY: -0.00<br>GSG: -0.03<br>VIXM: 0.03<br>",
          "<b>EURUSD=X</b><br>Annualized Returns: 3.2%<br>Annualized Volatility: 7.8%<br><br>Strongest correlations with: <br>CHFUSD=X: 0.75<br>CADUSD=X: 0.53<br>QLTY: -0.31<br><br>Weakest correlations with: <br>KMLM: 0.01<br>TFPN: 0.02<br>VTI: -0.02<br>",
          "<b>EWL</b><br>Annualized Returns: -4.6%<br>Annualized Volatility: 16.4%<br><br>Strongest correlations with: <br>VT: 0.81<br>VTI: 0.74<br>VNQ: 0.62<br><br>Weakest correlations with: <br>CADUSD=X: 0.02<br>EURUSD=X: -0.02<br>CHFUSD=X: -0.07<br>",
          "<b>GSG</b><br>Annualized Returns: -23.5%<br>Annualized Volatility: 24.2%<br><br>Strongest correlations with: <br>CCRV: 0.92<br>KMLM: 0.36<br>VTIP: 0.35<br><br>Weakest correlations with: <br>CHFUSD=X: -0.02<br>CTA: -0.03<br>EURUSD=X: -0.04<br>",
          "<b>KMLM</b><br>Annualized Returns: -6.3%<br>Annualized Volatility: 17.2%<br><br>Strongest correlations with: <br>VWOB: -0.49<br>TLT: -0.46<br>CTA: 0.40<br><br>Weakest correlations with: <br>CHFUSD=X: 0.00<br>EURUSD=X: 0.01<br>VIXY: 0.10<br>",
          "<b>LTPZ</b><br>Annualized Returns: 8.3%<br>Annualized Volatility: 18.5%<br><br>Strongest correlations with: <br>TLT: 0.81<br>VTIP: 0.68<br>VWOB: 0.58<br><br>Weakest correlations with: <br>CADUSD=X: -0.01<br>EURUSD=X: 0.02<br>CHFUSD=X: 0.02<br>",
          "<b>QLTY</b><br>Annualized Returns: -51.3%<br>Annualized Volatility: 9.7%<br><br>Strongest correlations with: <br>VTI: 0.88<br>VT: 0.82<br>VIXY: -0.55<br><br>Weakest correlations with: <br>CTA: -0.00<br>VTIP: 0.07<br>TFPN: -0.09<br>",
          "<b>TFPN</b><br>Annualized Returns: 5.0%<br>Annualized Volatility: 6.3%<br><br>Strongest correlations with: <br>KMLM: 0.22<br>CCRV: 0.12<br>LTPZ: -0.12<br><br>Weakest correlations with: <br>VTIP: -0.00<br>VT: -0.01<br>VIXM: 0.01<br>",
          "<b>TLT</b><br>Annualized Returns: 9.5%<br>Annualized Volatility: 17.6%<br><br>Strongest correlations with: <br>LTPZ: 0.81<br>VWOB: 0.59<br>KMLM: -0.46<br><br>Weakest correlations with: <br>VIXM: -0.01<br>VIXY: 0.01<br>CADUSD=X: -0.04<br>",
          "<b>UUP</b><br>Annualized Returns: -4.6%<br>Annualized Volatility: 7.5%<br><br>Strongest correlations with: <br>EWL: -0.62<br>VT: -0.54<br>VWOB: -0.51<br><br>Weakest correlations with: <br>CHFUSD=X: -0.01<br>EURUSD=X: -0.02<br>CADUSD=X: -0.04<br>",
          "<b>VIXM</b><br>Annualized Returns: 28.3%<br>Annualized Volatility: 28.6%<br><br>Strongest correlations with: <br>VIXY: 0.92<br>VT: -0.75<br>VTI: -0.75<br><br>Weakest correlations with: <br>TFPN: 0.01<br>TLT: -0.01<br>EURUSD=X: 0.03<br>",
          "<b>VIXY</b><br>Annualized Returns: 111.2%<br>Annualized Volatility: 65.7%<br><br>Strongest correlations with: <br>VIXM: 0.92<br>VT: -0.76<br>VTI: -0.76<br><br>Weakest correlations with: <br>TLT: 0.01<br>CADUSD=X: 0.01<br>EURUSD=X: 0.02<br>",
          "<b>VNQ</b><br>Annualized Returns: -7.3%<br>Annualized Volatility: 20.4%<br><br>Strongest correlations with: <br>VTI: 0.76<br>VT: 0.75<br>VPU: 0.69<br><br>Weakest correlations with: <br>CHFUSD=X: -0.02<br>EURUSD=X: 0.02<br>CADUSD=X: 0.02<br>",
          "<b>VPU</b><br>Annualized Returns: -7.5%<br>Annualized Volatility: 17.9%<br><br>Strongest correlations with: <br>VNQ: 0.69<br>QLTY: 0.53<br>VTI: 0.52<br><br>Weakest correlations with: <br>CADUSD=X: -0.02<br>CHFUSD=X: -0.04<br>EURUSD=X: -0.06<br>",
          "<b>VT</b><br>Annualized Returns: -8.0%<br>Annualized Volatility: 16.9%<br><br>Strongest correlations with: <br>VTI: 0.98<br>QLTY: 0.82<br>EWL: 0.81<br><br>Weakest correlations with: <br>TFPN: -0.01<br>CADUSD=X: -0.01<br>EURUSD=X: -0.03<br>",
          "<b>VTI</b><br>Annualized Returns: -10.8%<br>Annualized Volatility: 18.3%<br><br>Strongest correlations with: <br>VT: 0.98<br>QLTY: 0.88<br>VNQ: 0.76<br><br>Weakest correlations with: <br>CADUSD=X: -0.00<br>TFPN: 0.02<br>EURUSD=X: -0.02<br>",
          "<b>VTIP</b><br>Annualized Returns: -3.0%<br>Annualized Volatility: 3.3%<br><br>Strongest correlations with: <br>LTPZ: 0.68<br>VWOB: 0.48<br>TLT: 0.45<br><br>Weakest correlations with: <br>TFPN: -0.00<br>EURUSD=X: 0.06<br>CHFUSD=X: 0.06<br>",
          "<b>VWOB</b><br>Annualized Returns: 0.6%<br>Annualized Volatility: 10.7%<br><br>Strongest correlations with: <br>VT: 0.61<br>TLT: 0.59<br>LTPZ: 0.58<br><br>Weakest correlations with: <br>CHFUSD=X: -0.00<br>EURUSD=X: 0.02<br>TFPN: -0.03<br>"
         ],
         "marker": {
          "color": [
           "#9eccb7",
           "#ffa09b",
           "#ffa09b",
           "#ffa09b",
           "#9eccb7",
           "#ffa09b",
           "#ffa09b",
           "#ffa09b",
           "#9eccb7",
           "#ffa09b",
           "#9eccb7",
           "#9eccb7",
           "#ffa09b",
           "#9eccb7",
           "#9eccb7",
           "#ffa09b",
           "#ffa09b",
           "#ffa09b",
           "#ffa09b",
           "#ffa09b",
           "#9eccb7"
          ],
          "line": {
           "width": 1
          },
          "size": [
           7.584868492755065,
           24.272344931796393,
           6.313521421754272,
           2.826734486809422,
           8.988161134770737,
           10.741499032016971,
           24.243477461423293,
           12.506689070926477,
           14.379215363448752,
           35.81461182458977,
           11.139081566815939,
           15.43786585234961,
           10.71587688683403,
           26.576346853105235,
           52.715200917863754,
           13.500733724609015,
           13.70826867602345,
           14.132590625225136,
           16.409401138636422,
           8.635975261944012,
           3.7745753943116505
          ]
         },
         "mode": "markers+text",
         "showlegend": false,
         "text": [
          "CADUSD=X",
          "CCRV",
          "CHFUSD=X",
          "CTA",
          "EURUSD=X",
          "EWL",
          "GSG",
          "KMLM",
          "LTPZ",
          "QLTY",
          "TFPN",
          "TLT",
          "UUP",
          "VIXM",
          "VIXY",
          "VNQ",
          "VPU",
          "VT",
          "VTI",
          "VTIP",
          "VWOB"
         ],
         "textfont": {
          "size": 7
         },
         "textposition": "top center",
         "type": "scatter",
         "x": [
          0.8575672442020125,
          -0.37287062138963767,
          0.6726239346819501,
          -0.32832483458761197,
          1,
          0.17235208198766158,
          -0.5395599621493582,
          -0.16615516768261118,
          -0.47029286712783896,
          0.4473418815373936,
          -0.9788598848793237,
          -0.36230812639019594,
          -0.5065958937212798,
          0.13532040256637004,
          0.27514405116748275,
          0.34908634071151434,
          0.05119427879491173,
          0.2825629034165164,
          0.16316877595512966,
          -0.4365015437614634,
          -0.24489299333162193
         ],
         "y": [
          -0.4012733422390259,
          -0.08312389724221583,
          -0.2940909126874079,
          0.39940808313373166,
          -0.486263142438846,
          -0.024092248930613805,
          -0.18164824716560496,
          0.10731832084962407,
          0.5337595451662566,
          -0.16960158046989646,
          -0.5266099492801596,
          0.5941042111413928,
          0.407944802666734,
          0.13067773241622502,
          0.13764267859929427,
          0.030428960799933073,
          -0.12676892343540197,
          -0.13721794429055836,
          -0.2133838907689643,
          -0.25082806395027685,
          0.5536178081257801
         ]
        }
       ],
       "layout": {
        "autosize": false,
        "height": 800,
        "hovermode": "closest",
        "plot_bgcolor": "#fff",
        "showlegend": false,
        "template": {
         "data": {
          "bar": [
           {
            "error_x": {
             "color": "#2a3f5f"
            },
            "error_y": {
             "color": "#2a3f5f"
            },
            "marker": {
             "line": {
              "color": "#E5ECF6",
              "width": 0.5
             },
             "pattern": {
              "fillmode": "overlay",
              "size": 10,
              "solidity": 0.2
             }
            },
            "type": "bar"
           }
          ],
          "barpolar": [
           {
            "marker": {
             "line": {
              "color": "#E5ECF6",
              "width": 0.5
             },
             "pattern": {
              "fillmode": "overlay",
              "size": 10,
              "solidity": 0.2
             }
            },
            "type": "barpolar"
           }
          ],
          "carpet": [
           {
            "aaxis": {
             "endlinecolor": "#2a3f5f",
             "gridcolor": "white",
             "linecolor": "white",
             "minorgridcolor": "white",
             "startlinecolor": "#2a3f5f"
            },
            "baxis": {
             "endlinecolor": "#2a3f5f",
             "gridcolor": "white",
             "linecolor": "white",
             "minorgridcolor": "white",
             "startlinecolor": "#2a3f5f"
            },
            "type": "carpet"
           }
          ],
          "choropleth": [
           {
            "colorbar": {
             "outlinewidth": 0,
             "ticks": ""
            },
            "type": "choropleth"
           }
          ],
          "contour": [
           {
            "colorbar": {
             "outlinewidth": 0,
             "ticks": ""
            },
            "colorscale": [
             [
              0,
              "#0d0887"
             ],
             [
              0.1111111111111111,
              "#46039f"
             ],
             [
              0.2222222222222222,
              "#7201a8"
             ],
             [
              0.3333333333333333,
              "#9c179e"
             ],
             [
              0.4444444444444444,
              "#bd3786"
             ],
             [
              0.5555555555555556,
              "#d8576b"
             ],
             [
              0.6666666666666666,
              "#ed7953"
             ],
             [
              0.7777777777777778,
              "#fb9f3a"
             ],
             [
              0.8888888888888888,
              "#fdca26"
             ],
             [
              1,
              "#f0f921"
             ]
            ],
            "type": "contour"
           }
          ],
          "contourcarpet": [
           {
            "colorbar": {
             "outlinewidth": 0,
             "ticks": ""
            },
            "type": "contourcarpet"
           }
          ],
          "heatmap": [
           {
            "colorbar": {
             "outlinewidth": 0,
             "ticks": ""
            },
            "colorscale": [
             [
              0,
              "#0d0887"
             ],
             [
              0.1111111111111111,
              "#46039f"
             ],
             [
              0.2222222222222222,
              "#7201a8"
             ],
             [
              0.3333333333333333,
              "#9c179e"
             ],
             [
              0.4444444444444444,
              "#bd3786"
             ],
             [
              0.5555555555555556,
              "#d8576b"
             ],
             [
              0.6666666666666666,
              "#ed7953"
             ],
             [
              0.7777777777777778,
              "#fb9f3a"
             ],
             [
              0.8888888888888888,
              "#fdca26"
             ],
             [
              1,
              "#f0f921"
             ]
            ],
            "type": "heatmap"
           }
          ],
          "heatmapgl": [
           {
            "colorbar": {
             "outlinewidth": 0,
             "ticks": ""
            },
            "colorscale": [
             [
              0,
              "#0d0887"
             ],
             [
              0.1111111111111111,
              "#46039f"
             ],
             [
              0.2222222222222222,
              "#7201a8"
             ],
             [
              0.3333333333333333,
              "#9c179e"
             ],
             [
              0.4444444444444444,
              "#bd3786"
             ],
             [
              0.5555555555555556,
              "#d8576b"
             ],
             [
              0.6666666666666666,
              "#ed7953"
             ],
             [
              0.7777777777777778,
              "#fb9f3a"
             ],
             [
              0.8888888888888888,
              "#fdca26"
             ],
             [
              1,
              "#f0f921"
             ]
            ],
            "type": "heatmapgl"
           }
          ],
          "histogram": [
           {
            "marker": {
             "pattern": {
              "fillmode": "overlay",
              "size": 10,
              "solidity": 0.2
             }
            },
            "type": "histogram"
           }
          ],
          "histogram2d": [
           {
            "colorbar": {
             "outlinewidth": 0,
             "ticks": ""
            },
            "colorscale": [
             [
              0,
              "#0d0887"
             ],
             [
              0.1111111111111111,
              "#46039f"
             ],
             [
              0.2222222222222222,
              "#7201a8"
             ],
             [
              0.3333333333333333,
              "#9c179e"
             ],
             [
              0.4444444444444444,
              "#bd3786"
             ],
             [
              0.5555555555555556,
              "#d8576b"
             ],
             [
              0.6666666666666666,
              "#ed7953"
             ],
             [
              0.7777777777777778,
              "#fb9f3a"
             ],
             [
              0.8888888888888888,
              "#fdca26"
             ],
             [
              1,
              "#f0f921"
             ]
            ],
            "type": "histogram2d"
           }
          ],
          "histogram2dcontour": [
           {
            "colorbar": {
             "outlinewidth": 0,
             "ticks": ""
            },
            "colorscale": [
             [
              0,
              "#0d0887"
             ],
             [
              0.1111111111111111,
              "#46039f"
             ],
             [
              0.2222222222222222,
              "#7201a8"
             ],
             [
              0.3333333333333333,
              "#9c179e"
             ],
             [
              0.4444444444444444,
              "#bd3786"
             ],
             [
              0.5555555555555556,
              "#d8576b"
             ],
             [
              0.6666666666666666,
              "#ed7953"
             ],
             [
              0.7777777777777778,
              "#fb9f3a"
             ],
             [
              0.8888888888888888,
              "#fdca26"
             ],
             [
              1,
              "#f0f921"
             ]
            ],
            "type": "histogram2dcontour"
           }
          ],
          "mesh3d": [
           {
            "colorbar": {
             "outlinewidth": 0,
             "ticks": ""
            },
            "type": "mesh3d"
           }
          ],
          "parcoords": [
           {
            "line": {
             "colorbar": {
              "outlinewidth": 0,
              "ticks": ""
             }
            },
            "type": "parcoords"
           }
          ],
          "pie": [
           {
            "automargin": true,
            "type": "pie"
           }
          ],
          "scatter": [
           {
            "fillpattern": {
             "fillmode": "overlay",
             "size": 10,
             "solidity": 0.2
            },
            "type": "scatter"
           }
          ],
          "scatter3d": [
           {
            "line": {
             "colorbar": {
              "outlinewidth": 0,
              "ticks": ""
             }
            },
            "marker": {
             "colorbar": {
              "outlinewidth": 0,
              "ticks": ""
             }
            },
            "type": "scatter3d"
           }
          ],
          "scattercarpet": [
           {
            "marker": {
             "colorbar": {
              "outlinewidth": 0,
              "ticks": ""
             }
            },
            "type": "scattercarpet"
           }
          ],
          "scattergeo": [
           {
            "marker": {
             "colorbar": {
              "outlinewidth": 0,
              "ticks": ""
             }
            },
            "type": "scattergeo"
           }
          ],
          "scattergl": [
           {
            "marker": {
             "colorbar": {
              "outlinewidth": 0,
              "ticks": ""
             }
            },
            "type": "scattergl"
           }
          ],
          "scattermapbox": [
           {
            "marker": {
             "colorbar": {
              "outlinewidth": 0,
              "ticks": ""
             }
            },
            "type": "scattermapbox"
           }
          ],
          "scatterpolar": [
           {
            "marker": {
             "colorbar": {
              "outlinewidth": 0,
              "ticks": ""
             }
            },
            "type": "scatterpolar"
           }
          ],
          "scatterpolargl": [
           {
            "marker": {
             "colorbar": {
              "outlinewidth": 0,
              "ticks": ""
             }
            },
            "type": "scatterpolargl"
           }
          ],
          "scatterternary": [
           {
            "marker": {
             "colorbar": {
              "outlinewidth": 0,
              "ticks": ""
             }
            },
            "type": "scatterternary"
           }
          ],
          "surface": [
           {
            "colorbar": {
             "outlinewidth": 0,
             "ticks": ""
            },
            "colorscale": [
             [
              0,
              "#0d0887"
             ],
             [
              0.1111111111111111,
              "#46039f"
             ],
             [
              0.2222222222222222,
              "#7201a8"
             ],
             [
              0.3333333333333333,
              "#9c179e"
             ],
             [
              0.4444444444444444,
              "#bd3786"
             ],
             [
              0.5555555555555556,
              "#d8576b"
             ],
             [
              0.6666666666666666,
              "#ed7953"
             ],
             [
              0.7777777777777778,
              "#fb9f3a"
             ],
             [
              0.8888888888888888,
              "#fdca26"
             ],
             [
              1,
              "#f0f921"
             ]
            ],
            "type": "surface"
           }
          ],
          "table": [
           {
            "cells": {
             "fill": {
              "color": "#EBF0F8"
             },
             "line": {
              "color": "white"
             }
            },
            "header": {
             "fill": {
              "color": "#C8D4E3"
             },
             "line": {
              "color": "white"
             }
            },
            "type": "table"
           }
          ]
         },
         "layout": {
          "annotationdefaults": {
           "arrowcolor": "#2a3f5f",
           "arrowhead": 0,
           "arrowwidth": 1
          },
          "autotypenumbers": "strict",
          "coloraxis": {
           "colorbar": {
            "outlinewidth": 0,
            "ticks": ""
           }
          },
          "colorscale": {
           "diverging": [
            [
             0,
             "#8e0152"
            ],
            [
             0.1,
             "#c51b7d"
            ],
            [
             0.2,
             "#de77ae"
            ],
            [
             0.3,
             "#f1b6da"
            ],
            [
             0.4,
             "#fde0ef"
            ],
            [
             0.5,
             "#f7f7f7"
            ],
            [
             0.6,
             "#e6f5d0"
            ],
            [
             0.7,
             "#b8e186"
            ],
            [
             0.8,
             "#7fbc41"
            ],
            [
             0.9,
             "#4d9221"
            ],
            [
             1,
             "#276419"
            ]
           ],
           "sequential": [
            [
             0,
             "#0d0887"
            ],
            [
             0.1111111111111111,
             "#46039f"
            ],
            [
             0.2222222222222222,
             "#7201a8"
            ],
            [
             0.3333333333333333,
             "#9c179e"
            ],
            [
             0.4444444444444444,
             "#bd3786"
            ],
            [
             0.5555555555555556,
             "#d8576b"
            ],
            [
             0.6666666666666666,
             "#ed7953"
            ],
            [
             0.7777777777777778,
             "#fb9f3a"
            ],
            [
             0.8888888888888888,
             "#fdca26"
            ],
            [
             1,
             "#f0f921"
            ]
           ],
           "sequentialminus": [
            [
             0,
             "#0d0887"
            ],
            [
             0.1111111111111111,
             "#46039f"
            ],
            [
             0.2222222222222222,
             "#7201a8"
            ],
            [
             0.3333333333333333,
             "#9c179e"
            ],
            [
             0.4444444444444444,
             "#bd3786"
            ],
            [
             0.5555555555555556,
             "#d8576b"
            ],
            [
             0.6666666666666666,
             "#ed7953"
            ],
            [
             0.7777777777777778,
             "#fb9f3a"
            ],
            [
             0.8888888888888888,
             "#fdca26"
            ],
            [
             1,
             "#f0f921"
            ]
           ]
          },
          "colorway": [
           "#636efa",
           "#EF553B",
           "#00cc96",
           "#ab63fa",
           "#FFA15A",
           "#19d3f3",
           "#FF6692",
           "#B6E880",
           "#FF97FF",
           "#FECB52"
          ],
          "font": {
           "color": "#2a3f5f"
          },
          "geo": {
           "bgcolor": "white",
           "lakecolor": "white",
           "landcolor": "#E5ECF6",
           "showlakes": true,
           "showland": true,
           "subunitcolor": "white"
          },
          "hoverlabel": {
           "align": "left"
          },
          "hovermode": "closest",
          "mapbox": {
           "style": "light"
          },
          "paper_bgcolor": "white",
          "plot_bgcolor": "#E5ECF6",
          "polar": {
           "angularaxis": {
            "gridcolor": "white",
            "linecolor": "white",
            "ticks": ""
           },
           "bgcolor": "#E5ECF6",
           "radialaxis": {
            "gridcolor": "white",
            "linecolor": "white",
            "ticks": ""
           }
          },
          "scene": {
           "xaxis": {
            "backgroundcolor": "#E5ECF6",
            "gridcolor": "white",
            "gridwidth": 2,
            "linecolor": "white",
            "showbackground": true,
            "ticks": "",
            "zerolinecolor": "white"
           },
           "yaxis": {
            "backgroundcolor": "#E5ECF6",
            "gridcolor": "white",
            "gridwidth": 2,
            "linecolor": "white",
            "showbackground": true,
            "ticks": "",
            "zerolinecolor": "white"
           },
           "zaxis": {
            "backgroundcolor": "#E5ECF6",
            "gridcolor": "white",
            "gridwidth": 2,
            "linecolor": "white",
            "showbackground": true,
            "ticks": "",
            "zerolinecolor": "white"
           }
          },
          "shapedefaults": {
           "line": {
            "color": "#2a3f5f"
           }
          },
          "ternary": {
           "aaxis": {
            "gridcolor": "white",
            "linecolor": "white",
            "ticks": ""
           },
           "baxis": {
            "gridcolor": "white",
            "linecolor": "white",
            "ticks": ""
           },
           "bgcolor": "#E5ECF6",
           "caxis": {
            "gridcolor": "white",
            "linecolor": "white",
            "ticks": ""
           }
          },
          "title": {
           "x": 0.05
          },
          "xaxis": {
           "automargin": true,
           "gridcolor": "white",
           "linecolor": "white",
           "ticks": "",
           "title": {
            "standoff": 15
           },
           "zerolinecolor": "white",
           "zerolinewidth": 2
          },
          "yaxis": {
           "automargin": true,
           "gridcolor": "white",
           "linecolor": "white",
           "ticks": "",
           "title": {
            "standoff": 15
           },
           "zerolinecolor": "white",
           "zerolinewidth": 2
          }
         }
        },
        "title": {
         "text": "Plotly - interactive minimum spanning tree"
        },
        "width": 800,
        "xaxis": {
         "showgrid": false,
         "showline": false,
         "showticklabels": false,
         "ticks": "",
         "title": {
          "font": {
           "size": 20
          },
          "text": ""
         },
         "zeroline": false
        },
        "yaxis": {
         "showgrid": false,
         "showline": false,
         "showticklabels": false,
         "ticks": "",
         "title": {
          "font": {
           "size": 20
          },
          "text": ""
         },
         "zeroline": false
        }
       }
      },
      "text/html": [
       "<div>                            <div id=\"01fc2755-16ae-4362-879b-f143bb9b8056\" class=\"plotly-graph-div\" style=\"height:800px; width:800px;\"></div>            <script type=\"text/javascript\">                require([\"plotly\"], function(Plotly) {                    window.PLOTLYENV=window.PLOTLYENV || {};                                    if (document.getElementById(\"01fc2755-16ae-4362-879b-f143bb9b8056\")) {                    Plotly.newPlot(                        \"01fc2755-16ae-4362-879b-f143bb9b8056\",                        [{\"hoverinfo\":\"none\",\"line\":{\"color\":\"#DCDCDC\",\"width\":1},\"mode\":\"lines\",\"showlegend\":false,\"x\":[0.8575672442020125,0.6726239346819501,null,0.8575672442020125,1.0,null,-0.37287062138963767,-0.5395599621493582,null,-0.37287062138963767,-0.16615516768261118,null,-0.37287062138963767,-0.4365015437614634,null,0.6726239346819501,0.4473418815373936,null,-0.32832483458761197,-0.16615516768261118,null,-0.32832483458761197,-0.47029286712783896,null,-0.32832483458761197,-0.36230812639019594,null,-0.32832483458761197,-0.5065958937212798,null,-0.32832483458761197,-0.24489299333162193,null,0.17235208198766158,-0.16615516768261118,null,0.17235208198766158,0.4473418815373936,null,0.17235208198766158,0.13532040256637004,null,0.17235208198766158,0.27514405116748275,null,0.17235208198766158,0.34908634071151434,null,0.17235208198766158,0.05119427879491173,null,0.17235208198766158,0.2825629034165164,null,0.17235208198766158,0.16316877595512966,null],\"y\":[-0.4012733422390259,-0.2940909126874079,null,-0.4012733422390259,-0.486263142438846,null,-0.08312389724221583,-0.18164824716560496,null,-0.08312389724221583,0.10731832084962407,null,-0.08312389724221583,-0.25082806395027685,null,-0.2940909126874079,-0.16960158046989646,null,0.39940808313373166,0.10731832084962407,null,0.39940808313373166,0.5337595451662566,null,0.39940808313373166,0.5941042111413928,null,0.39940808313373166,0.407944802666734,null,0.39940808313373166,0.5536178081257801,null,-0.024092248930613805,0.10731832084962407,null,-0.024092248930613805,-0.16960158046989646,null,-0.024092248930613805,0.13067773241622502,null,-0.024092248930613805,0.13764267859929427,null,-0.024092248930613805,0.030428960799933073,null,-0.024092248930613805,-0.12676892343540197,null,-0.024092248930613805,-0.13721794429055836,null,-0.024092248930613805,-0.2133838907689643,null],\"type\":\"scatter\"},{\"hoverinfo\":\"text\",\"hovertext\":[\"\\u003cb\\u003eCADUSD=X\\u003c\\u002fb\\u003e\\u003cbr\\u003eAnnualized Returns: 2.3%\\u003cbr\\u003eAnnualized Volatility: 7.1%\\u003cbr\\u003e\\u003cbr\\u003eStrongest correlations with: \\u003cbr\\u003eEURUSD=X: 0.53\\u003cbr\\u003eCHFUSD=X: 0.44\\u003cbr\\u003eQLTY: -0.27\\u003cbr\\u003e\\u003cbr\\u003eWeakest correlations with: \\u003cbr\\u003eVTI: -0.00\\u003cbr\\u003eVT: -0.01\\u003cbr\\u003eLTPZ: -0.01\\u003cbr\\u003e\",\"\\u003cb\\u003eCCRV\\u003c\\u002fb\\u003e\\u003cbr\\u003eAnnualized Returns: -23.6%\\u003cbr\\u003eAnnualized Volatility: 21.2%\\u003cbr\\u003e\\u003cbr\\u003eStrongest correlations with: \\u003cbr\\u003eGSG: 0.92\\u003cbr\\u003eKMLM: 0.35\\u003cbr\\u003eVTIP: 0.35\\u003cbr\\u003e\\u003cbr\\u003eWeakest correlations with: \\u003cbr\\u003eCHFUSD=X: -0.01\\u003cbr\\u003eEURUSD=X: -0.03\\u003cbr\\u003eCTA: -0.04\\u003cbr\\u003e\",\"\\u003cb\\u003eCHFUSD=X\\u003c\\u002fb\\u003e\\u003cbr\\u003eAnnualized Returns: -1.6%\\u003cbr\\u003eAnnualized Volatility: 7.9%\\u003cbr\\u003e\\u003cbr\\u003eStrongest correlations with: \\u003cbr\\u003eEURUSD=X: 0.75\\u003cbr\\u003eCADUSD=X: 0.44\\u003cbr\\u003eQLTY: -0.32\\u003cbr\\u003e\\u003cbr\\u003eWeakest correlations with: \\u003cbr\\u003eVWOB: -0.00\\u003cbr\\u003eKMLM: 0.00\\u003cbr\\u003eCCRV: -0.01\\u003cbr\\u003e\",\"\\u003cb\\u003eCTA\\u003c\\u002fb\\u003e\\u003cbr\\u003eAnnualized Returns: -0.3%\\u003cbr\\u003eAnnualized Volatility: 17.2%\\u003cbr\\u003e\\u003cbr\\u003eStrongest correlations with: \\u003cbr\\u003eUUP: 0.41\\u003cbr\\u003eVTIP: -0.41\\u003cbr\\u003eKMLM: 0.40\\u003cbr\\u003e\\u003cbr\\u003eWeakest correlations with: \\u003cbr\\u003eQLTY: -0.00\\u003cbr\\u003eGSG: -0.03\\u003cbr\\u003eVIXM: 0.03\\u003cbr\\u003e\",\"\\u003cb\\u003eEURUSD=X\\u003c\\u002fb\\u003e\\u003cbr\\u003eAnnualized Returns: 3.2%\\u003cbr\\u003eAnnualized Volatility: 7.8%\\u003cbr\\u003e\\u003cbr\\u003eStrongest correlations with: \\u003cbr\\u003eCHFUSD=X: 0.75\\u003cbr\\u003eCADUSD=X: 0.53\\u003cbr\\u003eQLTY: -0.31\\u003cbr\\u003e\\u003cbr\\u003eWeakest correlations with: \\u003cbr\\u003eKMLM: 0.01\\u003cbr\\u003eTFPN: 0.02\\u003cbr\\u003eVTI: -0.02\\u003cbr\\u003e\",\"\\u003cb\\u003eEWL\\u003c\\u002fb\\u003e\\u003cbr\\u003eAnnualized Returns: -4.6%\\u003cbr\\u003eAnnualized Volatility: 16.4%\\u003cbr\\u003e\\u003cbr\\u003eStrongest correlations with: \\u003cbr\\u003eVT: 0.81\\u003cbr\\u003eVTI: 0.74\\u003cbr\\u003eVNQ: 0.62\\u003cbr\\u003e\\u003cbr\\u003eWeakest correlations with: \\u003cbr\\u003eCADUSD=X: 0.02\\u003cbr\\u003eEURUSD=X: -0.02\\u003cbr\\u003eCHFUSD=X: -0.07\\u003cbr\\u003e\",\"\\u003cb\\u003eGSG\\u003c\\u002fb\\u003e\\u003cbr\\u003eAnnualized Returns: -23.5%\\u003cbr\\u003eAnnualized Volatility: 24.2%\\u003cbr\\u003e\\u003cbr\\u003eStrongest correlations with: \\u003cbr\\u003eCCRV: 0.92\\u003cbr\\u003eKMLM: 0.36\\u003cbr\\u003eVTIP: 0.35\\u003cbr\\u003e\\u003cbr\\u003eWeakest correlations with: \\u003cbr\\u003eCHFUSD=X: -0.02\\u003cbr\\u003eCTA: -0.03\\u003cbr\\u003eEURUSD=X: -0.04\\u003cbr\\u003e\",\"\\u003cb\\u003eKMLM\\u003c\\u002fb\\u003e\\u003cbr\\u003eAnnualized Returns: -6.3%\\u003cbr\\u003eAnnualized Volatility: 17.2%\\u003cbr\\u003e\\u003cbr\\u003eStrongest correlations with: \\u003cbr\\u003eVWOB: -0.49\\u003cbr\\u003eTLT: -0.46\\u003cbr\\u003eCTA: 0.40\\u003cbr\\u003e\\u003cbr\\u003eWeakest correlations with: \\u003cbr\\u003eCHFUSD=X: 0.00\\u003cbr\\u003eEURUSD=X: 0.01\\u003cbr\\u003eVIXY: 0.10\\u003cbr\\u003e\",\"\\u003cb\\u003eLTPZ\\u003c\\u002fb\\u003e\\u003cbr\\u003eAnnualized Returns: 8.3%\\u003cbr\\u003eAnnualized Volatility: 18.5%\\u003cbr\\u003e\\u003cbr\\u003eStrongest correlations with: \\u003cbr\\u003eTLT: 0.81\\u003cbr\\u003eVTIP: 0.68\\u003cbr\\u003eVWOB: 0.58\\u003cbr\\u003e\\u003cbr\\u003eWeakest correlations with: \\u003cbr\\u003eCADUSD=X: -0.01\\u003cbr\\u003eEURUSD=X: 0.02\\u003cbr\\u003eCHFUSD=X: 0.02\\u003cbr\\u003e\",\"\\u003cb\\u003eQLTY\\u003c\\u002fb\\u003e\\u003cbr\\u003eAnnualized Returns: -51.3%\\u003cbr\\u003eAnnualized Volatility: 9.7%\\u003cbr\\u003e\\u003cbr\\u003eStrongest correlations with: \\u003cbr\\u003eVTI: 0.88\\u003cbr\\u003eVT: 0.82\\u003cbr\\u003eVIXY: -0.55\\u003cbr\\u003e\\u003cbr\\u003eWeakest correlations with: \\u003cbr\\u003eCTA: -0.00\\u003cbr\\u003eVTIP: 0.07\\u003cbr\\u003eTFPN: -0.09\\u003cbr\\u003e\",\"\\u003cb\\u003eTFPN\\u003c\\u002fb\\u003e\\u003cbr\\u003eAnnualized Returns: 5.0%\\u003cbr\\u003eAnnualized Volatility: 6.3%\\u003cbr\\u003e\\u003cbr\\u003eStrongest correlations with: \\u003cbr\\u003eKMLM: 0.22\\u003cbr\\u003eCCRV: 0.12\\u003cbr\\u003eLTPZ: -0.12\\u003cbr\\u003e\\u003cbr\\u003eWeakest correlations with: \\u003cbr\\u003eVTIP: -0.00\\u003cbr\\u003eVT: -0.01\\u003cbr\\u003eVIXM: 0.01\\u003cbr\\u003e\",\"\\u003cb\\u003eTLT\\u003c\\u002fb\\u003e\\u003cbr\\u003eAnnualized Returns: 9.5%\\u003cbr\\u003eAnnualized Volatility: 17.6%\\u003cbr\\u003e\\u003cbr\\u003eStrongest correlations with: \\u003cbr\\u003eLTPZ: 0.81\\u003cbr\\u003eVWOB: 0.59\\u003cbr\\u003eKMLM: -0.46\\u003cbr\\u003e\\u003cbr\\u003eWeakest correlations with: \\u003cbr\\u003eVIXM: -0.01\\u003cbr\\u003eVIXY: 0.01\\u003cbr\\u003eCADUSD=X: -0.04\\u003cbr\\u003e\",\"\\u003cb\\u003eUUP\\u003c\\u002fb\\u003e\\u003cbr\\u003eAnnualized Returns: -4.6%\\u003cbr\\u003eAnnualized Volatility: 7.5%\\u003cbr\\u003e\\u003cbr\\u003eStrongest correlations with: \\u003cbr\\u003eEWL: -0.62\\u003cbr\\u003eVT: -0.54\\u003cbr\\u003eVWOB: -0.51\\u003cbr\\u003e\\u003cbr\\u003eWeakest correlations with: \\u003cbr\\u003eCHFUSD=X: -0.01\\u003cbr\\u003eEURUSD=X: -0.02\\u003cbr\\u003eCADUSD=X: -0.04\\u003cbr\\u003e\",\"\\u003cb\\u003eVIXM\\u003c\\u002fb\\u003e\\u003cbr\\u003eAnnualized Returns: 28.3%\\u003cbr\\u003eAnnualized Volatility: 28.6%\\u003cbr\\u003e\\u003cbr\\u003eStrongest correlations with: \\u003cbr\\u003eVIXY: 0.92\\u003cbr\\u003eVT: -0.75\\u003cbr\\u003eVTI: -0.75\\u003cbr\\u003e\\u003cbr\\u003eWeakest correlations with: \\u003cbr\\u003eTFPN: 0.01\\u003cbr\\u003eTLT: -0.01\\u003cbr\\u003eEURUSD=X: 0.03\\u003cbr\\u003e\",\"\\u003cb\\u003eVIXY\\u003c\\u002fb\\u003e\\u003cbr\\u003eAnnualized Returns: 111.2%\\u003cbr\\u003eAnnualized Volatility: 65.7%\\u003cbr\\u003e\\u003cbr\\u003eStrongest correlations with: \\u003cbr\\u003eVIXM: 0.92\\u003cbr\\u003eVT: -0.76\\u003cbr\\u003eVTI: -0.76\\u003cbr\\u003e\\u003cbr\\u003eWeakest correlations with: \\u003cbr\\u003eTLT: 0.01\\u003cbr\\u003eCADUSD=X: 0.01\\u003cbr\\u003eEURUSD=X: 0.02\\u003cbr\\u003e\",\"\\u003cb\\u003eVNQ\\u003c\\u002fb\\u003e\\u003cbr\\u003eAnnualized Returns: -7.3%\\u003cbr\\u003eAnnualized Volatility: 20.4%\\u003cbr\\u003e\\u003cbr\\u003eStrongest correlations with: \\u003cbr\\u003eVTI: 0.76\\u003cbr\\u003eVT: 0.75\\u003cbr\\u003eVPU: 0.69\\u003cbr\\u003e\\u003cbr\\u003eWeakest correlations with: \\u003cbr\\u003eCHFUSD=X: -0.02\\u003cbr\\u003eEURUSD=X: 0.02\\u003cbr\\u003eCADUSD=X: 0.02\\u003cbr\\u003e\",\"\\u003cb\\u003eVPU\\u003c\\u002fb\\u003e\\u003cbr\\u003eAnnualized Returns: -7.5%\\u003cbr\\u003eAnnualized Volatility: 17.9%\\u003cbr\\u003e\\u003cbr\\u003eStrongest correlations with: \\u003cbr\\u003eVNQ: 0.69\\u003cbr\\u003eQLTY: 0.53\\u003cbr\\u003eVTI: 0.52\\u003cbr\\u003e\\u003cbr\\u003eWeakest correlations with: \\u003cbr\\u003eCADUSD=X: -0.02\\u003cbr\\u003eCHFUSD=X: -0.04\\u003cbr\\u003eEURUSD=X: -0.06\\u003cbr\\u003e\",\"\\u003cb\\u003eVT\\u003c\\u002fb\\u003e\\u003cbr\\u003eAnnualized Returns: -8.0%\\u003cbr\\u003eAnnualized Volatility: 16.9%\\u003cbr\\u003e\\u003cbr\\u003eStrongest correlations with: \\u003cbr\\u003eVTI: 0.98\\u003cbr\\u003eQLTY: 0.82\\u003cbr\\u003eEWL: 0.81\\u003cbr\\u003e\\u003cbr\\u003eWeakest correlations with: \\u003cbr\\u003eTFPN: -0.01\\u003cbr\\u003eCADUSD=X: -0.01\\u003cbr\\u003eEURUSD=X: -0.03\\u003cbr\\u003e\",\"\\u003cb\\u003eVTI\\u003c\\u002fb\\u003e\\u003cbr\\u003eAnnualized Returns: -10.8%\\u003cbr\\u003eAnnualized Volatility: 18.3%\\u003cbr\\u003e\\u003cbr\\u003eStrongest correlations with: \\u003cbr\\u003eVT: 0.98\\u003cbr\\u003eQLTY: 0.88\\u003cbr\\u003eVNQ: 0.76\\u003cbr\\u003e\\u003cbr\\u003eWeakest correlations with: \\u003cbr\\u003eCADUSD=X: -0.00\\u003cbr\\u003eTFPN: 0.02\\u003cbr\\u003eEURUSD=X: -0.02\\u003cbr\\u003e\",\"\\u003cb\\u003eVTIP\\u003c\\u002fb\\u003e\\u003cbr\\u003eAnnualized Returns: -3.0%\\u003cbr\\u003eAnnualized Volatility: 3.3%\\u003cbr\\u003e\\u003cbr\\u003eStrongest correlations with: \\u003cbr\\u003eLTPZ: 0.68\\u003cbr\\u003eVWOB: 0.48\\u003cbr\\u003eTLT: 0.45\\u003cbr\\u003e\\u003cbr\\u003eWeakest correlations with: \\u003cbr\\u003eTFPN: -0.00\\u003cbr\\u003eEURUSD=X: 0.06\\u003cbr\\u003eCHFUSD=X: 0.06\\u003cbr\\u003e\",\"\\u003cb\\u003eVWOB\\u003c\\u002fb\\u003e\\u003cbr\\u003eAnnualized Returns: 0.6%\\u003cbr\\u003eAnnualized Volatility: 10.7%\\u003cbr\\u003e\\u003cbr\\u003eStrongest correlations with: \\u003cbr\\u003eVT: 0.61\\u003cbr\\u003eTLT: 0.59\\u003cbr\\u003eLTPZ: 0.58\\u003cbr\\u003e\\u003cbr\\u003eWeakest correlations with: \\u003cbr\\u003eCHFUSD=X: -0.00\\u003cbr\\u003eEURUSD=X: 0.02\\u003cbr\\u003eTFPN: -0.03\\u003cbr\\u003e\"],\"marker\":{\"color\":[\"#9eccb7\",\"#ffa09b\",\"#ffa09b\",\"#ffa09b\",\"#9eccb7\",\"#ffa09b\",\"#ffa09b\",\"#ffa09b\",\"#9eccb7\",\"#ffa09b\",\"#9eccb7\",\"#9eccb7\",\"#ffa09b\",\"#9eccb7\",\"#9eccb7\",\"#ffa09b\",\"#ffa09b\",\"#ffa09b\",\"#ffa09b\",\"#ffa09b\",\"#9eccb7\"],\"line\":{\"width\":1},\"size\":[7.584868492755065,24.272344931796393,6.313521421754272,2.826734486809422,8.988161134770737,10.741499032016971,24.243477461423293,12.506689070926477,14.379215363448752,35.81461182458977,11.139081566815939,15.43786585234961,10.71587688683403,26.576346853105235,52.715200917863754,13.500733724609015,13.70826867602345,14.132590625225136,16.409401138636422,8.635975261944012,3.7745753943116505]},\"mode\":\"markers+text\",\"showlegend\":false,\"text\":[\"CADUSD=X\",\"CCRV\",\"CHFUSD=X\",\"CTA\",\"EURUSD=X\",\"EWL\",\"GSG\",\"KMLM\",\"LTPZ\",\"QLTY\",\"TFPN\",\"TLT\",\"UUP\",\"VIXM\",\"VIXY\",\"VNQ\",\"VPU\",\"VT\",\"VTI\",\"VTIP\",\"VWOB\"],\"textfont\":{\"size\":7},\"textposition\":\"top center\",\"x\":[0.8575672442020125,-0.37287062138963767,0.6726239346819501,-0.32832483458761197,1.0,0.17235208198766158,-0.5395599621493582,-0.16615516768261118,-0.47029286712783896,0.4473418815373936,-0.9788598848793237,-0.36230812639019594,-0.5065958937212798,0.13532040256637004,0.27514405116748275,0.34908634071151434,0.05119427879491173,0.2825629034165164,0.16316877595512966,-0.4365015437614634,-0.24489299333162193],\"y\":[-0.4012733422390259,-0.08312389724221583,-0.2940909126874079,0.39940808313373166,-0.486263142438846,-0.024092248930613805,-0.18164824716560496,0.10731832084962407,0.5337595451662566,-0.16960158046989646,-0.5266099492801596,0.5941042111413928,0.407944802666734,0.13067773241622502,0.13764267859929427,0.030428960799933073,-0.12676892343540197,-0.13721794429055836,-0.2133838907689643,-0.25082806395027685,0.5536178081257801],\"type\":\"scatter\"}],                        {\"template\":{\"data\":{\"histogram2dcontour\":[{\"type\":\"histogram2dcontour\",\"colorbar\":{\"outlinewidth\":0,\"ticks\":\"\"},\"colorscale\":[[0.0,\"#0d0887\"],[0.1111111111111111,\"#46039f\"],[0.2222222222222222,\"#7201a8\"],[0.3333333333333333,\"#9c179e\"],[0.4444444444444444,\"#bd3786\"],[0.5555555555555556,\"#d8576b\"],[0.6666666666666666,\"#ed7953\"],[0.7777777777777778,\"#fb9f3a\"],[0.8888888888888888,\"#fdca26\"],[1.0,\"#f0f921\"]]}],\"choropleth\":[{\"type\":\"choropleth\",\"colorbar\":{\"outlinewidth\":0,\"ticks\":\"\"}}],\"histogram2d\":[{\"type\":\"histogram2d\",\"colorbar\":{\"outlinewidth\":0,\"ticks\":\"\"},\"colorscale\":[[0.0,\"#0d0887\"],[0.1111111111111111,\"#46039f\"],[0.2222222222222222,\"#7201a8\"],[0.3333333333333333,\"#9c179e\"],[0.4444444444444444,\"#bd3786\"],[0.5555555555555556,\"#d8576b\"],[0.6666666666666666,\"#ed7953\"],[0.7777777777777778,\"#fb9f3a\"],[0.8888888888888888,\"#fdca26\"],[1.0,\"#f0f921\"]]}],\"heatmap\":[{\"type\":\"heatmap\",\"colorbar\":{\"outlinewidth\":0,\"ticks\":\"\"},\"colorscale\":[[0.0,\"#0d0887\"],[0.1111111111111111,\"#46039f\"],[0.2222222222222222,\"#7201a8\"],[0.3333333333333333,\"#9c179e\"],[0.4444444444444444,\"#bd3786\"],[0.5555555555555556,\"#d8576b\"],[0.6666666666666666,\"#ed7953\"],[0.7777777777777778,\"#fb9f3a\"],[0.8888888888888888,\"#fdca26\"],[1.0,\"#f0f921\"]]}],\"heatmapgl\":[{\"type\":\"heatmapgl\",\"colorbar\":{\"outlinewidth\":0,\"ticks\":\"\"},\"colorscale\":[[0.0,\"#0d0887\"],[0.1111111111111111,\"#46039f\"],[0.2222222222222222,\"#7201a8\"],[0.3333333333333333,\"#9c179e\"],[0.4444444444444444,\"#bd3786\"],[0.5555555555555556,\"#d8576b\"],[0.6666666666666666,\"#ed7953\"],[0.7777777777777778,\"#fb9f3a\"],[0.8888888888888888,\"#fdca26\"],[1.0,\"#f0f921\"]]}],\"contourcarpet\":[{\"type\":\"contourcarpet\",\"colorbar\":{\"outlinewidth\":0,\"ticks\":\"\"}}],\"contour\":[{\"type\":\"contour\",\"colorbar\":{\"outlinewidth\":0,\"ticks\":\"\"},\"colorscale\":[[0.0,\"#0d0887\"],[0.1111111111111111,\"#46039f\"],[0.2222222222222222,\"#7201a8\"],[0.3333333333333333,\"#9c179e\"],[0.4444444444444444,\"#bd3786\"],[0.5555555555555556,\"#d8576b\"],[0.6666666666666666,\"#ed7953\"],[0.7777777777777778,\"#fb9f3a\"],[0.8888888888888888,\"#fdca26\"],[1.0,\"#f0f921\"]]}],\"surface\":[{\"type\":\"surface\",\"colorbar\":{\"outlinewidth\":0,\"ticks\":\"\"},\"colorscale\":[[0.0,\"#0d0887\"],[0.1111111111111111,\"#46039f\"],[0.2222222222222222,\"#7201a8\"],[0.3333333333333333,\"#9c179e\"],[0.4444444444444444,\"#bd3786\"],[0.5555555555555556,\"#d8576b\"],[0.6666666666666666,\"#ed7953\"],[0.7777777777777778,\"#fb9f3a\"],[0.8888888888888888,\"#fdca26\"],[1.0,\"#f0f921\"]]}],\"mesh3d\":[{\"type\":\"mesh3d\",\"colorbar\":{\"outlinewidth\":0,\"ticks\":\"\"}}],\"scatter\":[{\"fillpattern\":{\"fillmode\":\"overlay\",\"size\":10,\"solidity\":0.2},\"type\":\"scatter\"}],\"parcoords\":[{\"type\":\"parcoords\",\"line\":{\"colorbar\":{\"outlinewidth\":0,\"ticks\":\"\"}}}],\"scatterpolargl\":[{\"type\":\"scatterpolargl\",\"marker\":{\"colorbar\":{\"outlinewidth\":0,\"ticks\":\"\"}}}],\"bar\":[{\"error_x\":{\"color\":\"#2a3f5f\"},\"error_y\":{\"color\":\"#2a3f5f\"},\"marker\":{\"line\":{\"color\":\"#E5ECF6\",\"width\":0.5},\"pattern\":{\"fillmode\":\"overlay\",\"size\":10,\"solidity\":0.2}},\"type\":\"bar\"}],\"scattergeo\":[{\"type\":\"scattergeo\",\"marker\":{\"colorbar\":{\"outlinewidth\":0,\"ticks\":\"\"}}}],\"scatterpolar\":[{\"type\":\"scatterpolar\",\"marker\":{\"colorbar\":{\"outlinewidth\":0,\"ticks\":\"\"}}}],\"histogram\":[{\"marker\":{\"pattern\":{\"fillmode\":\"overlay\",\"size\":10,\"solidity\":0.2}},\"type\":\"histogram\"}],\"scattergl\":[{\"type\":\"scattergl\",\"marker\":{\"colorbar\":{\"outlinewidth\":0,\"ticks\":\"\"}}}],\"scatter3d\":[{\"type\":\"scatter3d\",\"line\":{\"colorbar\":{\"outlinewidth\":0,\"ticks\":\"\"}},\"marker\":{\"colorbar\":{\"outlinewidth\":0,\"ticks\":\"\"}}}],\"scattermapbox\":[{\"type\":\"scattermapbox\",\"marker\":{\"colorbar\":{\"outlinewidth\":0,\"ticks\":\"\"}}}],\"scatterternary\":[{\"type\":\"scatterternary\",\"marker\":{\"colorbar\":{\"outlinewidth\":0,\"ticks\":\"\"}}}],\"scattercarpet\":[{\"type\":\"scattercarpet\",\"marker\":{\"colorbar\":{\"outlinewidth\":0,\"ticks\":\"\"}}}],\"carpet\":[{\"aaxis\":{\"endlinecolor\":\"#2a3f5f\",\"gridcolor\":\"white\",\"linecolor\":\"white\",\"minorgridcolor\":\"white\",\"startlinecolor\":\"#2a3f5f\"},\"baxis\":{\"endlinecolor\":\"#2a3f5f\",\"gridcolor\":\"white\",\"linecolor\":\"white\",\"minorgridcolor\":\"white\",\"startlinecolor\":\"#2a3f5f\"},\"type\":\"carpet\"}],\"table\":[{\"cells\":{\"fill\":{\"color\":\"#EBF0F8\"},\"line\":{\"color\":\"white\"}},\"header\":{\"fill\":{\"color\":\"#C8D4E3\"},\"line\":{\"color\":\"white\"}},\"type\":\"table\"}],\"barpolar\":[{\"marker\":{\"line\":{\"color\":\"#E5ECF6\",\"width\":0.5},\"pattern\":{\"fillmode\":\"overlay\",\"size\":10,\"solidity\":0.2}},\"type\":\"barpolar\"}],\"pie\":[{\"automargin\":true,\"type\":\"pie\"}]},\"layout\":{\"autotypenumbers\":\"strict\",\"colorway\":[\"#636efa\",\"#EF553B\",\"#00cc96\",\"#ab63fa\",\"#FFA15A\",\"#19d3f3\",\"#FF6692\",\"#B6E880\",\"#FF97FF\",\"#FECB52\"],\"font\":{\"color\":\"#2a3f5f\"},\"hovermode\":\"closest\",\"hoverlabel\":{\"align\":\"left\"},\"paper_bgcolor\":\"white\",\"plot_bgcolor\":\"#E5ECF6\",\"polar\":{\"bgcolor\":\"#E5ECF6\",\"angularaxis\":{\"gridcolor\":\"white\",\"linecolor\":\"white\",\"ticks\":\"\"},\"radialaxis\":{\"gridcolor\":\"white\",\"linecolor\":\"white\",\"ticks\":\"\"}},\"ternary\":{\"bgcolor\":\"#E5ECF6\",\"aaxis\":{\"gridcolor\":\"white\",\"linecolor\":\"white\",\"ticks\":\"\"},\"baxis\":{\"gridcolor\":\"white\",\"linecolor\":\"white\",\"ticks\":\"\"},\"caxis\":{\"gridcolor\":\"white\",\"linecolor\":\"white\",\"ticks\":\"\"}},\"coloraxis\":{\"colorbar\":{\"outlinewidth\":0,\"ticks\":\"\"}},\"colorscale\":{\"sequential\":[[0.0,\"#0d0887\"],[0.1111111111111111,\"#46039f\"],[0.2222222222222222,\"#7201a8\"],[0.3333333333333333,\"#9c179e\"],[0.4444444444444444,\"#bd3786\"],[0.5555555555555556,\"#d8576b\"],[0.6666666666666666,\"#ed7953\"],[0.7777777777777778,\"#fb9f3a\"],[0.8888888888888888,\"#fdca26\"],[1.0,\"#f0f921\"]],\"sequentialminus\":[[0.0,\"#0d0887\"],[0.1111111111111111,\"#46039f\"],[0.2222222222222222,\"#7201a8\"],[0.3333333333333333,\"#9c179e\"],[0.4444444444444444,\"#bd3786\"],[0.5555555555555556,\"#d8576b\"],[0.6666666666666666,\"#ed7953\"],[0.7777777777777778,\"#fb9f3a\"],[0.8888888888888888,\"#fdca26\"],[1.0,\"#f0f921\"]],\"diverging\":[[0,\"#8e0152\"],[0.1,\"#c51b7d\"],[0.2,\"#de77ae\"],[0.3,\"#f1b6da\"],[0.4,\"#fde0ef\"],[0.5,\"#f7f7f7\"],[0.6,\"#e6f5d0\"],[0.7,\"#b8e186\"],[0.8,\"#7fbc41\"],[0.9,\"#4d9221\"],[1,\"#276419\"]]},\"xaxis\":{\"gridcolor\":\"white\",\"linecolor\":\"white\",\"ticks\":\"\",\"title\":{\"standoff\":15},\"zerolinecolor\":\"white\",\"automargin\":true,\"zerolinewidth\":2},\"yaxis\":{\"gridcolor\":\"white\",\"linecolor\":\"white\",\"ticks\":\"\",\"title\":{\"standoff\":15},\"zerolinecolor\":\"white\",\"automargin\":true,\"zerolinewidth\":2},\"scene\":{\"xaxis\":{\"backgroundcolor\":\"#E5ECF6\",\"gridcolor\":\"white\",\"linecolor\":\"white\",\"showbackground\":true,\"ticks\":\"\",\"zerolinecolor\":\"white\",\"gridwidth\":2},\"yaxis\":{\"backgroundcolor\":\"#E5ECF6\",\"gridcolor\":\"white\",\"linecolor\":\"white\",\"showbackground\":true,\"ticks\":\"\",\"zerolinecolor\":\"white\",\"gridwidth\":2},\"zaxis\":{\"backgroundcolor\":\"#E5ECF6\",\"gridcolor\":\"white\",\"linecolor\":\"white\",\"showbackground\":true,\"ticks\":\"\",\"zerolinecolor\":\"white\",\"gridwidth\":2}},\"shapedefaults\":{\"line\":{\"color\":\"#2a3f5f\"}},\"annotationdefaults\":{\"arrowcolor\":\"#2a3f5f\",\"arrowhead\":0,\"arrowwidth\":1},\"geo\":{\"bgcolor\":\"white\",\"landcolor\":\"#E5ECF6\",\"subunitcolor\":\"white\",\"showland\":true,\"showlakes\":true,\"lakecolor\":\"white\"},\"title\":{\"x\":0.05},\"mapbox\":{\"style\":\"light\"}}},\"xaxis\":{\"title\":{\"text\":\"\",\"font\":{\"size\":20}},\"showgrid\":false,\"zeroline\":false,\"showline\":false,\"ticks\":\"\",\"showticklabels\":false},\"yaxis\":{\"title\":{\"text\":\"\",\"font\":{\"size\":20}},\"showgrid\":false,\"zeroline\":false,\"showline\":false,\"ticks\":\"\",\"showticklabels\":false},\"title\":{\"text\":\"Plotly - interactive minimum spanning tree\"},\"width\":800,\"height\":800,\"autosize\":false,\"showlegend\":false,\"hovermode\":\"closest\",\"plot_bgcolor\":\"#fff\"},                        {\"responsive\": true}                    ).then(function(){\n",
       "                            \n",
       "var gd = document.getElementById('01fc2755-16ae-4362-879b-f143bb9b8056');\n",
       "var x = new MutationObserver(function (mutations, observer) {{\n",
       "        var display = window.getComputedStyle(gd).display;\n",
       "        if (!display || display === 'none') {{\n",
       "            console.log([gd, 'removed!']);\n",
       "            Plotly.purge(gd);\n",
       "            observer.disconnect();\n",
       "        }}\n",
       "}});\n",
       "\n",
       "// Listen for the removal of the full notebook cells\n",
       "var notebookContainer = gd.closest('#notebook-container');\n",
       "if (notebookContainer) {{\n",
       "    x.observe(notebookContainer, {childList: true});\n",
       "}}\n",
       "\n",
       "// Listen for the clearing of the current output cell\n",
       "var outputEl = gd.closest('.output');\n",
       "if (outputEl) {{\n",
       "    x.observe(outputEl, {childList: true});\n",
       "}}\n",
       "\n",
       "                        })                };                });            </script>        </div>"
      ]
     },
     "metadata": {},
     "output_type": "display_data"
    },
    {
     "data": {
      "text/html": [
       "\n",
       "            <p>Node sizes are proportional to the size of\n",
       "            annualised returns.<br>Node colours signify positive\n",
       "            or negative returns since beginning of the timeframe.</p>\n",
       "            "
      ],
      "text/plain": [
       "<IPython.core.display.HTML object>"
      ]
     },
     "metadata": {},
     "output_type": "display_data"
    },
    {
     "data": {
      "application/javascript": "\n            setTimeout(function() {\n                var nbb_cell_id = 68;\n                var nbb_unformatted_code = \"figEtf = plot_graph(etfData, 0.3)\\n\\n#TODO ?\\n\\n# Save interactive vis to json\\nfigEtf.write_json(etfGraphJsonFile)\\n#figEtf.write_image(\\\"assets/stock_correlations2.png\\\", format='png')\\n#figEtf.write_image(\\\"assets/stock_correlations2.svg\\\", format='svg')\\n#figEtf.write_image(\\\"assets/stock_correlations2.webp\\\", format='webp')\\n\\nfigEtf2 = px.scatter()\\nfigEtf2.write_html(etfGraphImgFile)\";\n                var nbb_formatted_code = \"figEtf = plot_graph(etfData, 0.3)\\n\\n# TODO ?\\n\\n# Save interactive vis to json\\nfigEtf.write_json(etfGraphJsonFile)\\n# figEtf.write_image(\\\"assets/stock_correlations2.png\\\", format='png')\\n# figEtf.write_image(\\\"assets/stock_correlations2.svg\\\", format='svg')\\n# figEtf.write_image(\\\"assets/stock_correlations2.webp\\\", format='webp')\\n\\nfigEtf2 = px.scatter()\\nfigEtf2.write_html(etfGraphImgFile)\";\n                var nbb_cells = Jupyter.notebook.get_cells();\n                for (var i = 0; i < nbb_cells.length; ++i) {\n                    if (nbb_cells[i].input_prompt_number == nbb_cell_id) {\n                        if (nbb_cells[i].get_text() == nbb_unformatted_code) {\n                             nbb_cells[i].set_text(nbb_formatted_code);\n                        }\n                        break;\n                    }\n                }\n            }, 500);\n            ",
      "text/plain": [
       "<IPython.core.display.Javascript object>"
      ]
     },
     "metadata": {},
     "output_type": "display_data"
    }
   ],
   "source": [
    "figEtf = plot_graph(etfData, 0.3)\n",
    "\n",
    "#TODO ?\n",
    "\n",
    "# Save interactive vis to json\n",
    "#figEtf.write_json(etfGraphJsonFile)\n",
    "#figEtf.write_image(\"assets/stock_correlations2.png\", format='png')\n",
    "#figEtf.write_image(\"assets/stock_correlations2.svg\", format='svg')\n",
    "#figEtf.write_image(\"assets/stock_correlations2.webp\", format='webp')\n",
    "\n",
    "#figEtf2 = px.scatter()\n",
    "#figEtf2.write_html(etfGraphImgFile)"
   ]
  },
  {
   "cell_type": "code",
   "execution_count": 69,
   "metadata": {},
   "outputs": [
    {
     "name": "stdout",
     "output_type": "stream",
     "text": [
      "530 edges removed\n"
     ]
    },
    {
     "data": {
      "application/vnd.plotly.v1+json": {
       "config": {
        "plotlyServerURL": "https://plot.ly"
       },
       "data": [
        {
         "hoverinfo": "none",
         "line": {
          "color": "#DCDCDC",
          "width": 1
         },
         "mode": "lines",
         "showlegend": false,
         "type": "scatter",
         "x": [
          -0.852973490937021,
          -0.6689700100537935,
          null,
          -0.852973490937021,
          -0.8434157900224815,
          null,
          -0.852973490937021,
          -0.9468359222931123,
          null,
          -0.852973490937021,
          -0.9841082787557562,
          null,
          -0.852973490937021,
          -1,
          null,
          -0.852973490937021,
          -0.757656205784724,
          null,
          0.7906472362311103,
          0.9341234250845958,
          null,
          0.7906472362311103,
          0.9139893513518759,
          null,
          0.7906472362311103,
          0.5619968493011966,
          null,
          0.2806013661773533,
          0.34034314060914755,
          null,
          0.2806013661773533,
          0.1421953455889953,
          null,
          0.2806013661773533,
          0.20906631029549366,
          null,
          0.2806013661773533,
          0.41845328131771314,
          null,
          0.2806013661773533,
          0.1780510664375598,
          null,
          0.2806013661773533,
          0.45584788949160404,
          null,
          0.2806013661773533,
          0.2443157226664489,
          null,
          0.2806013661773533,
          0.047865915053243814,
          null,
          0.2806013661773533,
          0.4298023733483412,
          null,
          0.2806013661773533,
          0.3375092586508005,
          null,
          0.2806013661773533,
          0.3308449554978919,
          null,
          0.2806013661773533,
          0.10424019514322677,
          null,
          0.2806013661773533,
          0.12927038614981143,
          null,
          0.2806013661773533,
          0.24324762237346736,
          null,
          0.2806013661773533,
          0.3114107966448149,
          null,
          0.2806013661773533,
          0.1774967918648546,
          null,
          0.2806013661773533,
          0.5619968493011966,
          null,
          0.2806013661773533,
          0.3863306125656832,
          null,
          0.2806013661773533,
          0.3773898883216857,
          null,
          0.34034314060914755,
          0.3795158112641465,
          null,
          0.047865915053243814,
          -0.15889415644095095,
          null,
          -0.15889415644095095,
          -0.09184893227770002,
          null,
          -0.15889415644095095,
          -0.4179779976088588,
          null,
          -0.09184893227770002,
          -0.008706794727676527,
          null,
          -0.6689700100537935,
          -0.7455218043352324,
          null,
          -0.6689700100537935,
          -0.4179779976088588,
          null,
          -0.8040823265597851,
          -0.7455218043352324,
          null,
          -0.8040823265597851,
          -0.8384745032475138,
          null,
          0.3375092586508005,
          0.39491062161354296,
          null
         ],
         "y": [
          0.4281620498436846,
          0.2740068309334503,
          null,
          0.4281620498436846,
          0.5562473816939533,
          null,
          0.4281620498436846,
          0.5422707881861795,
          null,
          0.4281620498436846,
          0.3861083649704447,
          null,
          0.4281620498436846,
          0.47365169153463155,
          null,
          0.4281620498436846,
          0.47709703686520427,
          null,
          -0.2676566304659375,
          -0.24655373299224173,
          null,
          -0.2676566304659375,
          -0.34492772896835544,
          null,
          -0.2676566304659375,
          -0.21911655486254783,
          null,
          -0.1583591420594531,
          -0.4005363087174711,
          null,
          -0.1583591420594531,
          -0.28502321323300417,
          null,
          -0.1583591420594531,
          -0.33777576839718415,
          null,
          -0.1583591420594531,
          -0.04683052334757917,
          null,
          -0.1583591420594531,
          -0.20811887006301544,
          null,
          -0.1583591420594531,
          -0.13728029288325672,
          null,
          -0.1583591420594531,
          -0.2777738663242572,
          null,
          -0.1583591420594531,
          0.0644677353683003,
          null,
          -0.1583591420594531,
          -0.2272563545093033,
          null,
          -0.1583591420594531,
          0.06944466584758013,
          null,
          -0.1583591420594531,
          -0.029950912923885235,
          null,
          -0.1583591420594531,
          -0.20044138461208424,
          null,
          -0.1583591420594531,
          -0.11915143672924033,
          null,
          -0.1583591420594531,
          -0.013718129853848309,
          null,
          -0.1583591420594531,
          -0.3132672619679723,
          null,
          -0.1583591420594531,
          -0.0571032236650653,
          null,
          -0.1583591420594531,
          -0.21911655486254783,
          null,
          -0.1583591420594531,
          -0.1249613304631798,
          null,
          -0.1583591420594531,
          -0.2766797879011798,
          null,
          -0.4005363087174711,
          -0.5638242995537752,
          null,
          0.0644677353683003,
          0.25968460935420756,
          null,
          0.25968460935420756,
          0.45570564563162164,
          null,
          0.25968460935420756,
          0.2776577285458881,
          null,
          0.45570564563162164,
          0.5982246981752685,
          null,
          0.2740068309334503,
          0.08553234831443407,
          null,
          0.2740068309334503,
          0.2776577285458881,
          null,
          -0.086839572284793,
          0.08553234831443407,
          null,
          -0.086839572284793,
          -0.22566188707083407,
          null,
          0.06944466584758013,
          0.2205466385846162,
          null
         ]
        },
        {
         "hoverinfo": "text",
         "hovertext": [
          "<b>Bonds Global</b><br>Annualized Returns: 2.8%<br>Annualized Volatility: 3.2%<br><br>Strongest correlations with: <br>10yr treasuries: 0.94<br>20+ Treasuries: 0.90<br>Corp Bond: 0.89<br><br>Weakest correlations with: <br>GBP: 0.03<br>High yield Bond: -0.06<br>Emerg Markets: -0.07<br>",
          "<b>Commodities</b><br>Annualized Returns: -10.9%<br>Annualized Volatility: 15.1%<br><br>Strongest correlations with: <br>Oil: 0.88<br>Energy: 0.68<br>China Large Cap: 0.53<br><br>Weakest correlations with: <br>ST Corp Bond: 0.03<br>Yen: -0.03<br>CHF: 0.04<br>",
          "<b>DOW</b><br>Annualized Returns: 12.6%<br>Annualized Volatility: 11.8%<br><br>Strongest correlations with: <br>SNP 500: 0.97<br>Finance: 0.87<br>Tech: 0.85<br><br>Weakest correlations with: <br>Silver: 0.03<br>Gold Miners: 0.04<br>ST Corp Bond: -0.04<br>",
          "<b>Emerg Markets</b><br>Annualized Returns: 4.3%<br>Annualized Volatility: 18.5%<br><br>Strongest correlations with: <br>China: 0.84<br>Pacifix ex Japan: 0.82<br>Pacific : 0.81<br><br>Weakest correlations with: <br>Bonds II: -0.00<br>Gold: -0.01<br>CHF: -0.02<br>",
          "<b>EAFE</b><br>Annualized Returns: 4.4%<br>Annualized Volatility: 14.7%<br><br>Strongest correlations with: <br>Europe: 0.95<br>France: 0.91<br>UK: 0.91<br><br>Weakest correlations with: <br>CHF: 0.02<br>ST Corp Bond: 0.05<br>Corp Bond: -0.06<br>",
          "<b>Emerg Markets Bonds</b><br>Annualized Returns: 5.6%<br>Annualized Volatility: 6.4%<br><br>Strongest correlations with: <br>Emerg Markets: 0.58<br>High yield Bond: 0.58<br>Pacifix ex Japan: 0.48<br><br>Weakest correlations with: <br>Yen: 0.07<br>CHF: 0.07<br>Euro: 0.12<br>",
          "<b>Pacifix ex Japan</b><br>Annualized Returns: 3.1%<br>Annualized Volatility: 16.2%<br><br>Strongest correlations with: <br>Pacific : 0.84<br>Emerg Markets: 0.82<br>EAFE: 0.79<br><br>Weakest correlations with: <br>Corp Bond: -0.01<br>Gold: -0.01<br>CHF: -0.01<br>",
          "<b>Germany</b><br>Annualized Returns: 5.8%<br>Annualized Volatility: 17.9%<br><br>Strongest correlations with: <br>Europe: 0.93<br>France: 0.93<br>EAFE: 0.88<br><br>Weakest correlations with: <br>CHF: 0.02<br>ST Corp Bond: 0.02<br>Gold Miners: 0.06<br>",
          "<b>Italy</b><br>Annualized Returns: 2.6%<br>Annualized Volatility: 23.8%<br><br>Strongest correlations with: <br>Europe: 0.88<br>France: 0.88<br>Germany: 0.84<br><br>Weakest correlations with: <br>ST Corp Bond: -0.01<br>CHF: 0.01<br>Gold Miners: 0.07<br>",
          "<b>Japan</b><br>Annualized Returns: 7.5%<br>Annualized Volatility: 15.7%<br><br>Strongest correlations with: <br>Pacific : 0.93<br>EAFE: 0.79<br>SNP 500: 0.71<br><br>Weakest correlations with: <br>Gold Miners: 0.03<br>ST Corp Bond: 0.04<br>Silver: 0.05<br>",
          "<b>France</b><br>Annualized Returns: 5.4%<br>Annualized Volatility: 17.8%<br><br>Strongest correlations with: <br>Europe: 0.96<br>Germany: 0.93<br>EAFE: 0.91<br><br>Weakest correlations with: <br>CHF: 0.05<br>ST Corp Bond: 0.05<br>Corp Bond: -0.07<br>",
          "<b>UK</b><br>Annualized Returns: 0.6%<br>Annualized Volatility: 16.9%<br><br>Strongest correlations with: <br>Europe: 0.94<br>EAFE: 0.91<br>France: 0.85<br><br>Weakest correlations with: <br>CHF: 0.03<br>ST Corp Bond: 0.03<br>Corp Bond: -0.07<br>",
          "<b>GBP</b><br>Annualized Returns: -5.2%<br>Annualized Volatility: 9.6%<br><br>Strongest correlations with: <br>USD: -0.61<br>UK: 0.55<br>Euro: 0.51<br><br>Weakest correlations with: <br>10yr treasuries: -0.01<br>Bonds Global: 0.03<br>Corp Bond: 0.06<br>",
          "<b>China Large Cap</b><br>Annualized Returns: -5.1%<br>Annualized Volatility: 8.0%<br><br>Strongest correlations with: <br>Commodities: 0.53<br>Oil: 0.51<br>USD: -0.47<br><br>Weakest correlations with: <br>10yr treasuries: 0.01<br>20+ Treasuries: -0.08<br>Bonds Global: 0.08<br>",
          "<b>Euro</b><br>Annualized Returns: -4.4%<br>Annualized Volatility: 8.8%<br><br>Strongest correlations with: <br>USD: -0.96<br>CHF: 0.53<br>GBP: 0.51<br><br>Weakest correlations with: <br>US real estate: -0.01<br>Energy: -0.01<br>Materials: -0.02<br>",
          "<b>China</b><br>Annualized Returns: 7.5%<br>Annualized Volatility: 22.9%<br><br>Strongest correlations with: <br>Emerg Markets: 0.84<br>Pacifix ex Japan: 0.73<br>Pacific : 0.72<br><br>Weakest correlations with: <br>Corp Bond: -0.06<br>ST Corp Bond: 0.06<br>USD: 0.07<br>",
          "<b>Yen</b><br>Annualized Returns: -4.0%<br>Annualized Volatility: 9.6%<br><br>Strongest correlations with: <br>10yr treasuries: 0.56<br>USD: -0.54<br>Finance: -0.54<br><br>Weakest correlations with: <br>Commodities: -0.03<br>Utilities: 0.04<br>Emerg Markets Bonds: 0.07<br>",
          "<b>Gold Miners</b><br>Annualized Returns: -0.6%<br>Annualized Volatility: 41.6%<br><br>Strongest correlations with: <br>Gold: 0.79<br>Silver: 0.70<br>China Large Cap: 0.36<br><br>Weakest correlations with: <br>VXX: -0.03<br>Japan: 0.03<br>DOW: 0.04<br>",
          "<b>Gold</b><br>Annualized Returns: -1.1%<br>Annualized Volatility: 14.2%<br><br>Strongest correlations with: <br>Gold Miners: 0.79<br>Silver: 0.79<br>Yen: 0.52<br><br>Weakest correlations with: <br>Pacifix ex Japan: -0.01<br>Emerg Markets: -0.01<br>Energy: -0.02<br>",
          "<b>10yr treasuries</b><br>Annualized Returns: 2.9%<br>Annualized Volatility: 5.4%<br><br>Strongest correlations with: <br>Bonds Global: 0.94<br>20+ Treasuries: 0.93<br>Corp Bond: 0.86<br><br>Weakest correlations with: <br>China Large Cap: 0.01<br>GBP: -0.01<br>US real estate: 0.09<br>",
          "<b>US real estate</b><br>Annualized Returns: 9.3%<br>Annualized Volatility: 13.4%<br><br>Strongest correlations with: <br>SNP 500: 0.63<br>Utilities: 0.62<br>DOW: 0.59<br><br>Weakest correlations with: <br>Euro: -0.01<br>USD: -0.02<br>CHF: -0.04<br>",
          "<b>High yield Bond</b><br>Annualized Returns: 3.5%<br>Annualized Volatility: 6.2%<br><br>Strongest correlations with: <br>SNP 500: 0.67<br>Materials: 0.66<br>Emerg Markets: 0.64<br><br>Weakest correlations with: <br>Bonds II: 0.01<br>USD: -0.01<br>Euro: -0.02<br>",
          "<b>Corp Bond</b><br>Annualized Returns: 4.7%<br>Annualized Volatility: 5.0%<br><br>Strongest correlations with: <br>Bonds Global: 0.89<br>10yr treasuries: 0.86<br>20+ Treasuries: 0.85<br><br>Weakest correlations with: <br>Pacifix ex Japan: -0.01<br>Emerg Markets: 0.02<br>Pacific : -0.03<br>",
          "<b>Silver</b><br>Annualized Returns: -6.8%<br>Annualized Volatility: 22.2%<br><br>Strongest correlations with: <br>Gold: 0.79<br>Gold Miners: 0.70<br>Commodities: 0.35<br><br>Weakest correlations with: <br>VXX: -0.02<br>DOW: 0.03<br>Tech: 0.03<br>",
          "<b>SNP 500</b><br>Annualized Returns: 11.6%<br>Annualized Volatility: 12.1%<br><br>Strongest correlations with: <br>DOW: 0.97<br>Tech: 0.90<br>Finance: 0.87<br><br>Weakest correlations with: <br>ST Corp Bond: -0.02<br>Silver: 0.05<br>Gold Miners: 0.08<br>",
          "<b>Bonds II</b><br>Annualized Returns: 1.7%<br>Annualized Volatility: 4.7%<br><br>Strongest correlations with: <br>10yr treasuries: 0.84<br>Bonds Global: 0.83<br>20+ Treasuries: 0.79<br><br>Weakest correlations with: <br>Emerg Markets: -0.00<br>Pacifix ex Japan: -0.01<br>High yield Bond: 0.01<br>",
          "<b>20+ Treasuries</b><br>Annualized Returns: 7.0%<br>Annualized Volatility: 12.5%<br><br>Strongest correlations with: <br>10yr treasuries: 0.93<br>Bonds Global: 0.90<br>Corp Bond: 0.85<br><br>Weakest correlations with: <br>US real estate: 0.07<br>GBP: -0.07<br>China Large Cap: -0.08<br>",
          "<b>Oil</b><br>Annualized Returns: -27.3%<br>Annualized Volatility: 34.1%<br><br>Strongest correlations with: <br>Commodities: 0.88<br>Energy: 0.71<br>China Large Cap: 0.51<br><br>Weakest correlations with: <br>CHF: 0.00<br>ST Corp Bond: 0.01<br>Bonds II: 0.03<br>",
          "<b>USD</b><br>Annualized Returns: 3.1%<br>Annualized Volatility: 7.4%<br><br>Strongest correlations with: <br>Euro: -0.96<br>GBP: -0.61<br>CHF: -0.58<br><br>Weakest correlations with: <br>Materials: -0.00<br>Pacific : -0.00<br>High yield Bond: -0.01<br>",
          "<b>Europe</b><br>Annualized Returns: 4.1%<br>Annualized Volatility: 16.2%<br><br>Strongest correlations with: <br>France: 0.96<br>EAFE: 0.95<br>UK: 0.94<br><br>Weakest correlations with: <br>ST Corp Bond: 0.05<br>CHF: 0.07<br>Corp Bond: -0.07<br>",
          "<b>Pacific </b><br>Annualized Returns: 6.8%<br>Annualized Volatility: 14.1%<br><br>Strongest correlations with: <br>Japan: 0.93<br>EAFE: 0.87<br>Pacifix ex Japan: 0.84<br><br>Weakest correlations with: <br>USD: -0.00<br>Euro: -0.02<br>Corp Bond: -0.03<br>",
          "<b>VXX</b><br>Annualized Returns: -79.6%<br>Annualized Volatility: 60.3%<br><br>Strongest correlations with: <br>SNP 500: -0.84<br>DOW: -0.80<br>Tech: -0.75<br><br>Weakest correlations with: <br>Silver: -0.02<br>Gold Miners: -0.03<br>ST Corp Bond: 0.05<br>",
          "<b>Materials</b><br>Annualized Returns: 9.4%<br>Annualized Volatility: 15.6%<br><br>Strongest correlations with: <br>SNP 500: 0.83<br>DOW: 0.82<br>Finance: 0.74<br><br>Weakest correlations with: <br>ST Corp Bond: 0.00<br>USD: -0.00<br>Euro: -0.02<br>",
          "<b>Energy</b><br>Annualized Returns: -2.6%<br>Annualized Volatility: 20.8%<br><br>Strongest correlations with: <br>Materials: 0.73<br>Oil: 0.71<br>SNP 500: 0.69<br><br>Weakest correlations with: <br>ST Corp Bond: -0.00<br>Euro: -0.01<br>Gold: -0.02<br>",
          "<b>Finance</b><br>Annualized Returns: 13.0%<br>Annualized Volatility: 15.7%<br><br>Strongest correlations with: <br>DOW: 0.87<br>SNP 500: 0.87<br>Materials: 0.74<br><br>Weakest correlations with: <br>Silver: -0.05<br>Gold Miners: -0.07<br>GBP: 0.12<br>",
          "<b>Tech</b><br>Annualized Returns: 17.8%<br>Annualized Volatility: 14.3%<br><br>Strongest correlations with: <br>SNP 500: 0.90<br>DOW: 0.85<br>VXX: -0.75<br><br>Weakest correlations with: <br>ST Corp Bond: 0.01<br>Silver: 0.03<br>Gold Miners: 0.06<br>",
          "<b>Utilities</b><br>Annualized Returns: 12.3%<br>Annualized Volatility: 14.3%<br><br>Strongest correlations with: <br>US real estate: 0.62<br>SNP 500: 0.42<br>DOW: 0.40<br><br>Weakest correlations with: <br>Yen: 0.04<br>Oil: 0.07<br>CHF: 0.07<br>",
          "<b>ST Corp Bond</b><br>Annualized Returns: 1.2%<br>Annualized Volatility: 0.9%<br><br>Strongest correlations with: <br>Bonds Global: 0.60<br>Corp Bond: 0.58<br>10yr treasuries: 0.58<br><br>Weakest correlations with: <br>Materials: 0.00<br>Energy: -0.00<br>Tech: 0.01<br>",
          "<b>CHF</b><br>Annualized Returns: -3.2%<br>Annualized Volatility: 11.8%<br><br>Strongest correlations with: <br>USD: -0.58<br>Euro: 0.53<br>Yen: 0.39<br><br>Weakest correlations with: <br>Oil: 0.00<br>Pacifix ex Japan: -0.01<br>Italy: 0.01<br>"
         ],
         "marker": {
          "color": [
           "#9eccb7",
           "#ffa09b",
           "#9eccb7",
           "#9eccb7",
           "#9eccb7",
           "#9eccb7",
           "#9eccb7",
           "#9eccb7",
           "#9eccb7",
           "#9eccb7",
           "#9eccb7",
           "#9eccb7",
           "#ffa09b",
           "#ffa09b",
           "#ffa09b",
           "#9eccb7",
           "#ffa09b",
           "#ffa09b",
           "#ffa09b",
           "#9eccb7",
           "#9eccb7",
           "#9eccb7",
           "#9eccb7",
           "#ffa09b",
           "#9eccb7",
           "#9eccb7",
           "#9eccb7",
           "#ffa09b",
           "#9eccb7",
           "#9eccb7",
           "#9eccb7",
           "#ffa09b",
           "#9eccb7",
           "#ffa09b",
           "#9eccb7",
           "#9eccb7",
           "#9eccb7",
           "#9eccb7",
           "#ffa09b"
          ],
          "line": {
           "width": 1
          },
          "size": [
           8.409962668180937,
           16.524876267989818,
           17.7498353842169,
           10.403416190734509,
           10.53709598744569,
           11.788905944056836,
           8.74128497140116,
           12.018545507968037,
           8.086765277867391,
           13.672562505704223,
           11.597668231034088,
           4.000588539017547,
           11.373755562808794,
           11.277544145227461,
           10.478913401298094,
           13.724484396832173,
           9.974741121453453,
           3.78139955026892,
           5.16239106325131,
           8.552093624728395,
           15.226449669612531,
           9.333975515026662,
           10.816214686027195,
           13.012444619200147,
           17.038389976013647,
           6.562382254765895,
           13.190086272365527,
           26.116645047013265,
           8.841394865569645,
           10.163491593442695,
           12.997150911568347,
           44.62053536030952,
           15.307855776949758,
           8.019867967649972,
           17.99398503323159,
           21.086276557424682,
           17.527129395409723,
           5.401409819263998,
           8.931243120025815
          ]
         },
         "mode": "markers+text",
         "showlegend": false,
         "text": [
          "Bonds Global",
          "Commodities",
          "DOW",
          "Emerg Markets",
          "EAFE",
          "Emerg Markets Bonds",
          "Pacifix ex Japan",
          "Germany",
          "Italy",
          "Japan",
          "France",
          "UK",
          "GBP",
          "China Large Cap",
          "Euro",
          "China",
          "Yen",
          "Gold Miners",
          "Gold",
          "10yr treasuries",
          "US real estate",
          "High yield Bond",
          "Corp Bond",
          "Silver",
          "SNP 500",
          "Bonds II",
          "20+ Treasuries",
          "Oil",
          "USD",
          "Europe",
          "Pacific ",
          "VXX",
          "Materials",
          "Energy",
          "Finance",
          "Tech",
          "Utilities",
          "ST Corp Bond",
          "CHF"
         ],
         "textfont": {
          "size": 7
         },
         "textposition": "top center",
         "type": "scatter",
         "x": [
          -0.852973490937021,
          0.7906472362311103,
          0.2806013661773533,
          0.34034314060914755,
          0.1421953455889953,
          0.3795158112641465,
          0.20906631029549366,
          0.41845328131771314,
          0.1780510664375598,
          0.45584788949160404,
          0.2443157226664489,
          0.047865915053243814,
          -0.15889415644095095,
          0.9341234250845958,
          -0.09184893227770002,
          0.4298023733483412,
          -0.6689700100537935,
          -0.8040823265597851,
          -0.7455218043352324,
          -0.8434157900224815,
          0.3375092586508005,
          0.3308449554978919,
          -0.9468359222931123,
          -0.8384745032475138,
          0.10424019514322677,
          -0.9841082787557562,
          -1,
          0.9139893513518759,
          -0.4179779976088588,
          0.12927038614981143,
          0.24324762237346736,
          0.3114107966448149,
          0.1774967918648546,
          0.5619968493011966,
          0.3863306125656832,
          0.3773898883216857,
          0.39491062161354296,
          -0.757656205784724,
          -0.008706794727676527
         ],
         "y": [
          0.4281620498436846,
          -0.2676566304659375,
          -0.1583591420594531,
          -0.4005363087174711,
          -0.28502321323300417,
          -0.5638242995537752,
          -0.33777576839718415,
          -0.04683052334757917,
          -0.20811887006301544,
          -0.13728029288325672,
          -0.2777738663242572,
          0.0644677353683003,
          0.25968460935420756,
          -0.24655373299224173,
          0.45570564563162164,
          -0.2272563545093033,
          0.2740068309334503,
          -0.086839572284793,
          0.08553234831443407,
          0.5562473816939533,
          0.06944466584758013,
          -0.029950912923885235,
          0.5422707881861795,
          -0.22566188707083407,
          -0.20044138461208424,
          0.3861083649704447,
          0.47365169153463155,
          -0.34492772896835544,
          0.2776577285458881,
          -0.11915143672924033,
          -0.013718129853848309,
          -0.3132672619679723,
          -0.0571032236650653,
          -0.21911655486254783,
          -0.1249613304631798,
          -0.2766797879011798,
          0.2205466385846162,
          0.47709703686520427,
          0.5982246981752685
         ]
        }
       ],
       "layout": {
        "autosize": false,
        "height": 800,
        "hovermode": "closest",
        "plot_bgcolor": "#fff",
        "showlegend": false,
        "template": {
         "data": {
          "bar": [
           {
            "error_x": {
             "color": "#2a3f5f"
            },
            "error_y": {
             "color": "#2a3f5f"
            },
            "marker": {
             "line": {
              "color": "#E5ECF6",
              "width": 0.5
             },
             "pattern": {
              "fillmode": "overlay",
              "size": 10,
              "solidity": 0.2
             }
            },
            "type": "bar"
           }
          ],
          "barpolar": [
           {
            "marker": {
             "line": {
              "color": "#E5ECF6",
              "width": 0.5
             },
             "pattern": {
              "fillmode": "overlay",
              "size": 10,
              "solidity": 0.2
             }
            },
            "type": "barpolar"
           }
          ],
          "carpet": [
           {
            "aaxis": {
             "endlinecolor": "#2a3f5f",
             "gridcolor": "white",
             "linecolor": "white",
             "minorgridcolor": "white",
             "startlinecolor": "#2a3f5f"
            },
            "baxis": {
             "endlinecolor": "#2a3f5f",
             "gridcolor": "white",
             "linecolor": "white",
             "minorgridcolor": "white",
             "startlinecolor": "#2a3f5f"
            },
            "type": "carpet"
           }
          ],
          "choropleth": [
           {
            "colorbar": {
             "outlinewidth": 0,
             "ticks": ""
            },
            "type": "choropleth"
           }
          ],
          "contour": [
           {
            "colorbar": {
             "outlinewidth": 0,
             "ticks": ""
            },
            "colorscale": [
             [
              0,
              "#0d0887"
             ],
             [
              0.1111111111111111,
              "#46039f"
             ],
             [
              0.2222222222222222,
              "#7201a8"
             ],
             [
              0.3333333333333333,
              "#9c179e"
             ],
             [
              0.4444444444444444,
              "#bd3786"
             ],
             [
              0.5555555555555556,
              "#d8576b"
             ],
             [
              0.6666666666666666,
              "#ed7953"
             ],
             [
              0.7777777777777778,
              "#fb9f3a"
             ],
             [
              0.8888888888888888,
              "#fdca26"
             ],
             [
              1,
              "#f0f921"
             ]
            ],
            "type": "contour"
           }
          ],
          "contourcarpet": [
           {
            "colorbar": {
             "outlinewidth": 0,
             "ticks": ""
            },
            "type": "contourcarpet"
           }
          ],
          "heatmap": [
           {
            "colorbar": {
             "outlinewidth": 0,
             "ticks": ""
            },
            "colorscale": [
             [
              0,
              "#0d0887"
             ],
             [
              0.1111111111111111,
              "#46039f"
             ],
             [
              0.2222222222222222,
              "#7201a8"
             ],
             [
              0.3333333333333333,
              "#9c179e"
             ],
             [
              0.4444444444444444,
              "#bd3786"
             ],
             [
              0.5555555555555556,
              "#d8576b"
             ],
             [
              0.6666666666666666,
              "#ed7953"
             ],
             [
              0.7777777777777778,
              "#fb9f3a"
             ],
             [
              0.8888888888888888,
              "#fdca26"
             ],
             [
              1,
              "#f0f921"
             ]
            ],
            "type": "heatmap"
           }
          ],
          "heatmapgl": [
           {
            "colorbar": {
             "outlinewidth": 0,
             "ticks": ""
            },
            "colorscale": [
             [
              0,
              "#0d0887"
             ],
             [
              0.1111111111111111,
              "#46039f"
             ],
             [
              0.2222222222222222,
              "#7201a8"
             ],
             [
              0.3333333333333333,
              "#9c179e"
             ],
             [
              0.4444444444444444,
              "#bd3786"
             ],
             [
              0.5555555555555556,
              "#d8576b"
             ],
             [
              0.6666666666666666,
              "#ed7953"
             ],
             [
              0.7777777777777778,
              "#fb9f3a"
             ],
             [
              0.8888888888888888,
              "#fdca26"
             ],
             [
              1,
              "#f0f921"
             ]
            ],
            "type": "heatmapgl"
           }
          ],
          "histogram": [
           {
            "marker": {
             "pattern": {
              "fillmode": "overlay",
              "size": 10,
              "solidity": 0.2
             }
            },
            "type": "histogram"
           }
          ],
          "histogram2d": [
           {
            "colorbar": {
             "outlinewidth": 0,
             "ticks": ""
            },
            "colorscale": [
             [
              0,
              "#0d0887"
             ],
             [
              0.1111111111111111,
              "#46039f"
             ],
             [
              0.2222222222222222,
              "#7201a8"
             ],
             [
              0.3333333333333333,
              "#9c179e"
             ],
             [
              0.4444444444444444,
              "#bd3786"
             ],
             [
              0.5555555555555556,
              "#d8576b"
             ],
             [
              0.6666666666666666,
              "#ed7953"
             ],
             [
              0.7777777777777778,
              "#fb9f3a"
             ],
             [
              0.8888888888888888,
              "#fdca26"
             ],
             [
              1,
              "#f0f921"
             ]
            ],
            "type": "histogram2d"
           }
          ],
          "histogram2dcontour": [
           {
            "colorbar": {
             "outlinewidth": 0,
             "ticks": ""
            },
            "colorscale": [
             [
              0,
              "#0d0887"
             ],
             [
              0.1111111111111111,
              "#46039f"
             ],
             [
              0.2222222222222222,
              "#7201a8"
             ],
             [
              0.3333333333333333,
              "#9c179e"
             ],
             [
              0.4444444444444444,
              "#bd3786"
             ],
             [
              0.5555555555555556,
              "#d8576b"
             ],
             [
              0.6666666666666666,
              "#ed7953"
             ],
             [
              0.7777777777777778,
              "#fb9f3a"
             ],
             [
              0.8888888888888888,
              "#fdca26"
             ],
             [
              1,
              "#f0f921"
             ]
            ],
            "type": "histogram2dcontour"
           }
          ],
          "mesh3d": [
           {
            "colorbar": {
             "outlinewidth": 0,
             "ticks": ""
            },
            "type": "mesh3d"
           }
          ],
          "parcoords": [
           {
            "line": {
             "colorbar": {
              "outlinewidth": 0,
              "ticks": ""
             }
            },
            "type": "parcoords"
           }
          ],
          "pie": [
           {
            "automargin": true,
            "type": "pie"
           }
          ],
          "scatter": [
           {
            "fillpattern": {
             "fillmode": "overlay",
             "size": 10,
             "solidity": 0.2
            },
            "type": "scatter"
           }
          ],
          "scatter3d": [
           {
            "line": {
             "colorbar": {
              "outlinewidth": 0,
              "ticks": ""
             }
            },
            "marker": {
             "colorbar": {
              "outlinewidth": 0,
              "ticks": ""
             }
            },
            "type": "scatter3d"
           }
          ],
          "scattercarpet": [
           {
            "marker": {
             "colorbar": {
              "outlinewidth": 0,
              "ticks": ""
             }
            },
            "type": "scattercarpet"
           }
          ],
          "scattergeo": [
           {
            "marker": {
             "colorbar": {
              "outlinewidth": 0,
              "ticks": ""
             }
            },
            "type": "scattergeo"
           }
          ],
          "scattergl": [
           {
            "marker": {
             "colorbar": {
              "outlinewidth": 0,
              "ticks": ""
             }
            },
            "type": "scattergl"
           }
          ],
          "scattermapbox": [
           {
            "marker": {
             "colorbar": {
              "outlinewidth": 0,
              "ticks": ""
             }
            },
            "type": "scattermapbox"
           }
          ],
          "scatterpolar": [
           {
            "marker": {
             "colorbar": {
              "outlinewidth": 0,
              "ticks": ""
             }
            },
            "type": "scatterpolar"
           }
          ],
          "scatterpolargl": [
           {
            "marker": {
             "colorbar": {
              "outlinewidth": 0,
              "ticks": ""
             }
            },
            "type": "scatterpolargl"
           }
          ],
          "scatterternary": [
           {
            "marker": {
             "colorbar": {
              "outlinewidth": 0,
              "ticks": ""
             }
            },
            "type": "scatterternary"
           }
          ],
          "surface": [
           {
            "colorbar": {
             "outlinewidth": 0,
             "ticks": ""
            },
            "colorscale": [
             [
              0,
              "#0d0887"
             ],
             [
              0.1111111111111111,
              "#46039f"
             ],
             [
              0.2222222222222222,
              "#7201a8"
             ],
             [
              0.3333333333333333,
              "#9c179e"
             ],
             [
              0.4444444444444444,
              "#bd3786"
             ],
             [
              0.5555555555555556,
              "#d8576b"
             ],
             [
              0.6666666666666666,
              "#ed7953"
             ],
             [
              0.7777777777777778,
              "#fb9f3a"
             ],
             [
              0.8888888888888888,
              "#fdca26"
             ],
             [
              1,
              "#f0f921"
             ]
            ],
            "type": "surface"
           }
          ],
          "table": [
           {
            "cells": {
             "fill": {
              "color": "#EBF0F8"
             },
             "line": {
              "color": "white"
             }
            },
            "header": {
             "fill": {
              "color": "#C8D4E3"
             },
             "line": {
              "color": "white"
             }
            },
            "type": "table"
           }
          ]
         },
         "layout": {
          "annotationdefaults": {
           "arrowcolor": "#2a3f5f",
           "arrowhead": 0,
           "arrowwidth": 1
          },
          "autotypenumbers": "strict",
          "coloraxis": {
           "colorbar": {
            "outlinewidth": 0,
            "ticks": ""
           }
          },
          "colorscale": {
           "diverging": [
            [
             0,
             "#8e0152"
            ],
            [
             0.1,
             "#c51b7d"
            ],
            [
             0.2,
             "#de77ae"
            ],
            [
             0.3,
             "#f1b6da"
            ],
            [
             0.4,
             "#fde0ef"
            ],
            [
             0.5,
             "#f7f7f7"
            ],
            [
             0.6,
             "#e6f5d0"
            ],
            [
             0.7,
             "#b8e186"
            ],
            [
             0.8,
             "#7fbc41"
            ],
            [
             0.9,
             "#4d9221"
            ],
            [
             1,
             "#276419"
            ]
           ],
           "sequential": [
            [
             0,
             "#0d0887"
            ],
            [
             0.1111111111111111,
             "#46039f"
            ],
            [
             0.2222222222222222,
             "#7201a8"
            ],
            [
             0.3333333333333333,
             "#9c179e"
            ],
            [
             0.4444444444444444,
             "#bd3786"
            ],
            [
             0.5555555555555556,
             "#d8576b"
            ],
            [
             0.6666666666666666,
             "#ed7953"
            ],
            [
             0.7777777777777778,
             "#fb9f3a"
            ],
            [
             0.8888888888888888,
             "#fdca26"
            ],
            [
             1,
             "#f0f921"
            ]
           ],
           "sequentialminus": [
            [
             0,
             "#0d0887"
            ],
            [
             0.1111111111111111,
             "#46039f"
            ],
            [
             0.2222222222222222,
             "#7201a8"
            ],
            [
             0.3333333333333333,
             "#9c179e"
            ],
            [
             0.4444444444444444,
             "#bd3786"
            ],
            [
             0.5555555555555556,
             "#d8576b"
            ],
            [
             0.6666666666666666,
             "#ed7953"
            ],
            [
             0.7777777777777778,
             "#fb9f3a"
            ],
            [
             0.8888888888888888,
             "#fdca26"
            ],
            [
             1,
             "#f0f921"
            ]
           ]
          },
          "colorway": [
           "#636efa",
           "#EF553B",
           "#00cc96",
           "#ab63fa",
           "#FFA15A",
           "#19d3f3",
           "#FF6692",
           "#B6E880",
           "#FF97FF",
           "#FECB52"
          ],
          "font": {
           "color": "#2a3f5f"
          },
          "geo": {
           "bgcolor": "white",
           "lakecolor": "white",
           "landcolor": "#E5ECF6",
           "showlakes": true,
           "showland": true,
           "subunitcolor": "white"
          },
          "hoverlabel": {
           "align": "left"
          },
          "hovermode": "closest",
          "mapbox": {
           "style": "light"
          },
          "paper_bgcolor": "white",
          "plot_bgcolor": "#E5ECF6",
          "polar": {
           "angularaxis": {
            "gridcolor": "white",
            "linecolor": "white",
            "ticks": ""
           },
           "bgcolor": "#E5ECF6",
           "radialaxis": {
            "gridcolor": "white",
            "linecolor": "white",
            "ticks": ""
           }
          },
          "scene": {
           "xaxis": {
            "backgroundcolor": "#E5ECF6",
            "gridcolor": "white",
            "gridwidth": 2,
            "linecolor": "white",
            "showbackground": true,
            "ticks": "",
            "zerolinecolor": "white"
           },
           "yaxis": {
            "backgroundcolor": "#E5ECF6",
            "gridcolor": "white",
            "gridwidth": 2,
            "linecolor": "white",
            "showbackground": true,
            "ticks": "",
            "zerolinecolor": "white"
           },
           "zaxis": {
            "backgroundcolor": "#E5ECF6",
            "gridcolor": "white",
            "gridwidth": 2,
            "linecolor": "white",
            "showbackground": true,
            "ticks": "",
            "zerolinecolor": "white"
           }
          },
          "shapedefaults": {
           "line": {
            "color": "#2a3f5f"
           }
          },
          "ternary": {
           "aaxis": {
            "gridcolor": "white",
            "linecolor": "white",
            "ticks": ""
           },
           "baxis": {
            "gridcolor": "white",
            "linecolor": "white",
            "ticks": ""
           },
           "bgcolor": "#E5ECF6",
           "caxis": {
            "gridcolor": "white",
            "linecolor": "white",
            "ticks": ""
           }
          },
          "title": {
           "x": 0.05
          },
          "xaxis": {
           "automargin": true,
           "gridcolor": "white",
           "linecolor": "white",
           "ticks": "",
           "title": {
            "standoff": 15
           },
           "zerolinecolor": "white",
           "zerolinewidth": 2
          },
          "yaxis": {
           "automargin": true,
           "gridcolor": "white",
           "linecolor": "white",
           "ticks": "",
           "title": {
            "standoff": 15
           },
           "zerolinecolor": "white",
           "zerolinewidth": 2
          }
         }
        },
        "title": {
         "text": "Plotly - interactive minimum spanning tree"
        },
        "width": 800,
        "xaxis": {
         "showgrid": false,
         "showline": false,
         "showticklabels": false,
         "ticks": "",
         "title": {
          "font": {
           "size": 20
          },
          "text": ""
         },
         "zeroline": false
        },
        "yaxis": {
         "showgrid": false,
         "showline": false,
         "showticklabels": false,
         "ticks": "",
         "title": {
          "font": {
           "size": 20
          },
          "text": ""
         },
         "zeroline": false
        }
       }
      },
      "text/html": [
       "<div>                            <div id=\"0fb31313-4991-49d8-9cef-1c1bd4788676\" class=\"plotly-graph-div\" style=\"height:800px; width:800px;\"></div>            <script type=\"text/javascript\">                require([\"plotly\"], function(Plotly) {                    window.PLOTLYENV=window.PLOTLYENV || {};                                    if (document.getElementById(\"0fb31313-4991-49d8-9cef-1c1bd4788676\")) {                    Plotly.newPlot(                        \"0fb31313-4991-49d8-9cef-1c1bd4788676\",                        [{\"hoverinfo\":\"none\",\"line\":{\"color\":\"#DCDCDC\",\"width\":1},\"mode\":\"lines\",\"showlegend\":false,\"x\":[-0.852973490937021,-0.6689700100537935,null,-0.852973490937021,-0.8434157900224815,null,-0.852973490937021,-0.9468359222931123,null,-0.852973490937021,-0.9841082787557562,null,-0.852973490937021,-1.0,null,-0.852973490937021,-0.757656205784724,null,0.7906472362311103,0.9341234250845958,null,0.7906472362311103,0.9139893513518759,null,0.7906472362311103,0.5619968493011966,null,0.2806013661773533,0.34034314060914755,null,0.2806013661773533,0.1421953455889953,null,0.2806013661773533,0.20906631029549366,null,0.2806013661773533,0.41845328131771314,null,0.2806013661773533,0.1780510664375598,null,0.2806013661773533,0.45584788949160404,null,0.2806013661773533,0.2443157226664489,null,0.2806013661773533,0.047865915053243814,null,0.2806013661773533,0.4298023733483412,null,0.2806013661773533,0.3375092586508005,null,0.2806013661773533,0.3308449554978919,null,0.2806013661773533,0.10424019514322677,null,0.2806013661773533,0.12927038614981143,null,0.2806013661773533,0.24324762237346736,null,0.2806013661773533,0.3114107966448149,null,0.2806013661773533,0.1774967918648546,null,0.2806013661773533,0.5619968493011966,null,0.2806013661773533,0.3863306125656832,null,0.2806013661773533,0.3773898883216857,null,0.34034314060914755,0.3795158112641465,null,0.047865915053243814,-0.15889415644095095,null,-0.15889415644095095,-0.09184893227770002,null,-0.15889415644095095,-0.4179779976088588,null,-0.09184893227770002,-0.008706794727676527,null,-0.6689700100537935,-0.7455218043352324,null,-0.6689700100537935,-0.4179779976088588,null,-0.8040823265597851,-0.7455218043352324,null,-0.8040823265597851,-0.8384745032475138,null,0.3375092586508005,0.39491062161354296,null],\"y\":[0.4281620498436846,0.2740068309334503,null,0.4281620498436846,0.5562473816939533,null,0.4281620498436846,0.5422707881861795,null,0.4281620498436846,0.3861083649704447,null,0.4281620498436846,0.47365169153463155,null,0.4281620498436846,0.47709703686520427,null,-0.2676566304659375,-0.24655373299224173,null,-0.2676566304659375,-0.34492772896835544,null,-0.2676566304659375,-0.21911655486254783,null,-0.1583591420594531,-0.4005363087174711,null,-0.1583591420594531,-0.28502321323300417,null,-0.1583591420594531,-0.33777576839718415,null,-0.1583591420594531,-0.04683052334757917,null,-0.1583591420594531,-0.20811887006301544,null,-0.1583591420594531,-0.13728029288325672,null,-0.1583591420594531,-0.2777738663242572,null,-0.1583591420594531,0.0644677353683003,null,-0.1583591420594531,-0.2272563545093033,null,-0.1583591420594531,0.06944466584758013,null,-0.1583591420594531,-0.029950912923885235,null,-0.1583591420594531,-0.20044138461208424,null,-0.1583591420594531,-0.11915143672924033,null,-0.1583591420594531,-0.013718129853848309,null,-0.1583591420594531,-0.3132672619679723,null,-0.1583591420594531,-0.0571032236650653,null,-0.1583591420594531,-0.21911655486254783,null,-0.1583591420594531,-0.1249613304631798,null,-0.1583591420594531,-0.2766797879011798,null,-0.4005363087174711,-0.5638242995537752,null,0.0644677353683003,0.25968460935420756,null,0.25968460935420756,0.45570564563162164,null,0.25968460935420756,0.2776577285458881,null,0.45570564563162164,0.5982246981752685,null,0.2740068309334503,0.08553234831443407,null,0.2740068309334503,0.2776577285458881,null,-0.086839572284793,0.08553234831443407,null,-0.086839572284793,-0.22566188707083407,null,0.06944466584758013,0.2205466385846162,null],\"type\":\"scatter\"},{\"hoverinfo\":\"text\",\"hovertext\":[\"\\u003cb\\u003eBonds Global\\u003c\\u002fb\\u003e\\u003cbr\\u003eAnnualized Returns: 2.8%\\u003cbr\\u003eAnnualized Volatility: 3.2%\\u003cbr\\u003e\\u003cbr\\u003eStrongest correlations with: \\u003cbr\\u003e10yr treasuries: 0.94\\u003cbr\\u003e20+ Treasuries: 0.90\\u003cbr\\u003eCorp Bond: 0.89\\u003cbr\\u003e\\u003cbr\\u003eWeakest correlations with: \\u003cbr\\u003eGBP: 0.03\\u003cbr\\u003eHigh yield Bond: -0.06\\u003cbr\\u003eEmerg Markets: -0.07\\u003cbr\\u003e\",\"\\u003cb\\u003eCommodities\\u003c\\u002fb\\u003e\\u003cbr\\u003eAnnualized Returns: -10.9%\\u003cbr\\u003eAnnualized Volatility: 15.1%\\u003cbr\\u003e\\u003cbr\\u003eStrongest correlations with: \\u003cbr\\u003eOil: 0.88\\u003cbr\\u003eEnergy: 0.68\\u003cbr\\u003eChina Large Cap: 0.53\\u003cbr\\u003e\\u003cbr\\u003eWeakest correlations with: \\u003cbr\\u003eST Corp Bond: 0.03\\u003cbr\\u003eYen: -0.03\\u003cbr\\u003eCHF: 0.04\\u003cbr\\u003e\",\"\\u003cb\\u003eDOW\\u003c\\u002fb\\u003e\\u003cbr\\u003eAnnualized Returns: 12.6%\\u003cbr\\u003eAnnualized Volatility: 11.8%\\u003cbr\\u003e\\u003cbr\\u003eStrongest correlations with: \\u003cbr\\u003eSNP 500: 0.97\\u003cbr\\u003eFinance: 0.87\\u003cbr\\u003eTech: 0.85\\u003cbr\\u003e\\u003cbr\\u003eWeakest correlations with: \\u003cbr\\u003eSilver: 0.03\\u003cbr\\u003eGold Miners: 0.04\\u003cbr\\u003eST Corp Bond: -0.04\\u003cbr\\u003e\",\"\\u003cb\\u003eEmerg Markets\\u003c\\u002fb\\u003e\\u003cbr\\u003eAnnualized Returns: 4.3%\\u003cbr\\u003eAnnualized Volatility: 18.5%\\u003cbr\\u003e\\u003cbr\\u003eStrongest correlations with: \\u003cbr\\u003eChina: 0.84\\u003cbr\\u003ePacifix ex Japan: 0.82\\u003cbr\\u003ePacific : 0.81\\u003cbr\\u003e\\u003cbr\\u003eWeakest correlations with: \\u003cbr\\u003eBonds II: -0.00\\u003cbr\\u003eGold: -0.01\\u003cbr\\u003eCHF: -0.02\\u003cbr\\u003e\",\"\\u003cb\\u003eEAFE\\u003c\\u002fb\\u003e\\u003cbr\\u003eAnnualized Returns: 4.4%\\u003cbr\\u003eAnnualized Volatility: 14.7%\\u003cbr\\u003e\\u003cbr\\u003eStrongest correlations with: \\u003cbr\\u003eEurope: 0.95\\u003cbr\\u003eFrance: 0.91\\u003cbr\\u003eUK: 0.91\\u003cbr\\u003e\\u003cbr\\u003eWeakest correlations with: \\u003cbr\\u003eCHF: 0.02\\u003cbr\\u003eST Corp Bond: 0.05\\u003cbr\\u003eCorp Bond: -0.06\\u003cbr\\u003e\",\"\\u003cb\\u003eEmerg Markets Bonds\\u003c\\u002fb\\u003e\\u003cbr\\u003eAnnualized Returns: 5.6%\\u003cbr\\u003eAnnualized Volatility: 6.4%\\u003cbr\\u003e\\u003cbr\\u003eStrongest correlations with: \\u003cbr\\u003eEmerg Markets: 0.58\\u003cbr\\u003eHigh yield Bond: 0.58\\u003cbr\\u003ePacifix ex Japan: 0.48\\u003cbr\\u003e\\u003cbr\\u003eWeakest correlations with: \\u003cbr\\u003eYen: 0.07\\u003cbr\\u003eCHF: 0.07\\u003cbr\\u003eEuro: 0.12\\u003cbr\\u003e\",\"\\u003cb\\u003ePacifix ex Japan\\u003c\\u002fb\\u003e\\u003cbr\\u003eAnnualized Returns: 3.1%\\u003cbr\\u003eAnnualized Volatility: 16.2%\\u003cbr\\u003e\\u003cbr\\u003eStrongest correlations with: \\u003cbr\\u003ePacific : 0.84\\u003cbr\\u003eEmerg Markets: 0.82\\u003cbr\\u003eEAFE: 0.79\\u003cbr\\u003e\\u003cbr\\u003eWeakest correlations with: \\u003cbr\\u003eCorp Bond: -0.01\\u003cbr\\u003eGold: -0.01\\u003cbr\\u003eCHF: -0.01\\u003cbr\\u003e\",\"\\u003cb\\u003eGermany\\u003c\\u002fb\\u003e\\u003cbr\\u003eAnnualized Returns: 5.8%\\u003cbr\\u003eAnnualized Volatility: 17.9%\\u003cbr\\u003e\\u003cbr\\u003eStrongest correlations with: \\u003cbr\\u003eEurope: 0.93\\u003cbr\\u003eFrance: 0.93\\u003cbr\\u003eEAFE: 0.88\\u003cbr\\u003e\\u003cbr\\u003eWeakest correlations with: \\u003cbr\\u003eCHF: 0.02\\u003cbr\\u003eST Corp Bond: 0.02\\u003cbr\\u003eGold Miners: 0.06\\u003cbr\\u003e\",\"\\u003cb\\u003eItaly\\u003c\\u002fb\\u003e\\u003cbr\\u003eAnnualized Returns: 2.6%\\u003cbr\\u003eAnnualized Volatility: 23.8%\\u003cbr\\u003e\\u003cbr\\u003eStrongest correlations with: \\u003cbr\\u003eEurope: 0.88\\u003cbr\\u003eFrance: 0.88\\u003cbr\\u003eGermany: 0.84\\u003cbr\\u003e\\u003cbr\\u003eWeakest correlations with: \\u003cbr\\u003eST Corp Bond: -0.01\\u003cbr\\u003eCHF: 0.01\\u003cbr\\u003eGold Miners: 0.07\\u003cbr\\u003e\",\"\\u003cb\\u003eJapan\\u003c\\u002fb\\u003e\\u003cbr\\u003eAnnualized Returns: 7.5%\\u003cbr\\u003eAnnualized Volatility: 15.7%\\u003cbr\\u003e\\u003cbr\\u003eStrongest correlations with: \\u003cbr\\u003ePacific : 0.93\\u003cbr\\u003eEAFE: 0.79\\u003cbr\\u003eSNP 500: 0.71\\u003cbr\\u003e\\u003cbr\\u003eWeakest correlations with: \\u003cbr\\u003eGold Miners: 0.03\\u003cbr\\u003eST Corp Bond: 0.04\\u003cbr\\u003eSilver: 0.05\\u003cbr\\u003e\",\"\\u003cb\\u003eFrance\\u003c\\u002fb\\u003e\\u003cbr\\u003eAnnualized Returns: 5.4%\\u003cbr\\u003eAnnualized Volatility: 17.8%\\u003cbr\\u003e\\u003cbr\\u003eStrongest correlations with: \\u003cbr\\u003eEurope: 0.96\\u003cbr\\u003eGermany: 0.93\\u003cbr\\u003eEAFE: 0.91\\u003cbr\\u003e\\u003cbr\\u003eWeakest correlations with: \\u003cbr\\u003eCHF: 0.05\\u003cbr\\u003eST Corp Bond: 0.05\\u003cbr\\u003eCorp Bond: -0.07\\u003cbr\\u003e\",\"\\u003cb\\u003eUK\\u003c\\u002fb\\u003e\\u003cbr\\u003eAnnualized Returns: 0.6%\\u003cbr\\u003eAnnualized Volatility: 16.9%\\u003cbr\\u003e\\u003cbr\\u003eStrongest correlations with: \\u003cbr\\u003eEurope: 0.94\\u003cbr\\u003eEAFE: 0.91\\u003cbr\\u003eFrance: 0.85\\u003cbr\\u003e\\u003cbr\\u003eWeakest correlations with: \\u003cbr\\u003eCHF: 0.03\\u003cbr\\u003eST Corp Bond: 0.03\\u003cbr\\u003eCorp Bond: -0.07\\u003cbr\\u003e\",\"\\u003cb\\u003eGBP\\u003c\\u002fb\\u003e\\u003cbr\\u003eAnnualized Returns: -5.2%\\u003cbr\\u003eAnnualized Volatility: 9.6%\\u003cbr\\u003e\\u003cbr\\u003eStrongest correlations with: \\u003cbr\\u003eUSD: -0.61\\u003cbr\\u003eUK: 0.55\\u003cbr\\u003eEuro: 0.51\\u003cbr\\u003e\\u003cbr\\u003eWeakest correlations with: \\u003cbr\\u003e10yr treasuries: -0.01\\u003cbr\\u003eBonds Global: 0.03\\u003cbr\\u003eCorp Bond: 0.06\\u003cbr\\u003e\",\"\\u003cb\\u003eChina Large Cap\\u003c\\u002fb\\u003e\\u003cbr\\u003eAnnualized Returns: -5.1%\\u003cbr\\u003eAnnualized Volatility: 8.0%\\u003cbr\\u003e\\u003cbr\\u003eStrongest correlations with: \\u003cbr\\u003eCommodities: 0.53\\u003cbr\\u003eOil: 0.51\\u003cbr\\u003eUSD: -0.47\\u003cbr\\u003e\\u003cbr\\u003eWeakest correlations with: \\u003cbr\\u003e10yr treasuries: 0.01\\u003cbr\\u003e20+ Treasuries: -0.08\\u003cbr\\u003eBonds Global: 0.08\\u003cbr\\u003e\",\"\\u003cb\\u003eEuro\\u003c\\u002fb\\u003e\\u003cbr\\u003eAnnualized Returns: -4.4%\\u003cbr\\u003eAnnualized Volatility: 8.8%\\u003cbr\\u003e\\u003cbr\\u003eStrongest correlations with: \\u003cbr\\u003eUSD: -0.96\\u003cbr\\u003eCHF: 0.53\\u003cbr\\u003eGBP: 0.51\\u003cbr\\u003e\\u003cbr\\u003eWeakest correlations with: \\u003cbr\\u003eUS real estate: -0.01\\u003cbr\\u003eEnergy: -0.01\\u003cbr\\u003eMaterials: -0.02\\u003cbr\\u003e\",\"\\u003cb\\u003eChina\\u003c\\u002fb\\u003e\\u003cbr\\u003eAnnualized Returns: 7.5%\\u003cbr\\u003eAnnualized Volatility: 22.9%\\u003cbr\\u003e\\u003cbr\\u003eStrongest correlations with: \\u003cbr\\u003eEmerg Markets: 0.84\\u003cbr\\u003ePacifix ex Japan: 0.73\\u003cbr\\u003ePacific : 0.72\\u003cbr\\u003e\\u003cbr\\u003eWeakest correlations with: \\u003cbr\\u003eCorp Bond: -0.06\\u003cbr\\u003eST Corp Bond: 0.06\\u003cbr\\u003eUSD: 0.07\\u003cbr\\u003e\",\"\\u003cb\\u003eYen\\u003c\\u002fb\\u003e\\u003cbr\\u003eAnnualized Returns: -4.0%\\u003cbr\\u003eAnnualized Volatility: 9.6%\\u003cbr\\u003e\\u003cbr\\u003eStrongest correlations with: \\u003cbr\\u003e10yr treasuries: 0.56\\u003cbr\\u003eUSD: -0.54\\u003cbr\\u003eFinance: -0.54\\u003cbr\\u003e\\u003cbr\\u003eWeakest correlations with: \\u003cbr\\u003eCommodities: -0.03\\u003cbr\\u003eUtilities: 0.04\\u003cbr\\u003eEmerg Markets Bonds: 0.07\\u003cbr\\u003e\",\"\\u003cb\\u003eGold Miners\\u003c\\u002fb\\u003e\\u003cbr\\u003eAnnualized Returns: -0.6%\\u003cbr\\u003eAnnualized Volatility: 41.6%\\u003cbr\\u003e\\u003cbr\\u003eStrongest correlations with: \\u003cbr\\u003eGold: 0.79\\u003cbr\\u003eSilver: 0.70\\u003cbr\\u003eChina Large Cap: 0.36\\u003cbr\\u003e\\u003cbr\\u003eWeakest correlations with: \\u003cbr\\u003eVXX: -0.03\\u003cbr\\u003eJapan: 0.03\\u003cbr\\u003eDOW: 0.04\\u003cbr\\u003e\",\"\\u003cb\\u003eGold\\u003c\\u002fb\\u003e\\u003cbr\\u003eAnnualized Returns: -1.1%\\u003cbr\\u003eAnnualized Volatility: 14.2%\\u003cbr\\u003e\\u003cbr\\u003eStrongest correlations with: \\u003cbr\\u003eGold Miners: 0.79\\u003cbr\\u003eSilver: 0.79\\u003cbr\\u003eYen: 0.52\\u003cbr\\u003e\\u003cbr\\u003eWeakest correlations with: \\u003cbr\\u003ePacifix ex Japan: -0.01\\u003cbr\\u003eEmerg Markets: -0.01\\u003cbr\\u003eEnergy: -0.02\\u003cbr\\u003e\",\"\\u003cb\\u003e10yr treasuries\\u003c\\u002fb\\u003e\\u003cbr\\u003eAnnualized Returns: 2.9%\\u003cbr\\u003eAnnualized Volatility: 5.4%\\u003cbr\\u003e\\u003cbr\\u003eStrongest correlations with: \\u003cbr\\u003eBonds Global: 0.94\\u003cbr\\u003e20+ Treasuries: 0.93\\u003cbr\\u003eCorp Bond: 0.86\\u003cbr\\u003e\\u003cbr\\u003eWeakest correlations with: \\u003cbr\\u003eChina Large Cap: 0.01\\u003cbr\\u003eGBP: -0.01\\u003cbr\\u003eUS real estate: 0.09\\u003cbr\\u003e\",\"\\u003cb\\u003eUS real estate\\u003c\\u002fb\\u003e\\u003cbr\\u003eAnnualized Returns: 9.3%\\u003cbr\\u003eAnnualized Volatility: 13.4%\\u003cbr\\u003e\\u003cbr\\u003eStrongest correlations with: \\u003cbr\\u003eSNP 500: 0.63\\u003cbr\\u003eUtilities: 0.62\\u003cbr\\u003eDOW: 0.59\\u003cbr\\u003e\\u003cbr\\u003eWeakest correlations with: \\u003cbr\\u003eEuro: -0.01\\u003cbr\\u003eUSD: -0.02\\u003cbr\\u003eCHF: -0.04\\u003cbr\\u003e\",\"\\u003cb\\u003eHigh yield Bond\\u003c\\u002fb\\u003e\\u003cbr\\u003eAnnualized Returns: 3.5%\\u003cbr\\u003eAnnualized Volatility: 6.2%\\u003cbr\\u003e\\u003cbr\\u003eStrongest correlations with: \\u003cbr\\u003eSNP 500: 0.67\\u003cbr\\u003eMaterials: 0.66\\u003cbr\\u003eEmerg Markets: 0.64\\u003cbr\\u003e\\u003cbr\\u003eWeakest correlations with: \\u003cbr\\u003eBonds II: 0.01\\u003cbr\\u003eUSD: -0.01\\u003cbr\\u003eEuro: -0.02\\u003cbr\\u003e\",\"\\u003cb\\u003eCorp Bond\\u003c\\u002fb\\u003e\\u003cbr\\u003eAnnualized Returns: 4.7%\\u003cbr\\u003eAnnualized Volatility: 5.0%\\u003cbr\\u003e\\u003cbr\\u003eStrongest correlations with: \\u003cbr\\u003eBonds Global: 0.89\\u003cbr\\u003e10yr treasuries: 0.86\\u003cbr\\u003e20+ Treasuries: 0.85\\u003cbr\\u003e\\u003cbr\\u003eWeakest correlations with: \\u003cbr\\u003ePacifix ex Japan: -0.01\\u003cbr\\u003eEmerg Markets: 0.02\\u003cbr\\u003ePacific : -0.03\\u003cbr\\u003e\",\"\\u003cb\\u003eSilver\\u003c\\u002fb\\u003e\\u003cbr\\u003eAnnualized Returns: -6.8%\\u003cbr\\u003eAnnualized Volatility: 22.2%\\u003cbr\\u003e\\u003cbr\\u003eStrongest correlations with: \\u003cbr\\u003eGold: 0.79\\u003cbr\\u003eGold Miners: 0.70\\u003cbr\\u003eCommodities: 0.35\\u003cbr\\u003e\\u003cbr\\u003eWeakest correlations with: \\u003cbr\\u003eVXX: -0.02\\u003cbr\\u003eDOW: 0.03\\u003cbr\\u003eTech: 0.03\\u003cbr\\u003e\",\"\\u003cb\\u003eSNP 500\\u003c\\u002fb\\u003e\\u003cbr\\u003eAnnualized Returns: 11.6%\\u003cbr\\u003eAnnualized Volatility: 12.1%\\u003cbr\\u003e\\u003cbr\\u003eStrongest correlations with: \\u003cbr\\u003eDOW: 0.97\\u003cbr\\u003eTech: 0.90\\u003cbr\\u003eFinance: 0.87\\u003cbr\\u003e\\u003cbr\\u003eWeakest correlations with: \\u003cbr\\u003eST Corp Bond: -0.02\\u003cbr\\u003eSilver: 0.05\\u003cbr\\u003eGold Miners: 0.08\\u003cbr\\u003e\",\"\\u003cb\\u003eBonds II\\u003c\\u002fb\\u003e\\u003cbr\\u003eAnnualized Returns: 1.7%\\u003cbr\\u003eAnnualized Volatility: 4.7%\\u003cbr\\u003e\\u003cbr\\u003eStrongest correlations with: \\u003cbr\\u003e10yr treasuries: 0.84\\u003cbr\\u003eBonds Global: 0.83\\u003cbr\\u003e20+ Treasuries: 0.79\\u003cbr\\u003e\\u003cbr\\u003eWeakest correlations with: \\u003cbr\\u003eEmerg Markets: -0.00\\u003cbr\\u003ePacifix ex Japan: -0.01\\u003cbr\\u003eHigh yield Bond: 0.01\\u003cbr\\u003e\",\"\\u003cb\\u003e20+ Treasuries\\u003c\\u002fb\\u003e\\u003cbr\\u003eAnnualized Returns: 7.0%\\u003cbr\\u003eAnnualized Volatility: 12.5%\\u003cbr\\u003e\\u003cbr\\u003eStrongest correlations with: \\u003cbr\\u003e10yr treasuries: 0.93\\u003cbr\\u003eBonds Global: 0.90\\u003cbr\\u003eCorp Bond: 0.85\\u003cbr\\u003e\\u003cbr\\u003eWeakest correlations with: \\u003cbr\\u003eUS real estate: 0.07\\u003cbr\\u003eGBP: -0.07\\u003cbr\\u003eChina Large Cap: -0.08\\u003cbr\\u003e\",\"\\u003cb\\u003eOil\\u003c\\u002fb\\u003e\\u003cbr\\u003eAnnualized Returns: -27.3%\\u003cbr\\u003eAnnualized Volatility: 34.1%\\u003cbr\\u003e\\u003cbr\\u003eStrongest correlations with: \\u003cbr\\u003eCommodities: 0.88\\u003cbr\\u003eEnergy: 0.71\\u003cbr\\u003eChina Large Cap: 0.51\\u003cbr\\u003e\\u003cbr\\u003eWeakest correlations with: \\u003cbr\\u003eCHF: 0.00\\u003cbr\\u003eST Corp Bond: 0.01\\u003cbr\\u003eBonds II: 0.03\\u003cbr\\u003e\",\"\\u003cb\\u003eUSD\\u003c\\u002fb\\u003e\\u003cbr\\u003eAnnualized Returns: 3.1%\\u003cbr\\u003eAnnualized Volatility: 7.4%\\u003cbr\\u003e\\u003cbr\\u003eStrongest correlations with: \\u003cbr\\u003eEuro: -0.96\\u003cbr\\u003eGBP: -0.61\\u003cbr\\u003eCHF: -0.58\\u003cbr\\u003e\\u003cbr\\u003eWeakest correlations with: \\u003cbr\\u003eMaterials: -0.00\\u003cbr\\u003ePacific : -0.00\\u003cbr\\u003eHigh yield Bond: -0.01\\u003cbr\\u003e\",\"\\u003cb\\u003eEurope\\u003c\\u002fb\\u003e\\u003cbr\\u003eAnnualized Returns: 4.1%\\u003cbr\\u003eAnnualized Volatility: 16.2%\\u003cbr\\u003e\\u003cbr\\u003eStrongest correlations with: \\u003cbr\\u003eFrance: 0.96\\u003cbr\\u003eEAFE: 0.95\\u003cbr\\u003eUK: 0.94\\u003cbr\\u003e\\u003cbr\\u003eWeakest correlations with: \\u003cbr\\u003eST Corp Bond: 0.05\\u003cbr\\u003eCHF: 0.07\\u003cbr\\u003eCorp Bond: -0.07\\u003cbr\\u003e\",\"\\u003cb\\u003ePacific \\u003c\\u002fb\\u003e\\u003cbr\\u003eAnnualized Returns: 6.8%\\u003cbr\\u003eAnnualized Volatility: 14.1%\\u003cbr\\u003e\\u003cbr\\u003eStrongest correlations with: \\u003cbr\\u003eJapan: 0.93\\u003cbr\\u003eEAFE: 0.87\\u003cbr\\u003ePacifix ex Japan: 0.84\\u003cbr\\u003e\\u003cbr\\u003eWeakest correlations with: \\u003cbr\\u003eUSD: -0.00\\u003cbr\\u003eEuro: -0.02\\u003cbr\\u003eCorp Bond: -0.03\\u003cbr\\u003e\",\"\\u003cb\\u003eVXX\\u003c\\u002fb\\u003e\\u003cbr\\u003eAnnualized Returns: -79.6%\\u003cbr\\u003eAnnualized Volatility: 60.3%\\u003cbr\\u003e\\u003cbr\\u003eStrongest correlations with: \\u003cbr\\u003eSNP 500: -0.84\\u003cbr\\u003eDOW: -0.80\\u003cbr\\u003eTech: -0.75\\u003cbr\\u003e\\u003cbr\\u003eWeakest correlations with: \\u003cbr\\u003eSilver: -0.02\\u003cbr\\u003eGold Miners: -0.03\\u003cbr\\u003eST Corp Bond: 0.05\\u003cbr\\u003e\",\"\\u003cb\\u003eMaterials\\u003c\\u002fb\\u003e\\u003cbr\\u003eAnnualized Returns: 9.4%\\u003cbr\\u003eAnnualized Volatility: 15.6%\\u003cbr\\u003e\\u003cbr\\u003eStrongest correlations with: \\u003cbr\\u003eSNP 500: 0.83\\u003cbr\\u003eDOW: 0.82\\u003cbr\\u003eFinance: 0.74\\u003cbr\\u003e\\u003cbr\\u003eWeakest correlations with: \\u003cbr\\u003eST Corp Bond: 0.00\\u003cbr\\u003eUSD: -0.00\\u003cbr\\u003eEuro: -0.02\\u003cbr\\u003e\",\"\\u003cb\\u003eEnergy\\u003c\\u002fb\\u003e\\u003cbr\\u003eAnnualized Returns: -2.6%\\u003cbr\\u003eAnnualized Volatility: 20.8%\\u003cbr\\u003e\\u003cbr\\u003eStrongest correlations with: \\u003cbr\\u003eMaterials: 0.73\\u003cbr\\u003eOil: 0.71\\u003cbr\\u003eSNP 500: 0.69\\u003cbr\\u003e\\u003cbr\\u003eWeakest correlations with: \\u003cbr\\u003eST Corp Bond: -0.00\\u003cbr\\u003eEuro: -0.01\\u003cbr\\u003eGold: -0.02\\u003cbr\\u003e\",\"\\u003cb\\u003eFinance\\u003c\\u002fb\\u003e\\u003cbr\\u003eAnnualized Returns: 13.0%\\u003cbr\\u003eAnnualized Volatility: 15.7%\\u003cbr\\u003e\\u003cbr\\u003eStrongest correlations with: \\u003cbr\\u003eDOW: 0.87\\u003cbr\\u003eSNP 500: 0.87\\u003cbr\\u003eMaterials: 0.74\\u003cbr\\u003e\\u003cbr\\u003eWeakest correlations with: \\u003cbr\\u003eSilver: -0.05\\u003cbr\\u003eGold Miners: -0.07\\u003cbr\\u003eGBP: 0.12\\u003cbr\\u003e\",\"\\u003cb\\u003eTech\\u003c\\u002fb\\u003e\\u003cbr\\u003eAnnualized Returns: 17.8%\\u003cbr\\u003eAnnualized Volatility: 14.3%\\u003cbr\\u003e\\u003cbr\\u003eStrongest correlations with: \\u003cbr\\u003eSNP 500: 0.90\\u003cbr\\u003eDOW: 0.85\\u003cbr\\u003eVXX: -0.75\\u003cbr\\u003e\\u003cbr\\u003eWeakest correlations with: \\u003cbr\\u003eST Corp Bond: 0.01\\u003cbr\\u003eSilver: 0.03\\u003cbr\\u003eGold Miners: 0.06\\u003cbr\\u003e\",\"\\u003cb\\u003eUtilities\\u003c\\u002fb\\u003e\\u003cbr\\u003eAnnualized Returns: 12.3%\\u003cbr\\u003eAnnualized Volatility: 14.3%\\u003cbr\\u003e\\u003cbr\\u003eStrongest correlations with: \\u003cbr\\u003eUS real estate: 0.62\\u003cbr\\u003eSNP 500: 0.42\\u003cbr\\u003eDOW: 0.40\\u003cbr\\u003e\\u003cbr\\u003eWeakest correlations with: \\u003cbr\\u003eYen: 0.04\\u003cbr\\u003eOil: 0.07\\u003cbr\\u003eCHF: 0.07\\u003cbr\\u003e\",\"\\u003cb\\u003eST Corp Bond\\u003c\\u002fb\\u003e\\u003cbr\\u003eAnnualized Returns: 1.2%\\u003cbr\\u003eAnnualized Volatility: 0.9%\\u003cbr\\u003e\\u003cbr\\u003eStrongest correlations with: \\u003cbr\\u003eBonds Global: 0.60\\u003cbr\\u003eCorp Bond: 0.58\\u003cbr\\u003e10yr treasuries: 0.58\\u003cbr\\u003e\\u003cbr\\u003eWeakest correlations with: \\u003cbr\\u003eMaterials: 0.00\\u003cbr\\u003eEnergy: -0.00\\u003cbr\\u003eTech: 0.01\\u003cbr\\u003e\",\"\\u003cb\\u003eCHF\\u003c\\u002fb\\u003e\\u003cbr\\u003eAnnualized Returns: -3.2%\\u003cbr\\u003eAnnualized Volatility: 11.8%\\u003cbr\\u003e\\u003cbr\\u003eStrongest correlations with: \\u003cbr\\u003eUSD: -0.58\\u003cbr\\u003eEuro: 0.53\\u003cbr\\u003eYen: 0.39\\u003cbr\\u003e\\u003cbr\\u003eWeakest correlations with: \\u003cbr\\u003eOil: 0.00\\u003cbr\\u003ePacifix ex Japan: -0.01\\u003cbr\\u003eItaly: 0.01\\u003cbr\\u003e\"],\"marker\":{\"color\":[\"#9eccb7\",\"#ffa09b\",\"#9eccb7\",\"#9eccb7\",\"#9eccb7\",\"#9eccb7\",\"#9eccb7\",\"#9eccb7\",\"#9eccb7\",\"#9eccb7\",\"#9eccb7\",\"#9eccb7\",\"#ffa09b\",\"#ffa09b\",\"#ffa09b\",\"#9eccb7\",\"#ffa09b\",\"#ffa09b\",\"#ffa09b\",\"#9eccb7\",\"#9eccb7\",\"#9eccb7\",\"#9eccb7\",\"#ffa09b\",\"#9eccb7\",\"#9eccb7\",\"#9eccb7\",\"#ffa09b\",\"#9eccb7\",\"#9eccb7\",\"#9eccb7\",\"#ffa09b\",\"#9eccb7\",\"#ffa09b\",\"#9eccb7\",\"#9eccb7\",\"#9eccb7\",\"#9eccb7\",\"#ffa09b\"],\"line\":{\"width\":1},\"size\":[8.409962668180937,16.524876267989818,17.7498353842169,10.403416190734509,10.53709598744569,11.788905944056836,8.74128497140116,12.018545507968037,8.086765277867391,13.672562505704223,11.597668231034088,4.000588539017547,11.373755562808794,11.277544145227461,10.478913401298094,13.724484396832173,9.974741121453453,3.78139955026892,5.16239106325131,8.552093624728395,15.226449669612531,9.333975515026662,10.816214686027195,13.012444619200147,17.038389976013647,6.562382254765895,13.190086272365527,26.116645047013265,8.841394865569645,10.163491593442695,12.997150911568347,44.62053536030952,15.307855776949758,8.019867967649972,17.99398503323159,21.086276557424682,17.527129395409723,5.401409819263998,8.931243120025815]},\"mode\":\"markers+text\",\"showlegend\":false,\"text\":[\"Bonds Global\",\"Commodities\",\"DOW\",\"Emerg Markets\",\"EAFE\",\"Emerg Markets Bonds\",\"Pacifix ex Japan\",\"Germany\",\"Italy\",\"Japan\",\"France\",\"UK\",\"GBP\",\"China Large Cap\",\"Euro\",\"China\",\"Yen\",\"Gold Miners\",\"Gold\",\"10yr treasuries\",\"US real estate\",\"High yield Bond\",\"Corp Bond\",\"Silver\",\"SNP 500\",\"Bonds II\",\"20+ Treasuries\",\"Oil\",\"USD\",\"Europe\",\"Pacific \",\"VXX\",\"Materials\",\"Energy\",\"Finance\",\"Tech\",\"Utilities\",\"ST Corp Bond\",\"CHF\"],\"textfont\":{\"size\":7},\"textposition\":\"top center\",\"x\":[-0.852973490937021,0.7906472362311103,0.2806013661773533,0.34034314060914755,0.1421953455889953,0.3795158112641465,0.20906631029549366,0.41845328131771314,0.1780510664375598,0.45584788949160404,0.2443157226664489,0.047865915053243814,-0.15889415644095095,0.9341234250845958,-0.09184893227770002,0.4298023733483412,-0.6689700100537935,-0.8040823265597851,-0.7455218043352324,-0.8434157900224815,0.3375092586508005,0.3308449554978919,-0.9468359222931123,-0.8384745032475138,0.10424019514322677,-0.9841082787557562,-1.0,0.9139893513518759,-0.4179779976088588,0.12927038614981143,0.24324762237346736,0.3114107966448149,0.1774967918648546,0.5619968493011966,0.3863306125656832,0.3773898883216857,0.39491062161354296,-0.757656205784724,-0.008706794727676527],\"y\":[0.4281620498436846,-0.2676566304659375,-0.1583591420594531,-0.4005363087174711,-0.28502321323300417,-0.5638242995537752,-0.33777576839718415,-0.04683052334757917,-0.20811887006301544,-0.13728029288325672,-0.2777738663242572,0.0644677353683003,0.25968460935420756,-0.24655373299224173,0.45570564563162164,-0.2272563545093033,0.2740068309334503,-0.086839572284793,0.08553234831443407,0.5562473816939533,0.06944466584758013,-0.029950912923885235,0.5422707881861795,-0.22566188707083407,-0.20044138461208424,0.3861083649704447,0.47365169153463155,-0.34492772896835544,0.2776577285458881,-0.11915143672924033,-0.013718129853848309,-0.3132672619679723,-0.0571032236650653,-0.21911655486254783,-0.1249613304631798,-0.2766797879011798,0.2205466385846162,0.47709703686520427,0.5982246981752685],\"type\":\"scatter\"}],                        {\"template\":{\"data\":{\"histogram2dcontour\":[{\"type\":\"histogram2dcontour\",\"colorbar\":{\"outlinewidth\":0,\"ticks\":\"\"},\"colorscale\":[[0.0,\"#0d0887\"],[0.1111111111111111,\"#46039f\"],[0.2222222222222222,\"#7201a8\"],[0.3333333333333333,\"#9c179e\"],[0.4444444444444444,\"#bd3786\"],[0.5555555555555556,\"#d8576b\"],[0.6666666666666666,\"#ed7953\"],[0.7777777777777778,\"#fb9f3a\"],[0.8888888888888888,\"#fdca26\"],[1.0,\"#f0f921\"]]}],\"choropleth\":[{\"type\":\"choropleth\",\"colorbar\":{\"outlinewidth\":0,\"ticks\":\"\"}}],\"histogram2d\":[{\"type\":\"histogram2d\",\"colorbar\":{\"outlinewidth\":0,\"ticks\":\"\"},\"colorscale\":[[0.0,\"#0d0887\"],[0.1111111111111111,\"#46039f\"],[0.2222222222222222,\"#7201a8\"],[0.3333333333333333,\"#9c179e\"],[0.4444444444444444,\"#bd3786\"],[0.5555555555555556,\"#d8576b\"],[0.6666666666666666,\"#ed7953\"],[0.7777777777777778,\"#fb9f3a\"],[0.8888888888888888,\"#fdca26\"],[1.0,\"#f0f921\"]]}],\"heatmap\":[{\"type\":\"heatmap\",\"colorbar\":{\"outlinewidth\":0,\"ticks\":\"\"},\"colorscale\":[[0.0,\"#0d0887\"],[0.1111111111111111,\"#46039f\"],[0.2222222222222222,\"#7201a8\"],[0.3333333333333333,\"#9c179e\"],[0.4444444444444444,\"#bd3786\"],[0.5555555555555556,\"#d8576b\"],[0.6666666666666666,\"#ed7953\"],[0.7777777777777778,\"#fb9f3a\"],[0.8888888888888888,\"#fdca26\"],[1.0,\"#f0f921\"]]}],\"heatmapgl\":[{\"type\":\"heatmapgl\",\"colorbar\":{\"outlinewidth\":0,\"ticks\":\"\"},\"colorscale\":[[0.0,\"#0d0887\"],[0.1111111111111111,\"#46039f\"],[0.2222222222222222,\"#7201a8\"],[0.3333333333333333,\"#9c179e\"],[0.4444444444444444,\"#bd3786\"],[0.5555555555555556,\"#d8576b\"],[0.6666666666666666,\"#ed7953\"],[0.7777777777777778,\"#fb9f3a\"],[0.8888888888888888,\"#fdca26\"],[1.0,\"#f0f921\"]]}],\"contourcarpet\":[{\"type\":\"contourcarpet\",\"colorbar\":{\"outlinewidth\":0,\"ticks\":\"\"}}],\"contour\":[{\"type\":\"contour\",\"colorbar\":{\"outlinewidth\":0,\"ticks\":\"\"},\"colorscale\":[[0.0,\"#0d0887\"],[0.1111111111111111,\"#46039f\"],[0.2222222222222222,\"#7201a8\"],[0.3333333333333333,\"#9c179e\"],[0.4444444444444444,\"#bd3786\"],[0.5555555555555556,\"#d8576b\"],[0.6666666666666666,\"#ed7953\"],[0.7777777777777778,\"#fb9f3a\"],[0.8888888888888888,\"#fdca26\"],[1.0,\"#f0f921\"]]}],\"surface\":[{\"type\":\"surface\",\"colorbar\":{\"outlinewidth\":0,\"ticks\":\"\"},\"colorscale\":[[0.0,\"#0d0887\"],[0.1111111111111111,\"#46039f\"],[0.2222222222222222,\"#7201a8\"],[0.3333333333333333,\"#9c179e\"],[0.4444444444444444,\"#bd3786\"],[0.5555555555555556,\"#d8576b\"],[0.6666666666666666,\"#ed7953\"],[0.7777777777777778,\"#fb9f3a\"],[0.8888888888888888,\"#fdca26\"],[1.0,\"#f0f921\"]]}],\"mesh3d\":[{\"type\":\"mesh3d\",\"colorbar\":{\"outlinewidth\":0,\"ticks\":\"\"}}],\"scatter\":[{\"fillpattern\":{\"fillmode\":\"overlay\",\"size\":10,\"solidity\":0.2},\"type\":\"scatter\"}],\"parcoords\":[{\"type\":\"parcoords\",\"line\":{\"colorbar\":{\"outlinewidth\":0,\"ticks\":\"\"}}}],\"scatterpolargl\":[{\"type\":\"scatterpolargl\",\"marker\":{\"colorbar\":{\"outlinewidth\":0,\"ticks\":\"\"}}}],\"bar\":[{\"error_x\":{\"color\":\"#2a3f5f\"},\"error_y\":{\"color\":\"#2a3f5f\"},\"marker\":{\"line\":{\"color\":\"#E5ECF6\",\"width\":0.5},\"pattern\":{\"fillmode\":\"overlay\",\"size\":10,\"solidity\":0.2}},\"type\":\"bar\"}],\"scattergeo\":[{\"type\":\"scattergeo\",\"marker\":{\"colorbar\":{\"outlinewidth\":0,\"ticks\":\"\"}}}],\"scatterpolar\":[{\"type\":\"scatterpolar\",\"marker\":{\"colorbar\":{\"outlinewidth\":0,\"ticks\":\"\"}}}],\"histogram\":[{\"marker\":{\"pattern\":{\"fillmode\":\"overlay\",\"size\":10,\"solidity\":0.2}},\"type\":\"histogram\"}],\"scattergl\":[{\"type\":\"scattergl\",\"marker\":{\"colorbar\":{\"outlinewidth\":0,\"ticks\":\"\"}}}],\"scatter3d\":[{\"type\":\"scatter3d\",\"line\":{\"colorbar\":{\"outlinewidth\":0,\"ticks\":\"\"}},\"marker\":{\"colorbar\":{\"outlinewidth\":0,\"ticks\":\"\"}}}],\"scattermapbox\":[{\"type\":\"scattermapbox\",\"marker\":{\"colorbar\":{\"outlinewidth\":0,\"ticks\":\"\"}}}],\"scatterternary\":[{\"type\":\"scatterternary\",\"marker\":{\"colorbar\":{\"outlinewidth\":0,\"ticks\":\"\"}}}],\"scattercarpet\":[{\"type\":\"scattercarpet\",\"marker\":{\"colorbar\":{\"outlinewidth\":0,\"ticks\":\"\"}}}],\"carpet\":[{\"aaxis\":{\"endlinecolor\":\"#2a3f5f\",\"gridcolor\":\"white\",\"linecolor\":\"white\",\"minorgridcolor\":\"white\",\"startlinecolor\":\"#2a3f5f\"},\"baxis\":{\"endlinecolor\":\"#2a3f5f\",\"gridcolor\":\"white\",\"linecolor\":\"white\",\"minorgridcolor\":\"white\",\"startlinecolor\":\"#2a3f5f\"},\"type\":\"carpet\"}],\"table\":[{\"cells\":{\"fill\":{\"color\":\"#EBF0F8\"},\"line\":{\"color\":\"white\"}},\"header\":{\"fill\":{\"color\":\"#C8D4E3\"},\"line\":{\"color\":\"white\"}},\"type\":\"table\"}],\"barpolar\":[{\"marker\":{\"line\":{\"color\":\"#E5ECF6\",\"width\":0.5},\"pattern\":{\"fillmode\":\"overlay\",\"size\":10,\"solidity\":0.2}},\"type\":\"barpolar\"}],\"pie\":[{\"automargin\":true,\"type\":\"pie\"}]},\"layout\":{\"autotypenumbers\":\"strict\",\"colorway\":[\"#636efa\",\"#EF553B\",\"#00cc96\",\"#ab63fa\",\"#FFA15A\",\"#19d3f3\",\"#FF6692\",\"#B6E880\",\"#FF97FF\",\"#FECB52\"],\"font\":{\"color\":\"#2a3f5f\"},\"hovermode\":\"closest\",\"hoverlabel\":{\"align\":\"left\"},\"paper_bgcolor\":\"white\",\"plot_bgcolor\":\"#E5ECF6\",\"polar\":{\"bgcolor\":\"#E5ECF6\",\"angularaxis\":{\"gridcolor\":\"white\",\"linecolor\":\"white\",\"ticks\":\"\"},\"radialaxis\":{\"gridcolor\":\"white\",\"linecolor\":\"white\",\"ticks\":\"\"}},\"ternary\":{\"bgcolor\":\"#E5ECF6\",\"aaxis\":{\"gridcolor\":\"white\",\"linecolor\":\"white\",\"ticks\":\"\"},\"baxis\":{\"gridcolor\":\"white\",\"linecolor\":\"white\",\"ticks\":\"\"},\"caxis\":{\"gridcolor\":\"white\",\"linecolor\":\"white\",\"ticks\":\"\"}},\"coloraxis\":{\"colorbar\":{\"outlinewidth\":0,\"ticks\":\"\"}},\"colorscale\":{\"sequential\":[[0.0,\"#0d0887\"],[0.1111111111111111,\"#46039f\"],[0.2222222222222222,\"#7201a8\"],[0.3333333333333333,\"#9c179e\"],[0.4444444444444444,\"#bd3786\"],[0.5555555555555556,\"#d8576b\"],[0.6666666666666666,\"#ed7953\"],[0.7777777777777778,\"#fb9f3a\"],[0.8888888888888888,\"#fdca26\"],[1.0,\"#f0f921\"]],\"sequentialminus\":[[0.0,\"#0d0887\"],[0.1111111111111111,\"#46039f\"],[0.2222222222222222,\"#7201a8\"],[0.3333333333333333,\"#9c179e\"],[0.4444444444444444,\"#bd3786\"],[0.5555555555555556,\"#d8576b\"],[0.6666666666666666,\"#ed7953\"],[0.7777777777777778,\"#fb9f3a\"],[0.8888888888888888,\"#fdca26\"],[1.0,\"#f0f921\"]],\"diverging\":[[0,\"#8e0152\"],[0.1,\"#c51b7d\"],[0.2,\"#de77ae\"],[0.3,\"#f1b6da\"],[0.4,\"#fde0ef\"],[0.5,\"#f7f7f7\"],[0.6,\"#e6f5d0\"],[0.7,\"#b8e186\"],[0.8,\"#7fbc41\"],[0.9,\"#4d9221\"],[1,\"#276419\"]]},\"xaxis\":{\"gridcolor\":\"white\",\"linecolor\":\"white\",\"ticks\":\"\",\"title\":{\"standoff\":15},\"zerolinecolor\":\"white\",\"automargin\":true,\"zerolinewidth\":2},\"yaxis\":{\"gridcolor\":\"white\",\"linecolor\":\"white\",\"ticks\":\"\",\"title\":{\"standoff\":15},\"zerolinecolor\":\"white\",\"automargin\":true,\"zerolinewidth\":2},\"scene\":{\"xaxis\":{\"backgroundcolor\":\"#E5ECF6\",\"gridcolor\":\"white\",\"linecolor\":\"white\",\"showbackground\":true,\"ticks\":\"\",\"zerolinecolor\":\"white\",\"gridwidth\":2},\"yaxis\":{\"backgroundcolor\":\"#E5ECF6\",\"gridcolor\":\"white\",\"linecolor\":\"white\",\"showbackground\":true,\"ticks\":\"\",\"zerolinecolor\":\"white\",\"gridwidth\":2},\"zaxis\":{\"backgroundcolor\":\"#E5ECF6\",\"gridcolor\":\"white\",\"linecolor\":\"white\",\"showbackground\":true,\"ticks\":\"\",\"zerolinecolor\":\"white\",\"gridwidth\":2}},\"shapedefaults\":{\"line\":{\"color\":\"#2a3f5f\"}},\"annotationdefaults\":{\"arrowcolor\":\"#2a3f5f\",\"arrowhead\":0,\"arrowwidth\":1},\"geo\":{\"bgcolor\":\"white\",\"landcolor\":\"#E5ECF6\",\"subunitcolor\":\"white\",\"showland\":true,\"showlakes\":true,\"lakecolor\":\"white\"},\"title\":{\"x\":0.05},\"mapbox\":{\"style\":\"light\"}}},\"xaxis\":{\"title\":{\"text\":\"\",\"font\":{\"size\":20}},\"showgrid\":false,\"zeroline\":false,\"showline\":false,\"ticks\":\"\",\"showticklabels\":false},\"yaxis\":{\"title\":{\"text\":\"\",\"font\":{\"size\":20}},\"showgrid\":false,\"zeroline\":false,\"showline\":false,\"ticks\":\"\",\"showticklabels\":false},\"title\":{\"text\":\"Plotly - interactive minimum spanning tree\"},\"width\":800,\"height\":800,\"autosize\":false,\"showlegend\":false,\"hovermode\":\"closest\",\"plot_bgcolor\":\"#fff\"},                        {\"responsive\": true}                    ).then(function(){\n",
       "                            \n",
       "var gd = document.getElementById('0fb31313-4991-49d8-9cef-1c1bd4788676');\n",
       "var x = new MutationObserver(function (mutations, observer) {{\n",
       "        var display = window.getComputedStyle(gd).display;\n",
       "        if (!display || display === 'none') {{\n",
       "            console.log([gd, 'removed!']);\n",
       "            Plotly.purge(gd);\n",
       "            observer.disconnect();\n",
       "        }}\n",
       "}});\n",
       "\n",
       "// Listen for the removal of the full notebook cells\n",
       "var notebookContainer = gd.closest('#notebook-container');\n",
       "if (notebookContainer) {{\n",
       "    x.observe(notebookContainer, {childList: true});\n",
       "}}\n",
       "\n",
       "// Listen for the clearing of the current output cell\n",
       "var outputEl = gd.closest('.output');\n",
       "if (outputEl) {{\n",
       "    x.observe(outputEl, {childList: true});\n",
       "}}\n",
       "\n",
       "                        })                };                });            </script>        </div>"
      ]
     },
     "metadata": {},
     "output_type": "display_data"
    },
    {
     "data": {
      "text/html": [
       "\n",
       "            <p>Node sizes are proportional to the size of\n",
       "            annualised returns.<br>Node colours signify positive\n",
       "            or negative returns since beginning of the timeframe.</p>\n",
       "            "
      ],
      "text/plain": [
       "<IPython.core.display.HTML object>"
      ]
     },
     "metadata": {},
     "output_type": "display_data"
    },
    {
     "data": {
      "application/javascript": "\n            setTimeout(function() {\n                var nbb_cell_id = 69;\n                var nbb_unformatted_code = \"figAsset = plot_graph(assetData, 0.5)\\n\\nfigAsset.write_json(assetGraphJsonFile)\\nfigAsset2 = px.scatter()\\nfigAsset2.write_html(assetGraphImgFile)\";\n                var nbb_formatted_code = \"figAsset = plot_graph(assetData, 0.5)\\n\\nfigAsset.write_json(assetGraphJsonFile)\\nfigAsset2 = px.scatter()\\nfigAsset2.write_html(assetGraphImgFile)\";\n                var nbb_cells = Jupyter.notebook.get_cells();\n                for (var i = 0; i < nbb_cells.length; ++i) {\n                    if (nbb_cells[i].input_prompt_number == nbb_cell_id) {\n                        if (nbb_cells[i].get_text() == nbb_unformatted_code) {\n                             nbb_cells[i].set_text(nbb_formatted_code);\n                        }\n                        break;\n                    }\n                }\n            }, 500);\n            ",
      "text/plain": [
       "<IPython.core.display.Javascript object>"
      ]
     },
     "metadata": {},
     "output_type": "display_data"
    }
   ],
   "source": [
    "figAsset = plot_graph(assetData, 0.5)\n",
    "\n",
    "figAsset.write_json(assetGraphJsonFile)\n",
    "figAsset2 = px.scatter()\n",
    "figAsset2.write_html(assetGraphImgFile)"
   ]
  },
  {
   "cell_type": "code",
   "execution_count": 74,
   "metadata": {},
   "outputs": [
    {
     "data": {
      "application/javascript": "\n            setTimeout(function() {\n                var nbb_cell_id = 74;\n                var nbb_unformatted_code = \"## merged\\n#allData = pd.merge(assetData, etfData, how='outer', left_index=True, right_index=True)\\n##print(allData)\\n#plot_graph(allData, 0.5)\";\n                var nbb_formatted_code = \"## merged\\n# allData = pd.merge(assetData, etfData, how='outer', left_index=True, right_index=True)\\n##print(allData)\\n# plot_graph(allData, 0.5)\";\n                var nbb_cells = Jupyter.notebook.get_cells();\n                for (var i = 0; i < nbb_cells.length; ++i) {\n                    if (nbb_cells[i].input_prompt_number == nbb_cell_id) {\n                        if (nbb_cells[i].get_text() == nbb_unformatted_code) {\n                             nbb_cells[i].set_text(nbb_formatted_code);\n                        }\n                        break;\n                    }\n                }\n            }, 500);\n            ",
      "text/plain": [
       "<IPython.core.display.Javascript object>"
      ]
     },
     "metadata": {},
     "output_type": "display_data"
    }
   ],
   "source": [
    "## merged\n",
    "#allData = pd.merge(assetData, etfData, how='outer', left_index=True, right_index=True)\n",
    "##print(allData)\n",
    "#plot_graph(allData, 0.5)"
   ]
  }
 ],
 "metadata": {
  "hide_input": false,
  "kernelspec": {
   "display_name": "Python 3",
   "language": "python",
   "name": "python3"
  },
  "language_info": {
   "codemirror_mode": {
    "name": "ipython",
    "version": 3
   },
   "file_extension": ".py",
   "mimetype": "text/x-python",
   "name": "python",
   "nbconvert_exporter": "python",
   "pygments_lexer": "ipython3",
   "version": "3.10.12"
  },
  "toc": {
   "base_numbering": 1,
   "nav_menu": {},
   "number_sections": true,
   "sideBar": true,
   "skip_h1_title": false,
   "title_cell": "Table of Contents",
   "title_sidebar": "Contents",
   "toc_cell": false,
   "toc_position": {},
   "toc_section_display": true,
   "toc_window_display": false
  },
  "varInspector": {
   "cols": {
    "lenName": 16,
    "lenType": 16,
    "lenVar": 40
   },
   "kernels_config": {
    "python": {
     "delete_cmd_postfix": "",
     "delete_cmd_prefix": "del ",
     "library": "var_list.py",
     "varRefreshCmd": "print(var_dic_list())"
    },
    "r": {
     "delete_cmd_postfix": ") ",
     "delete_cmd_prefix": "rm(",
     "library": "var_list.r",
     "varRefreshCmd": "cat(var_dic_list()) "
    }
   },
   "types_to_exclude": [
    "module",
    "function",
    "builtin_function_or_method",
    "instance",
    "_Feature"
   ],
   "window_display": false
  }
 },
 "nbformat": 4,
 "nbformat_minor": 2
}
